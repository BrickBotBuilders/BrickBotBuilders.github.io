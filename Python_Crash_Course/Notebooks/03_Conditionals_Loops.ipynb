{
 "cells": [
  {
   "cell_type": "markdown",
   "metadata": {
    "colab_type": "text",
    "id": "WEIs8PRG_pHF"
   },
   "source": [
    "# If Statement"
   ]
  },
  {
   "cell_type": "code",
   "execution_count": null,
   "metadata": {
    "colab": {},
    "colab_type": "code",
    "id": "XVDwu1JiQulq"
   },
   "outputs": [],
   "source": [
    "a = 9"
   ]
  },
  {
   "cell_type": "code",
   "execution_count": null,
   "metadata": {
    "colab": {},
    "colab_type": "code",
    "id": "ipwZjDf9Qult"
   },
   "outputs": [],
   "source": [
    "if a<10:\n",
    "    print(\"a is less than 10\")\n",
    "print(\"a assessed\")"
   ]
  },
  {
   "cell_type": "markdown",
   "metadata": {
    "colab_type": "text",
    "id": "4i5qiNRNQulw"
   },
   "source": [
    "USING input()"
   ]
  },
  {
   "cell_type": "code",
   "execution_count": null,
   "metadata": {
    "colab": {},
    "colab_type": "code",
    "id": "QJ2TmsBd_9NM"
   },
   "outputs": [],
   "source": [
    "a = eval(input(\"Please input a number: \"))"
   ]
  },
  {
   "cell_type": "code",
   "execution_count": null,
   "metadata": {
    "colab": {},
    "colab_type": "code",
    "id": "UVtoFm3bADZ7"
   },
   "outputs": [],
   "source": [
    "if a < 0:\n",
    "    a = -a\n",
    "print(\"The absolute value is\", a)"
   ]
  },
  {
   "cell_type": "markdown",
   "metadata": {
    "colab_type": "text",
    "id": "IJddSr3LAIha"
   },
   "source": [
    "# If-Else Statement"
   ]
  },
  {
   "cell_type": "code",
   "execution_count": null,
   "metadata": {
    "colab": {},
    "colab_type": "code",
    "id": "K9iahH82Qul2"
   },
   "outputs": [],
   "source": [
    "a = 12"
   ]
  },
  {
   "cell_type": "code",
   "execution_count": null,
   "metadata": {
    "colab": {},
    "colab_type": "code",
    "id": "E2OUil2jQul4"
   },
   "outputs": [],
   "source": [
    "if a<10:\n",
    "    print(\"a is less than 10\")\n",
    "else:\n",
    "    print(\"a is greater than 10\")\n",
    "print(\"a assessed\")"
   ]
  },
  {
   "cell_type": "code",
   "execution_count": null,
   "metadata": {
    "colab": {},
    "colab_type": "code",
    "id": "G7A1fz3KQul6"
   },
   "outputs": [],
   "source": [
    "a = 10\n",
    "b = \"less than 5\" if a<5 else \"more than five\"\n",
    "print(b)"
   ]
  },
  {
   "cell_type": "code",
   "execution_count": null,
   "metadata": {
    "colab": {},
    "colab_type": "code",
    "id": "RsOzhB4rQul9"
   },
   "outputs": [],
   "source": [
    "# In a single line\n",
    "x, y = 50, 25\n",
    "small = x if x < y else y\n",
    "print(small)"
   ]
  },
  {
   "cell_type": "markdown",
   "metadata": {
    "colab_type": "text",
    "id": "APQuc6xLQul_"
   },
   "source": [
    "USING input()"
   ]
  },
  {
   "cell_type": "code",
   "execution_count": null,
   "metadata": {
    "colab": {},
    "colab_type": "code",
    "id": "vh8uLWtg_Lbh"
   },
   "outputs": [],
   "source": [
    "a = int(input(\"Please input a positive integer: \"))"
   ]
  },
  {
   "cell_type": "code",
   "execution_count": null,
   "metadata": {
    "colab": {},
    "colab_type": "code",
    "id": "Pspqqd4j_ToX"
   },
   "outputs": [],
   "source": [
    "if a < 0:\n",
    "  print('You have entered a negative number')\n",
    "else:\n",
    "  if a%2 == 0:\n",
    "    print(a, \"is an even number.\")\n",
    "  else:\n",
    "    print(a, \"is an odd number.\")"
   ]
  },
  {
   "cell_type": "markdown",
   "metadata": {
    "colab_type": "text",
    "id": "e_vWeMBjC1fl"
   },
   "source": []
  },
  {
   "cell_type": "markdown",
   "metadata": {
    "colab_type": "text",
    "id": "BJ1DjK_oCSBn"
   },
   "source": [
    "# if-elif-else example"
   ]
  },
  {
   "cell_type": "code",
   "execution_count": null,
   "metadata": {
    "colab": {},
    "colab_type": "code",
    "id": "ISJpXVUhCP_g"
   },
   "outputs": [],
   "source": [
    "# Suppose we want to know if the solutions to the quadratic equation $ax^2+bx+c=0$ \n",
    "# are real, imaginary, or complex for a given set of coefficients a, b, and c. "
   ]
  },
  {
   "cell_type": "code",
   "execution_count": null,
   "metadata": {
    "colab": {},
    "colab_type": "code",
    "id": "JlzTEnZUC4AE"
   },
   "outputs": [],
   "source": [
    "a = float(input(\"What is the coefficient a? \"))"
   ]
  },
  {
   "cell_type": "code",
   "execution_count": null,
   "metadata": {
    "colab": {},
    "colab_type": "code",
    "id": "uPaPGLSYCmTC"
   },
   "outputs": [],
   "source": [
    "b = float(input(\"What is the coefficient b? \"))"
   ]
  },
  {
   "cell_type": "code",
   "execution_count": null,
   "metadata": {
    "colab": {},
    "colab_type": "code",
    "id": "7iRxsK75DBbx"
   },
   "outputs": [],
   "source": [
    "c = float(input(\"What is the coefficient c? \"))"
   ]
  },
  {
   "cell_type": "code",
   "execution_count": null,
   "metadata": {
    "colab": {},
    "colab_type": "code",
    "id": "VPtVOiCYDH2O"
   },
   "outputs": [],
   "source": [
    "from math import sqrt\n",
    "d = b*b - 4.*a*c\n",
    "if d >= 0.0:\n",
    "    print(\"Solutions are real\")         # block 1   \n",
    "    x1 = (-b+sqrt(d))/2.0/a\n",
    "    x2 = (-b-sqrt(d))/2.0/a\n",
    "    print(\"Solution1 = \", x1)\n",
    "    print(\"Solution2 = \", x2)    \n",
    "elif b == 0.0:\n",
    "    print(\"Solutions are imaginary\")    # block 2\n",
    "else:\n",
    "    print(\"Solutions are complex\")      # block 3\n",
    "print(\"Finished!\")"
   ]
  },
  {
   "cell_type": "code",
   "execution_count": null,
   "metadata": {
    "colab": {},
    "colab_type": "code",
    "id": "uK9UFdFMDMua"
   },
   "outputs": [],
   "source": [
    "# EXAMPLE-2\n",
    "# First learn how to generate random integers"
   ]
  },
  {
   "cell_type": "code",
   "execution_count": null,
   "metadata": {
    "colab": {},
    "colab_type": "code",
    "id": "iarPFlDhGEde"
   },
   "outputs": [],
   "source": [
    "from random import randint\n",
    "# let's generate a number between 0 and 100.\n",
    "for x in range(10):\n",
    "  print(randint(0,101))"
   ]
  },
  {
   "cell_type": "code",
   "execution_count": null,
   "metadata": {
    "colab": {},
    "colab_type": "code",
    "id": "lboWE8NcGOkm"
   },
   "outputs": [],
   "source": [
    "# Let's assign grades"
   ]
  },
  {
   "cell_type": "code",
   "execution_count": null,
   "metadata": {
    "colab": {},
    "colab_type": "code",
    "id": "ZXZjBzWNHLTV"
   },
   "outputs": [],
   "source": [
    "x = randint(0,101)\n",
    "if x>80:\n",
    "  print('Exam Score:', x, 'and assigned grade is A')\n",
    "elif x>60:\n",
    "  print('Exam Score:', x, 'and assigned grade is B')\n",
    "elif x>50:\n",
    "  print('Exam Score:', x, 'and assigned grade is C')\n",
    "elif x>=40:\n",
    "  print('Exam Score:', x, 'and assigned grade is D')\n",
    "else:\n",
    "  print('Exam Score:', x, 'and assigned grade is F')"
   ]
  },
  {
   "cell_type": "markdown",
   "metadata": {
    "colab_type": "text",
    "id": "mkWHebbXQumb"
   },
   "source": [
    "## LOGICAL OPERATORS"
   ]
  },
  {
   "cell_type": "code",
   "execution_count": null,
   "metadata": {
    "colab": {},
    "colab_type": "code",
    "id": "t797TYK6HaG_"
   },
   "outputs": [],
   "source": [
    "# Logical operators in Python\n",
    "# <\tless than\n",
    "# <=\tless than or equal to\n",
    "# >\tgreater than\n",
    "# >=\tgreater than or equal to\n",
    "# ==\tequal\n",
    "# !=\tnot equal\n",
    "# and\tboth must be true\n",
    "# or\tone or both must be true\n",
    "# not\treverses the truth value"
   ]
  },
  {
   "cell_type": "code",
   "execution_count": null,
   "metadata": {
    "colab": {},
    "colab_type": "code",
    "id": "H7LtCc3CJAfF"
   },
   "outputs": [],
   "source": [
    "a, b = 5, 10"
   ]
  },
  {
   "cell_type": "code",
   "execution_count": null,
   "metadata": {
    "colab": {},
    "colab_type": "code",
    "id": "pKh7LoN1J5ia"
   },
   "outputs": [],
   "source": [
    "a == 4"
   ]
  },
  {
   "cell_type": "code",
   "execution_count": null,
   "metadata": {
    "colab": {},
    "colab_type": "code",
    "id": "REwboHgNKmCp"
   },
   "outputs": [],
   "source": [
    "a == 5"
   ]
  },
  {
   "cell_type": "code",
   "execution_count": null,
   "metadata": {
    "colab": {},
    "colab_type": "code",
    "id": "V3vz9tNMLsA3"
   },
   "outputs": [],
   "source": [
    "a != 5"
   ]
  },
  {
   "cell_type": "code",
   "execution_count": null,
   "metadata": {
    "colab": {},
    "colab_type": "code",
    "id": "vk5ehnuhLt50"
   },
   "outputs": [],
   "source": [
    "a != 6"
   ]
  },
  {
   "cell_type": "code",
   "execution_count": null,
   "metadata": {
    "colab": {},
    "colab_type": "code",
    "id": "7uS2Fig-LvFk"
   },
   "outputs": [],
   "source": [
    "a < 5"
   ]
  },
  {
   "cell_type": "code",
   "execution_count": null,
   "metadata": {
    "colab": {},
    "colab_type": "code",
    "id": "nsI0h4pCLwN_"
   },
   "outputs": [],
   "source": [
    "a <=5"
   ]
  },
  {
   "cell_type": "code",
   "execution_count": null,
   "metadata": {
    "colab": {},
    "colab_type": "code",
    "id": "wcENbLquLxcC"
   },
   "outputs": [],
   "source": [
    "b > 8"
   ]
  },
  {
   "cell_type": "code",
   "execution_count": null,
   "metadata": {
    "colab": {},
    "colab_type": "code",
    "id": "wng6MrpPLzbq"
   },
   "outputs": [],
   "source": [
    "a>2 and b<20"
   ]
  },
  {
   "cell_type": "code",
   "execution_count": null,
   "metadata": {
    "colab": {},
    "colab_type": "code",
    "id": "7-bIHBYaL1Wt"
   },
   "outputs": [],
   "source": [
    "a>2 and b<2"
   ]
  },
  {
   "cell_type": "code",
   "execution_count": null,
   "metadata": {
    "colab": {},
    "colab_type": "code",
    "id": "0RTZfjL5L2y0"
   },
   "outputs": [],
   "source": [
    "a>2 or b>10"
   ]
  },
  {
   "cell_type": "code",
   "execution_count": null,
   "metadata": {
    "colab": {},
    "colab_type": "code",
    "id": "GeyMaZh-L4Ll"
   },
   "outputs": [],
   "source": [
    "not a>2"
   ]
  },
  {
   "cell_type": "code",
   "execution_count": null,
   "metadata": {
    "colab": {},
    "colab_type": "code",
    "id": "tC2hYpUFL60K"
   },
   "outputs": [],
   "source": [
    "not a<2"
   ]
  },
  {
   "cell_type": "markdown",
   "metadata": {
    "colab_type": "text",
    "id": "6UcaLwxKMBqn"
   },
   "source": [
    "# For Loops"
   ]
  },
  {
   "cell_type": "code",
   "execution_count": null,
   "metadata": {
    "colab": {},
    "colab_type": "code",
    "id": "RGfTweb4Qum_"
   },
   "outputs": [],
   "source": [
    "for i in (1,2,3,4,5,6,7,8,9):\n",
    "    print(i)"
   ]
  },
  {
   "cell_type": "code",
   "execution_count": null,
   "metadata": {
    "colab": {},
    "colab_type": "code",
    "id": "98E0LH0YQunA"
   },
   "outputs": [],
   "source": [
    "for name in (\"Dale\", \"Albert\", \"Gordon\", \"Tamara\"):\n",
    "    print(name)"
   ]
  },
  {
   "cell_type": "code",
   "execution_count": null,
   "metadata": {
    "colab": {},
    "colab_type": "code",
    "id": "8PEyO-20QunC"
   },
   "outputs": [],
   "source": [
    "for i in range(6):\n",
    "    print(i)"
   ]
  },
  {
   "cell_type": "code",
   "execution_count": null,
   "metadata": {
    "colab": {},
    "colab_type": "code",
    "id": "68jnAqN7QunD"
   },
   "outputs": [],
   "source": [
    "a = 0\n",
    "for i in range(5,10):\n",
    "    a = a + i\n",
    "    print(a)"
   ]
  },
  {
   "cell_type": "code",
   "execution_count": null,
   "metadata": {
    "colab": {},
    "colab_type": "code",
    "id": "UXxVKhg2MO1z"
   },
   "outputs": [],
   "source": [
    "# let's add odd numbers from 1 to 9\n",
    "y = 0\n",
    "for x in range(1, 10, 2):\n",
    "  y = y+x\n",
    "  print(\"x is\", x, \" and current y is\", y)"
   ]
  },
  {
   "cell_type": "code",
   "execution_count": null,
   "metadata": {
    "colab": {},
    "colab_type": "code",
    "id": "VLaYnDsNMDat"
   },
   "outputs": [],
   "source": [
    "for dogname in [\"Max\", \"Molly\", \"Buster\", \"Maggie\", \"Lucy\"]:\n",
    "    print(\"The name\", dogname,\"has\", len(dogname), \"characters\")    \n",
    "print(\"All done.\")\n",
    "print(\"All done.\")\n",
    "print(\"Coffee.\")\n"
   ]
  },
  {
   "cell_type": "code",
   "execution_count": null,
   "metadata": {
    "colab": {},
    "colab_type": "code",
    "id": "8NE9Mx6sMHe-"
   },
   "outputs": [],
   "source": [
    "names = (\"Dale\",\"Albert\",\"Gordon\",\"Tamara\",\"Philip\",\"Chester\",\"Windom\")\n",
    "for name in names[0:5:2]:\n",
    "    print(name)"
   ]
  },
  {
   "cell_type": "code",
   "execution_count": null,
   "metadata": {
    "colab": {},
    "colab_type": "code",
    "id": "wc-ZFmwsQunK"
   },
   "outputs": [],
   "source": [
    "names = (\"Dale\",\"Albert\",\"Gordon\",\"Tamara\",\"Philip\",\"Chester\",\"Windom\")\n",
    "for i in range(len(names)):\n",
    "    print(i, names[i])"
   ]
  },
  {
   "cell_type": "code",
   "execution_count": null,
   "metadata": {
    "colab": {},
    "colab_type": "code",
    "id": "-4Ps3-eWMSoO"
   },
   "outputs": [],
   "source": [
    "# Example\n",
    "tv_shows = [['How I Met Your Mother', 'Friends', 'Silicon Valley'],\n",
    "    ['Family Guy', 'South Park', 'Rick and Morty'],\n",
    "    ['Breaking Bad', 'Game of Thrones', 'The Wire']]"
   ]
  },
  {
   "cell_type": "code",
   "execution_count": null,
   "metadata": {
    "colab": {},
    "colab_type": "code",
    "id": "JVdKMgYUOLY1"
   },
   "outputs": [],
   "source": [
    "for sublist in tv_shows:\n",
    "    for show_name in sublist:\n",
    "        char_num = len(show_name)\n",
    "        print(\"The title \" + show_name + \" is \" + str(char_num) + \" characters long.\")"
   ]
  },
  {
   "cell_type": "code",
   "execution_count": null,
   "metadata": {
    "colab": {},
    "colab_type": "code",
    "id": "-Gtz9Ar_ONYz"
   },
   "outputs": [],
   "source": [
    "# Example-4\n",
    "# let's take square of each element of the array an array\n",
    "import numpy as np\n",
    "a = np.linspace(0, 10, 3)\n",
    "print(\"An array of numbers from 0 to 10\")\n",
    "print(a)\n",
    "for ii in range(len(a)):\n",
    "    a[ii] = a[ii]*a[ii]\n",
    "print(\"====== and their squares ========\")    \n",
    "print(a)"
   ]
  },
  {
   "cell_type": "code",
   "execution_count": null,
   "metadata": {
    "colab": {},
    "colab_type": "code",
    "id": "42dLKIf8PNXH"
   },
   "outputs": [],
   "source": [
    "# of course, we can do the same using np multiplication\n",
    "a = np.linspace(0, 10, 3)\n",
    "print(a)\n",
    "a = a*a\n",
    "print(a)"
   ]
  },
  {
   "cell_type": "code",
   "execution_count": null,
   "metadata": {
    "colab": {},
    "colab_type": "code",
    "id": "NiSwhwEvpLcg"
   },
   "outputs": [],
   "source": [
    "# NESTED FOR LOOPS!"
   ]
  },
  {
   "cell_type": "code",
   "execution_count": null,
   "metadata": {
    "colab": {},
    "colab_type": "code",
    "id": "1IJA_v-0P_DB"
   },
   "outputs": [],
   "source": [
    "for x in range(1, 4):\n",
    "    for y in range(5, 9):\n",
    "        print('%d * %d = %d' % (x, y, x*y))"
   ]
  },
  {
   "cell_type": "code",
   "execution_count": null,
   "metadata": {
    "colab": {},
    "colab_type": "code",
    "id": "Y_dyaFlXQuna"
   },
   "outputs": [],
   "source": [
    "data = [[0,1,2],[3,4,5]]\n",
    "print(data)\n",
    "print('_________________')\n",
    "for row in data:\n",
    "    for item in row:\n",
    "        print(item)"
   ]
  },
  {
   "cell_type": "code",
   "execution_count": null,
   "metadata": {
    "colab": {},
    "colab_type": "code",
    "id": "Bi_JS9fhQunc"
   },
   "outputs": [],
   "source": [
    "data = [[0,1,2],[3,4,5]]\n",
    "print('Number of rows=',str(len(data)))\n",
    "print('Number of columns=',str(len(data[0])))\n",
    "for i in range(len(data)):\n",
    "    for j in range(len(data[i])):\n",
    "        print (i,j,data[i][j])"
   ]
  },
  {
   "cell_type": "code",
   "execution_count": null,
   "metadata": {
    "colab": {},
    "colab_type": "code",
    "id": "C4vUplx0Qune"
   },
   "outputs": [],
   "source": [
    "data = [\n",
    "[0,1],\n",
    "[2,3],\n",
    "[4,5]\n",
    "]\n",
    "for a,b in data:\n",
    "    print (str(a) + \" \" + str(b))"
   ]
  },
  {
   "cell_type": "markdown",
   "metadata": {
    "colab_type": "text",
    "id": "jT3scL3vQg-1"
   },
   "source": [
    "# WHILE LOOPS"
   ]
  },
  {
   "cell_type": "code",
   "execution_count": null,
   "metadata": {
    "colab": {},
    "colab_type": "code",
    "id": "Srq11BpEQjkD"
   },
   "outputs": [],
   "source": [
    "# while [a condition is True]:\n",
    "#     [do something]"
   ]
  },
  {
   "cell_type": "code",
   "execution_count": null,
   "metadata": {
    "colab": {},
    "colab_type": "code",
    "id": "S_I0NngUQunh"
   },
   "outputs": [],
   "source": [
    "i = 1\n",
    "while (i < 10): \n",
    "    print (i)\n",
    "    i += 1"
   ]
  },
  {
   "cell_type": "code",
   "execution_count": null,
   "metadata": {},
   "outputs": [],
   "source": [
    "i = 0\n",
    "while (i < 10): \n",
    "    i += 1\n",
    "    print (i)"
   ]
  },
  {
   "cell_type": "code",
   "execution_count": null,
   "metadata": {},
   "outputs": [],
   "source": [
    "from math import sin, pi\n",
    "eps = 1e-7\n",
    "i = 0 \n",
    "while i<90:\n",
    "    if sin(i*pi/180)>=0.5-eps:\n",
    "        break\n",
    "    i = i + 1    \n",
    "print(i, sin(i*pi/180))"
   ]
  },
  {
   "cell_type": "code",
   "execution_count": null,
   "metadata": {},
   "outputs": [],
   "source": [
    "sin(30*pi/180)"
   ]
  },
  {
   "cell_type": "code",
   "execution_count": null,
   "metadata": {
    "colab": {},
    "colab_type": "code",
    "id": "lijJF77KQuni"
   },
   "outputs": [],
   "source": [
    "# Let's find the number which is smaller than 1 million \n",
    "# and divisible by 17"
   ]
  },
  {
   "cell_type": "code",
   "execution_count": null,
   "metadata": {
    "colab": {},
    "colab_type": "code",
    "id": "9OBqz8xaQunl"
   },
   "outputs": [],
   "source": [
    "i = 1000000\n",
    "while (i != 0):\n",
    "    if (i % 17 == 0):\n",
    "        break\n",
    "    i -= 1\n",
    "print (i)"
   ]
  },
  {
   "cell_type": "code",
   "execution_count": null,
   "metadata": {
    "colab": {},
    "colab_type": "code",
    "id": "2u2Y1ti-Quno"
   },
   "outputs": [],
   "source": [
    "# let's check\n",
    "999991.0/17.0"
   ]
  },
  {
   "cell_type": "code",
   "execution_count": null,
   "metadata": {
    "colab": {},
    "colab_type": "code",
    "id": "QkvytR3cQorX"
   },
   "outputs": [],
   "source": [
    "# ANOTHER \"WHILE\" EXAMPLE: password\n",
    "password = ''\n",
    "trial_number = 0\n",
    "while password != 'abc123' and trial_number<3: \n",
    "    print('What is the password?')\n",
    "    password = input()\n",
    "    trial_number = trial_number+1\n",
    "if trial_number==3:\n",
    "  print(\"You have entered wrong password for 3 times\")\n",
    "else:\n",
    "  print('You have entered the correct password. You may enter.')"
   ]
  },
  {
   "cell_type": "code",
   "execution_count": null,
   "metadata": {
    "colab": {},
    "colab_type": "code",
    "id": "tARBxvZaRT3X"
   },
   "outputs": [],
   "source": [
    "# EXAMPLE-2\n",
    "# GUESSING GAME"
   ]
  },
  {
   "cell_type": "code",
   "execution_count": null,
   "metadata": {
    "colab": {},
    "colab_type": "code",
    "id": "rWuafeSSRoB9"
   },
   "outputs": [],
   "source": [
    "import random\n",
    "number = random.randint(1, 25)\n",
    "number_of_guesses = 0\n",
    "while number_of_guesses < 5:\n",
    "    print('Guess a number between 1 and 25:')\n",
    "    guess = input()\n",
    "    guess = int(guess)\n",
    "    number_of_guesses = number_of_guesses + 1\n",
    "    if guess == number:\n",
    "        print(Congratulations)\n",
    "        break"
   ]
  },
  {
   "cell_type": "code",
   "execution_count": null,
   "metadata": {
    "colab": {},
    "colab_type": "code",
    "id": "HNEvr9RTRrr7"
   },
   "outputs": [],
   "source": [
    "# EXAMPLE-3\n",
    "# Another guessing game (this time we will let user the know what the guess was)\n",
    "# Let's generate a random integer from 1 to 6. then ask the user to make a guess. \n",
    "# If it is the right guess, let user know.\n",
    "# otherwise let's ask them for another try.\n",
    "# but the user  can make 5 guesses at most\n",
    "print(\"The computer chosen an integer from 1 to 6 randomly. Try to guess it. You have 5 chances.\")\n",
    "x = randint(1,6)\n",
    "trial_number = 1\n",
    "while trial_number < 6:\n",
    "  a = int(input(\"Please enter an integer from 1 to 6: \"))\n",
    "  if a==x:    \n",
    "    print(\"You guessed it correctly. Randomly chosen interger was\", x)\n",
    "    break\n",
    "  else:\n",
    "    trial_number = trial_number+1\n",
    "if trial_number == 6:\n",
    "  print(\"The chosen number was \", x)"
   ]
  },
  {
   "cell_type": "code",
   "execution_count": null,
   "metadata": {
    "colab": {},
    "colab_type": "code",
    "id": "AjVepldoR60I"
   },
   "outputs": [],
   "source": [
    "# EXAMPLE-4\n",
    "# Age guessing game\n",
    "# We'll write a Python script that finds out your age in a maximum of 8 tries! \n",
    "# Your age has to be between 0 and 128\n",
    "# The script asks you only one type of question: guessing your age! # \n",
    "# (e.g. “Are you 67 years old?”) \n",
    "# And you can answer only one of these three options:\n",
    "# less\n",
    "# more\n",
    "# correct\n",
    "# Based on your answer the computer can come up with another guess until it finds out your exact age."
   ]
  },
  {
   "cell_type": "code",
   "execution_count": null,
   "metadata": {
    "colab": {},
    "colab_type": "code",
    "id": "cAF8jaGrSULU"
   },
   "outputs": [],
   "source": [
    "down = 0\n",
    "up = 129\n",
    "for i in range(1,10):\n",
    "    guessed_age = int((up + down) / 2)\n",
    "    answer = input('Are you ' + str(guessed_age) + \" years old?\")\n",
    "    if answer == 'correct':\n",
    "        print(\"Nice\")\n",
    "        break\n",
    "    elif answer == 'less':\n",
    "        up = guessed_age\n",
    "    elif answer == 'more':\n",
    "        down = guessed_age\n",
    "    else:\n",
    "        print('wrong answer')"
   ]
  },
  {
   "cell_type": "markdown",
   "metadata": {
    "colab_type": "text",
    "id": "TWqMtJqkQuny"
   },
   "source": [
    "### ZIPPING"
   ]
  },
  {
   "cell_type": "code",
   "execution_count": null,
   "metadata": {
    "colab": {},
    "colab_type": "code",
    "id": "Yz0Vu8kcQuny"
   },
   "outputs": [],
   "source": [
    "states = ['NY','MD','VA']\n",
    "capitals = [\"Albany\",'Annapolis','Richmond']\n",
    "z = zip(states,capitals)\n",
    "z"
   ]
  },
  {
   "cell_type": "code",
   "execution_count": null,
   "metadata": {
    "colab": {},
    "colab_type": "code",
    "id": "z_7Va6a2Qun0"
   },
   "outputs": [],
   "source": [
    "d = {}\n",
    "for t in z:\n",
    "    d[t[0]] = t[1]\n",
    "print(d)"
   ]
  },
  {
   "cell_type": "code",
   "execution_count": null,
   "metadata": {
    "colab": {},
    "colab_type": "code",
    "id": "-rFgNegeSWBc"
   },
   "outputs": [],
   "source": [
    "### ITERATORS"
   ]
  },
  {
   "cell_type": "code",
   "execution_count": null,
   "metadata": {
    "colab": {},
    "colab_type": "code",
    "id": "KN3Hryr-Qun3"
   },
   "outputs": [],
   "source": [
    "a = list(range(3))\n",
    "print(a)"
   ]
  },
  {
   "cell_type": "code",
   "execution_count": null,
   "metadata": {
    "colab": {},
    "colab_type": "code",
    "id": "xrjynwzMQun4"
   },
   "outputs": [],
   "source": [
    "# let's create an iterator\n",
    "it = iter(a)\n",
    "print(it)"
   ]
  },
  {
   "cell_type": "code",
   "execution_count": null,
   "metadata": {
    "colab": {},
    "colab_type": "code",
    "id": "lJLeva_1Qun7"
   },
   "outputs": [],
   "source": [
    "# The next() function returns the next item from the iterator.\n",
    "# if next() is used as in the form of next(iterator, default)\n",
    "# then \"default\" value is returned if the iterator is exhausted (no items left)\n",
    "\n",
    "# So below what we expect to print 0, 1, 2 first. then there will be no\n",
    "# more item in the iterator, so it will print \"missing\"\n",
    "for i in range(5):\n",
    "    print(next(it, \"missing\"))"
   ]
  },
  {
   "cell_type": "markdown",
   "metadata": {
    "colab_type": "text",
    "id": "Q3bEXrwfQun8"
   },
   "source": [
    "### Reversing and Sorting"
   ]
  },
  {
   "cell_type": "code",
   "execution_count": null,
   "metadata": {
    "colab": {},
    "colab_type": "code",
    "id": "pFdRKdJyQun8"
   },
   "outputs": [],
   "source": [
    "a = list(range(4))\n",
    "ri = reversed(a)\n",
    "for i in ri:\n",
    "    print(i)"
   ]
  },
  {
   "cell_type": "code",
   "execution_count": null,
   "metadata": {
    "colab": {},
    "colab_type": "code",
    "id": "vMqzwtPaQun9"
   },
   "outputs": [],
   "source": [
    "b = [1, 0, 9, 2 , 7, 5, 5, 4]\n",
    "print(b)\n",
    "b.sort()\n",
    "print(\"After sorting......\")\n",
    "print(b)"
   ]
  },
  {
   "cell_type": "code",
   "execution_count": null,
   "metadata": {
    "colab": {},
    "colab_type": "code",
    "id": "2t4yicgkQun_"
   },
   "outputs": [],
   "source": [
    "c = [1, 0, 9, 2 , 7, 5, 5, 4]\n",
    "print(sorted(c))\n",
    "print('Note the difference now....')\n",
    "print(c)"
   ]
  },
  {
   "cell_type": "code",
   "execution_count": null,
   "metadata": {
    "colab": {},
    "colab_type": "code",
    "id": "FF-Y4zoDQuoA"
   },
   "outputs": [],
   "source": []
  },
  {
   "cell_type": "code",
   "execution_count": null,
   "metadata": {
    "colab": {},
    "colab_type": "code",
    "id": "Jb6oyUc8QuoB"
   },
   "outputs": [],
   "source": []
  },
  {
   "cell_type": "code",
   "execution_count": null,
   "metadata": {
    "colab": {},
    "colab_type": "code",
    "id": "EplXqb3xQuoD"
   },
   "outputs": [],
   "source": []
  },
  {
   "cell_type": "markdown",
   "metadata": {
    "colab_type": "text",
    "id": "2Lw7KlXgbd5O"
   },
   "source": [
    "# EXERCISES"
   ]
  },
  {
   "cell_type": "code",
   "execution_count": null,
   "metadata": {
    "colab": {},
    "colab_type": "code",
    "id": "xGXKKlqabfiv"
   },
   "outputs": [],
   "source": [
    "# Write a Python program to find those numbers which are divisible by 7 and multiple of 5, \n",
    "# between 15 and 400 (both included)"
   ]
  },
  {
   "cell_type": "code",
   "execution_count": null,
   "metadata": {
    "colab": {},
    "colab_type": "code",
    "id": "wqcKPXTMbkKP"
   },
   "outputs": [],
   "source": [
    "nl=[]\n",
    "for x in range(15, 401,5):\n",
    "    if x%7==0:\n",
    "        nl.append(x)\n",
    "print (nl)"
   ]
  },
  {
   "cell_type": "code",
   "execution_count": null,
   "metadata": {
    "colab": {},
    "colab_type": "code",
    "id": "ispHrj_NbrIB"
   },
   "outputs": [],
   "source": [
    "# convert temperatures to and from celsius, fahrenheit"
   ]
  },
  {
   "cell_type": "code",
   "execution_count": null,
   "metadata": {
    "colab": {},
    "colab_type": "code",
    "id": "mmFoLF1qcAuB"
   },
   "outputs": [],
   "source": [
    "temp = input(\"Input the  temperature you like to convert? (e.g., 45F, 102C etc.) : \")\n",
    "degree = int(temp[:-1])\n",
    "i_convention = temp[-1]\n",
    "\n",
    "if i_convention.upper() == \"C\":\n",
    "  result = int(round((1.8 * degree)  + 32))\n",
    "  o_convention = \"Fahrenheit\"\n",
    "elif i_convention.upper() == \"F\":\n",
    "  result = int(round((degree - 32)/ 1.8))\n",
    "  o_convention = \"Celsius\"\n",
    "else:\n",
    "  print(\"Input proper convention.\")\n",
    "  quit()\n",
    "print(\"The temperature in\", o_convention, \"is\", result, \"degrees.\")"
   ]
  },
  {
   "cell_type": "markdown",
   "metadata": {
    "colab": {},
    "colab_type": "code",
    "id": "Jne5E5z9cIEE"
   },
   "source": [
    "construct the following pattern, using a nested for loop.\n",
    "\n",
    "* \n",
    "* * \n",
    "* * * \n",
    "* * * * \n",
    "* * * * * \n",
    "* * * * \n",
    "* * * \n",
    "* * \n",
    "*"
   ]
  },
  {
   "cell_type": "code",
   "execution_count": null,
   "metadata": {},
   "outputs": [],
   "source": [
    "a = range(0)\n",
    "for i in a:\n",
    "    print(i)"
   ]
  },
  {
   "cell_type": "code",
   "execution_count": null,
   "metadata": {
    "colab": {},
    "colab_type": "code",
    "id": "ROFjqgQEcXqK"
   },
   "outputs": [],
   "source": [
    "n=5;\n",
    "for i in range(n):\n",
    "    for j in range(i):\n",
    "        print ('*', end=\"_\")\n",
    "    print('')\n",
    "\n",
    "for i in range(n,0,-1):\n",
    "    for j in range(i):\n",
    "        print('* ', end=\"\")\n",
    "    print('')"
   ]
  },
  {
   "cell_type": "code",
   "execution_count": null,
   "metadata": {
    "colab": {},
    "colab_type": "code",
    "id": "U9rxpB8WcbMZ"
   },
   "outputs": [],
   "source": [
    "# Write a Python program that accepts a word from the user and reverse it."
   ]
  },
  {
   "cell_type": "code",
   "execution_count": null,
   "metadata": {
    "colab": {},
    "colab_type": "code",
    "id": "bCzMktDNcjEu"
   },
   "outputs": [],
   "source": [
    "word = input(\"Input a word to reverse: \")\n",
    "for char in range(len(word) - 1, -1, -1):\n",
    "  print(word[char], end=\"\")\n",
    "print(\"\\n\")"
   ]
  },
  {
   "cell_type": "code",
   "execution_count": null,
   "metadata": {},
   "outputs": [],
   "source": [
    "help(range)"
   ]
  },
  {
   "cell_type": "code",
   "execution_count": null,
   "metadata": {},
   "outputs": [],
   "source": []
  }
 ],
 "metadata": {
  "colab": {
   "collapsed_sections": [],
   "name": "03_Conditionals_Loops.ipynb",
   "provenance": [],
   "version": "0.3.2"
  },
  "kernelspec": {
   "display_name": "Python 3",
   "language": "python",
   "name": "python3"
  },
  "language_info": {
   "codemirror_mode": {
    "name": "ipython",
    "version": 3
   },
   "file_extension": ".py",
   "mimetype": "text/x-python",
   "name": "python",
   "nbconvert_exporter": "python",
   "pygments_lexer": "ipython3",
   "version": "3.7.1"
  }
 },
 "nbformat": 4,
 "nbformat_minor": 1
}

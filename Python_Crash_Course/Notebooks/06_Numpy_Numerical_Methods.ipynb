{
 "cells": [
  {
   "cell_type": "markdown",
   "metadata": {
    "colab_type": "text",
    "id": "bFd7CUreRqVg"
   },
   "source": [
    "# NUMPY"
   ]
  },
  {
   "cell_type": "code",
   "execution_count": null,
   "metadata": {
    "colab": {},
    "colab_type": "code",
    "id": "piOe_KUfRqVh"
   },
   "outputs": [],
   "source": [
    "import numpy as np"
   ]
  },
  {
   "cell_type": "code",
   "execution_count": null,
   "metadata": {
    "colab": {},
    "colab_type": "code",
    "id": "-tmxKafQRqVk"
   },
   "outputs": [],
   "source": [
    "array1 = np.array([1,2,3])"
   ]
  },
  {
   "cell_type": "code",
   "execution_count": null,
   "metadata": {
    "colab": {},
    "colab_type": "code",
    "id": "pMawwdHMRqVn"
   },
   "outputs": [],
   "source": [
    "list1 = [1.0, 2.0, 3.0]"
   ]
  },
  {
   "cell_type": "code",
   "execution_count": null,
   "metadata": {
    "colab": {},
    "colab_type": "code",
    "id": "bY-Z3cxsRqVp"
   },
   "outputs": [],
   "source": [
    "# to convert a list to an array\n",
    "array2 = np.array(list1)"
   ]
  },
  {
   "cell_type": "markdown",
   "metadata": {
    "colab_type": "raw",
    "id": "-aW3wetXRqVr"
   },
   "source": [
    "# All data in a Numpy array must be of a single data type (dtype)."
   ]
  },
  {
   "cell_type": "markdown",
   "metadata": {
    "colab_type": "text",
    "id": "k7JoEwFmRqVs"
   },
   "source": [
    "np.str # string\n",
    "np.bool # boolean (i.e., True|False)\n",
    "np.int # integer\n",
    "np.float # floating point\n",
    "np.complex # complex (i.e., 1+1j)"
   ]
  },
  {
   "cell_type": "code",
   "execution_count": null,
   "metadata": {
    "colab": {},
    "colab_type": "code",
    "id": "gbXODbioRqVt"
   },
   "outputs": [],
   "source": [
    "# currently, array1 is an integer array\n",
    "# if we want to convert that integer array into a float array, \n",
    "# we need to use an associated function (with an underscore). For example\n",
    "array3 = np.float_(array1)"
   ]
  },
  {
   "cell_type": "code",
   "execution_count": null,
   "metadata": {
    "colab": {
     "base_uri": "https://localhost:8080/",
     "height": 52
    },
    "colab_type": "code",
    "executionInfo": {
     "elapsed": 305,
     "status": "ok",
     "timestamp": 1566134462293,
     "user": {
      "displayName": "Ergun Simsek",
      "photoUrl": "https://lh3.googleusercontent.com/-qBP5H5Ff-uU/AAAAAAAAAAI/AAAAAAAAAAc/lXze-Fwum9g/s64/photo.jpg",
      "userId": "16739529127101354422"
     },
     "user_tz": 240
    },
    "id": "hMN0bIXxRqVv",
    "outputId": "fac188cc-014c-4601-c52b-f52e84fe4133"
   },
   "outputs": [],
   "source": [
    "print(array1)\n",
    "print(array3)"
   ]
  },
  {
   "cell_type": "markdown",
   "metadata": {
    "colab_type": "text",
    "id": "w3kBiWrkRqVy"
   },
   "source": [
    "## Multidimensionality"
   ]
  },
  {
   "cell_type": "markdown",
   "metadata": {
    "colab_type": "text",
    "id": "Rg0AWz5ZRqVz"
   },
   "source": [
    "Numpy arrays can be N-dimensional, which is of particular use with tables of data (i.e. 2-D)"
   ]
  },
  {
   "cell_type": "code",
   "execution_count": null,
   "metadata": {
    "colab": {
     "base_uri": "https://localhost:8080/",
     "height": 69
    },
    "colab_type": "code",
    "executionInfo": {
     "elapsed": 245,
     "status": "ok",
     "timestamp": 1566134470867,
     "user": {
      "displayName": "Ergun Simsek",
      "photoUrl": "https://lh3.googleusercontent.com/-qBP5H5Ff-uU/AAAAAAAAAAI/AAAAAAAAAAc/lXze-Fwum9g/s64/photo.jpg",
      "userId": "16739529127101354422"
     },
     "user_tz": 240
    },
    "id": "B0WR7eQURqVz",
    "outputId": "0d53ea39-9268-47d4-d614-78f8a38b74b8"
   },
   "outputs": [],
   "source": [
    "array4 = np.array([[1, 2], [3, 4], [5, 6]])\n",
    "print(array4)"
   ]
  },
  {
   "cell_type": "code",
   "execution_count": null,
   "metadata": {
    "colab": {
     "base_uri": "https://localhost:8080/",
     "height": 35
    },
    "colab_type": "code",
    "executionInfo": {
     "elapsed": 370,
     "status": "ok",
     "timestamp": 1566134479427,
     "user": {
      "displayName": "Ergun Simsek",
      "photoUrl": "https://lh3.googleusercontent.com/-qBP5H5Ff-uU/AAAAAAAAAAI/AAAAAAAAAAc/lXze-Fwum9g/s64/photo.jpg",
      "userId": "16739529127101354422"
     },
     "user_tz": 240
    },
    "id": "o5_JMRnCRqV4",
    "outputId": "e911c6ae-1373-4d77-ce54-9212134108fb"
   },
   "outputs": [],
   "source": [
    "array4.shape"
   ]
  },
  {
   "cell_type": "code",
   "execution_count": null,
   "metadata": {
    "colab": {},
    "colab_type": "code",
    "id": "62i9uCYfRqV6"
   },
   "outputs": [],
   "source": [
    "array4.size"
   ]
  },
  {
   "cell_type": "code",
   "execution_count": null,
   "metadata": {
    "colab": {
     "base_uri": "https://localhost:8080/",
     "height": 34
    },
    "colab_type": "code",
    "executionInfo": {
     "elapsed": 317,
     "status": "ok",
     "timestamp": 1566134486932,
     "user": {
      "displayName": "Ergun Simsek",
      "photoUrl": "https://lh3.googleusercontent.com/-qBP5H5Ff-uU/AAAAAAAAAAI/AAAAAAAAAAc/lXze-Fwum9g/s64/photo.jpg",
      "userId": "16739529127101354422"
     },
     "user_tz": 240
    },
    "id": "LRFYXn3nRqV8",
    "outputId": "d0a2af46-465a-42bf-e2fd-6bfb803370d7"
   },
   "outputs": [],
   "source": [
    "array4[:,1]"
   ]
  },
  {
   "cell_type": "code",
   "execution_count": null,
   "metadata": {
    "colab": {
     "base_uri": "https://localhost:8080/",
     "height": 34
    },
    "colab_type": "code",
    "executionInfo": {
     "elapsed": 225,
     "status": "ok",
     "timestamp": 1566134532935,
     "user": {
      "displayName": "Ergun Simsek",
      "photoUrl": "https://lh3.googleusercontent.com/-qBP5H5Ff-uU/AAAAAAAAAAI/AAAAAAAAAAc/lXze-Fwum9g/s64/photo.jpg",
      "userId": "16739529127101354422"
     },
     "user_tz": 240
    },
    "id": "enGzT9Y5RqV_",
    "outputId": "ffdebfa7-5c67-4534-f15a-f70cc1815464"
   },
   "outputs": [],
   "source": [
    "array4[1,:]"
   ]
  },
  {
   "cell_type": "code",
   "execution_count": null,
   "metadata": {
    "colab": {
     "base_uri": "https://localhost:8080/",
     "height": 35
    },
    "colab_type": "code",
    "executionInfo": {
     "elapsed": 306,
     "status": "ok",
     "timestamp": 1566134536995,
     "user": {
      "displayName": "Ergun Simsek",
      "photoUrl": "https://lh3.googleusercontent.com/-qBP5H5Ff-uU/AAAAAAAAAAI/AAAAAAAAAAc/lXze-Fwum9g/s64/photo.jpg",
      "userId": "16739529127101354422"
     },
     "user_tz": 240
    },
    "id": "R5Tbrsh3RqWB",
    "outputId": "c0346f93-27ba-40a7-9113-78df7a4cd100"
   },
   "outputs": [],
   "source": [
    "array4.flatten()"
   ]
  },
  {
   "cell_type": "code",
   "execution_count": null,
   "metadata": {
    "colab": {
     "base_uri": "https://localhost:8080/",
     "height": 52
    },
    "colab_type": "code",
    "executionInfo": {
     "elapsed": 269,
     "status": "ok",
     "timestamp": 1566134569340,
     "user": {
      "displayName": "Ergun Simsek",
      "photoUrl": "https://lh3.googleusercontent.com/-qBP5H5Ff-uU/AAAAAAAAAAI/AAAAAAAAAAc/lXze-Fwum9g/s64/photo.jpg",
      "userId": "16739529127101354422"
     },
     "user_tz": 240
    },
    "id": "PTrZOjyPRqWE",
    "outputId": "0ee5b2e2-3b0c-4454-a3f9-3ac2aaea0f55"
   },
   "outputs": [],
   "source": [
    "array4.reshape((2,3))"
   ]
  },
  {
   "cell_type": "code",
   "execution_count": null,
   "metadata": {
    "colab": {
     "base_uri": "https://localhost:8080/",
     "height": 121
    },
    "colab_type": "code",
    "executionInfo": {
     "elapsed": 349,
     "status": "ok",
     "timestamp": 1566134586537,
     "user": {
      "displayName": "Ergun Simsek",
      "photoUrl": "https://lh3.googleusercontent.com/-qBP5H5Ff-uU/AAAAAAAAAAI/AAAAAAAAAAc/lXze-Fwum9g/s64/photo.jpg",
      "userId": "16739529127101354422"
     },
     "user_tz": 240
    },
    "id": "mn2iFkw_RqWH",
    "outputId": "32c3115b-ac8b-400a-d056-7e1ff8faacca"
   },
   "outputs": [],
   "source": [
    "array4.reshape((6,1))"
   ]
  },
  {
   "cell_type": "code",
   "execution_count": null,
   "metadata": {
    "colab": {},
    "colab_type": "code",
    "id": "N72-Gvzf5dnt"
   },
   "outputs": [],
   "source": [
    "a = [0, 1, 2]\n",
    "b = np.array([a])\n"
   ]
  },
  {
   "cell_type": "code",
   "execution_count": null,
   "metadata": {
    "colab": {
     "base_uri": "https://localhost:8080/",
     "height": 35
    },
    "colab_type": "code",
    "executionInfo": {
     "elapsed": 339,
     "status": "ok",
     "timestamp": 1566134671609,
     "user": {
      "displayName": "Ergun Simsek",
      "photoUrl": "https://lh3.googleusercontent.com/-qBP5H5Ff-uU/AAAAAAAAAAI/AAAAAAAAAAc/lXze-Fwum9g/s64/photo.jpg",
      "userId": "16739529127101354422"
     },
     "user_tz": 240
    },
    "id": "pXf1cH_I5l5l",
    "outputId": "cce73870-24f1-476e-db1c-30070518383f"
   },
   "outputs": [],
   "source": [
    "a[0] == b[0]"
   ]
  },
  {
   "cell_type": "markdown",
   "metadata": {
    "colab_type": "text",
    "id": "YYf1FgVtRqWK"
   },
   "source": [
    "# Special Array Creation Functions"
   ]
  },
  {
   "cell_type": "code",
   "execution_count": null,
   "metadata": {
    "colab": {},
    "colab_type": "code",
    "id": "3xuML-VY5lQN"
   },
   "outputs": [],
   "source": []
  },
  {
   "cell_type": "code",
   "execution_count": null,
   "metadata": {
    "colab": {
     "base_uri": "https://localhost:8080/",
     "height": 35
    },
    "colab_type": "code",
    "executionInfo": {
     "elapsed": 329,
     "status": "ok",
     "timestamp": 1566134771066,
     "user": {
      "displayName": "Ergun Simsek",
      "photoUrl": "https://lh3.googleusercontent.com/-qBP5H5Ff-uU/AAAAAAAAAAI/AAAAAAAAAAc/lXze-Fwum9g/s64/photo.jpg",
      "userId": "16739529127101354422"
     },
     "user_tz": 240
    },
    "id": "xEShFraqRqWL",
    "outputId": "501f6f90-25f3-4235-e6ef-53fe6d25e16f"
   },
   "outputs": [],
   "source": [
    "array5 = np.arange(10)\n",
    "print(array5)"
   ]
  },
  {
   "cell_type": "code",
   "execution_count": null,
   "metadata": {
    "colab": {
     "base_uri": "https://localhost:8080/",
     "height": 191
    },
    "colab_type": "code",
    "executionInfo": {
     "elapsed": 350,
     "status": "ok",
     "timestamp": 1566134835868,
     "user": {
      "displayName": "Ergun Simsek",
      "photoUrl": "https://lh3.googleusercontent.com/-qBP5H5Ff-uU/AAAAAAAAAAI/AAAAAAAAAAc/lXze-Fwum9g/s64/photo.jpg",
      "userId": "16739529127101354422"
     },
     "user_tz": 240
    },
    "id": "XN1VctvZ6G6d",
    "outputId": "3271d311-1b81-4713-ca6c-9d785e0aaf40"
   },
   "outputs": [],
   "source": [
    "a = range(10)\n",
    "for x in a:\n",
    "  print(x)"
   ]
  },
  {
   "cell_type": "code",
   "execution_count": null,
   "metadata": {
    "colab": {
     "base_uri": "https://localhost:8080/",
     "height": 35
    },
    "colab_type": "code",
    "executionInfo": {
     "elapsed": 338,
     "status": "ok",
     "timestamp": 1566134897543,
     "user": {
      "displayName": "Ergun Simsek",
      "photoUrl": "https://lh3.googleusercontent.com/-qBP5H5Ff-uU/AAAAAAAAAAI/AAAAAAAAAAc/lXze-Fwum9g/s64/photo.jpg",
      "userId": "16739529127101354422"
     },
     "user_tz": 240
    },
    "id": "A1PaAH_wRqWN",
    "outputId": "7307e518-e9a4-46e3-c2bb-c5d29c3d33ce"
   },
   "outputs": [],
   "source": [
    "array6 = np.arange(0,50,5)\n",
    "print(array6)"
   ]
  },
  {
   "cell_type": "code",
   "execution_count": null,
   "metadata": {
    "colab": {
     "base_uri": "https://localhost:8080/",
     "height": 35
    },
    "colab_type": "code",
    "executionInfo": {
     "elapsed": 213,
     "status": "ok",
     "timestamp": 1566134904586,
     "user": {
      "displayName": "Ergun Simsek",
      "photoUrl": "https://lh3.googleusercontent.com/-qBP5H5Ff-uU/AAAAAAAAAAI/AAAAAAAAAAc/lXze-Fwum9g/s64/photo.jpg",
      "userId": "16739529127101354422"
     },
     "user_tz": 240
    },
    "id": "PtK4CPSbRqWP",
    "outputId": "21626254-7759-44f0-8afa-7e8f1cf2c86f"
   },
   "outputs": [],
   "source": [
    "array7 = np.ones(10)\n",
    "print(array7)"
   ]
  },
  {
   "cell_type": "code",
   "execution_count": null,
   "metadata": {
    "colab": {
     "base_uri": "https://localhost:8080/",
     "height": 69
    },
    "colab_type": "code",
    "executionInfo": {
     "elapsed": 346,
     "status": "ok",
     "timestamp": 1566134918411,
     "user": {
      "displayName": "Ergun Simsek",
      "photoUrl": "https://lh3.googleusercontent.com/-qBP5H5Ff-uU/AAAAAAAAAAI/AAAAAAAAAAc/lXze-Fwum9g/s64/photo.jpg",
      "userId": "16739529127101354422"
     },
     "user_tz": 240
    },
    "id": "ZPZQj9ctRqWS",
    "outputId": "9d6aa735-dfaf-49d5-eea0-37e9d828dadc"
   },
   "outputs": [],
   "source": [
    "array8 = np.zeros((3,5))\n",
    "print(array8)"
   ]
  },
  {
   "cell_type": "code",
   "execution_count": null,
   "metadata": {
    "colab": {
     "base_uri": "https://localhost:8080/",
     "height": 121
    },
    "colab_type": "code",
    "executionInfo": {
     "elapsed": 338,
     "status": "ok",
     "timestamp": 1566134925718,
     "user": {
      "displayName": "Ergun Simsek",
      "photoUrl": "https://lh3.googleusercontent.com/-qBP5H5Ff-uU/AAAAAAAAAAI/AAAAAAAAAAc/lXze-Fwum9g/s64/photo.jpg",
      "userId": "16739529127101354422"
     },
     "user_tz": 240
    },
    "id": "mmfO8bFbRqWU",
    "outputId": "405bc0b1-8499-432d-e70f-5e92e23882c8"
   },
   "outputs": [],
   "source": [
    "array9 = np.identity(6)\n",
    "print(array9)"
   ]
  },
  {
   "cell_type": "markdown",
   "metadata": {
    "colab_type": "text",
    "id": "Nu0ECNW7RqWa"
   },
   "source": [
    "## Some Built-in Numpy Functionality"
   ]
  },
  {
   "cell_type": "code",
   "execution_count": null,
   "metadata": {
    "colab": {
     "base_uri": "https://localhost:8080/",
     "height": 69
    },
    "colab_type": "code",
    "executionInfo": {
     "elapsed": 237,
     "status": "ok",
     "timestamp": 1566135027159,
     "user": {
      "displayName": "Ergun Simsek",
      "photoUrl": "https://lh3.googleusercontent.com/-qBP5H5Ff-uU/AAAAAAAAAAI/AAAAAAAAAAc/lXze-Fwum9g/s64/photo.jpg",
      "userId": "16739529127101354422"
     },
     "user_tz": 240
    },
    "id": "wMZ5O_hvRqWb",
    "outputId": "2fb8ea2e-66ae-4f87-9ca5-dfeb11f7b6f7"
   },
   "outputs": [],
   "source": [
    "np.arange(9).reshape((3,3))"
   ]
  },
  {
   "cell_type": "code",
   "execution_count": null,
   "metadata": {
    "colab": {
     "base_uri": "https://localhost:8080/",
     "height": 35
    },
    "colab_type": "code",
    "executionInfo": {
     "elapsed": 320,
     "status": "ok",
     "timestamp": 1566135077168,
     "user": {
      "displayName": "Ergun Simsek",
      "photoUrl": "https://lh3.googleusercontent.com/-qBP5H5Ff-uU/AAAAAAAAAAI/AAAAAAAAAAc/lXze-Fwum9g/s64/photo.jpg",
      "userId": "16739529127101354422"
     },
     "user_tz": 240
    },
    "id": "1SsxfXaIRqWd",
    "outputId": "d956b331-1f00-4d33-a6b2-99c9ec8b8e54"
   },
   "outputs": [],
   "source": [
    "array6 = np.arange(0,50,5)\n",
    "array6.min(), array6.max()"
   ]
  },
  {
   "cell_type": "code",
   "execution_count": null,
   "metadata": {
    "colab": {},
    "colab_type": "code",
    "id": "FP--BmkORqWf"
   },
   "outputs": [],
   "source": [
    "array1 = np.arange(1,10,1.0)\n",
    "array1.mean(), array1.sum(), array1.prod()"
   ]
  },
  {
   "cell_type": "code",
   "execution_count": null,
   "metadata": {
    "colab": {
     "base_uri": "https://localhost:8080/",
     "height": 87
    },
    "colab_type": "code",
    "executionInfo": {
     "elapsed": 370,
     "status": "ok",
     "timestamp": 1566135152919,
     "user": {
      "displayName": "Ergun Simsek",
      "photoUrl": "https://lh3.googleusercontent.com/-qBP5H5Ff-uU/AAAAAAAAAAI/AAAAAAAAAAc/lXze-Fwum9g/s64/photo.jpg",
      "userId": "16739529127101354422"
     },
     "user_tz": 240
    },
    "id": "rTwGwbX7RqWh",
    "outputId": "9bb4ec3d-2c72-4436-b78f-24b99f4c4585"
   },
   "outputs": [],
   "source": [
    "array10 = np.random.randint(1,10,12).reshape((4,3))\n",
    "print(array10)"
   ]
  },
  {
   "cell_type": "code",
   "execution_count": null,
   "metadata": {
    "colab": {
     "base_uri": "https://localhost:8080/",
     "height": 35
    },
    "colab_type": "code",
    "executionInfo": {
     "elapsed": 372,
     "status": "ok",
     "timestamp": 1566135290964,
     "user": {
      "displayName": "Ergun Simsek",
      "photoUrl": "https://lh3.googleusercontent.com/-qBP5H5Ff-uU/AAAAAAAAAAI/AAAAAAAAAAc/lXze-Fwum9g/s64/photo.jpg",
      "userId": "16739529127101354422"
     },
     "user_tz": 240
    },
    "id": "aMpH1gQvRqWj",
    "outputId": "72b72e77-42b5-463e-a9f7-eb647eebf3d9"
   },
   "outputs": [],
   "source": [
    "# average of columns\n",
    "array10.mean(axis=0)"
   ]
  },
  {
   "cell_type": "code",
   "execution_count": null,
   "metadata": {
    "colab": {
     "base_uri": "https://localhost:8080/",
     "height": 35
    },
    "colab_type": "code",
    "executionInfo": {
     "elapsed": 329,
     "status": "ok",
     "timestamp": 1566135309360,
     "user": {
      "displayName": "Ergun Simsek",
      "photoUrl": "https://lh3.googleusercontent.com/-qBP5H5Ff-uU/AAAAAAAAAAI/AAAAAAAAAAc/lXze-Fwum9g/s64/photo.jpg",
      "userId": "16739529127101354422"
     },
     "user_tz": 240
    },
    "id": "FKGhwMRxRqWm",
    "outputId": "c45ddd8a-2875-414b-84a1-aff0ec9d2586"
   },
   "outputs": [],
   "source": [
    "# average of rows\n",
    "array10.mean(axis=1)"
   ]
  },
  {
   "cell_type": "code",
   "execution_count": null,
   "metadata": {
    "colab": {
     "base_uri": "https://localhost:8080/",
     "height": 35
    },
    "colab_type": "code",
    "executionInfo": {
     "elapsed": 367,
     "status": "ok",
     "timestamp": 1566135492317,
     "user": {
      "displayName": "Ergun Simsek",
      "photoUrl": "https://lh3.googleusercontent.com/-qBP5H5Ff-uU/AAAAAAAAAAI/AAAAAAAAAAc/lXze-Fwum9g/s64/photo.jpg",
      "userId": "16739529127101354422"
     },
     "user_tz": 240
    },
    "id": "-4T5axteRqWp",
    "outputId": "97346fab-b3a0-48f8-cfe9-c9aafda1854a"
   },
   "outputs": [],
   "source": [
    "# sum of columns\n",
    "array10.sum(axis=0)"
   ]
  },
  {
   "cell_type": "code",
   "execution_count": null,
   "metadata": {
    "colab": {
     "base_uri": "https://localhost:8080/",
     "height": 35
    },
    "colab_type": "code",
    "executionInfo": {
     "elapsed": 347,
     "status": "ok",
     "timestamp": 1566135509120,
     "user": {
      "displayName": "Ergun Simsek",
      "photoUrl": "https://lh3.googleusercontent.com/-qBP5H5Ff-uU/AAAAAAAAAAI/AAAAAAAAAAc/lXze-Fwum9g/s64/photo.jpg",
      "userId": "16739529127101354422"
     },
     "user_tz": 240
    },
    "id": "gCPgBJ2wRqWr",
    "outputId": "3ab3923c-80d4-402c-8f7f-0437f8ef991c"
   },
   "outputs": [],
   "source": [
    "# sum of rows\n",
    "array10.sum(axis=1)"
   ]
  },
  {
   "cell_type": "code",
   "execution_count": null,
   "metadata": {
    "colab": {
     "base_uri": "https://localhost:8080/",
     "height": 87
    },
    "colab_type": "code",
    "executionInfo": {
     "elapsed": 376,
     "status": "ok",
     "timestamp": 1566135512435,
     "user": {
      "displayName": "Ergun Simsek",
      "photoUrl": "https://lh3.googleusercontent.com/-qBP5H5Ff-uU/AAAAAAAAAAI/AAAAAAAAAAc/lXze-Fwum9g/s64/photo.jpg",
      "userId": "16739529127101354422"
     },
     "user_tz": 240
    },
    "id": "HhNvmUENRqWu",
    "outputId": "286a60a8-bf0f-4519-c788-b610adecbac5"
   },
   "outputs": [],
   "source": [
    "print(array10)"
   ]
  },
  {
   "cell_type": "code",
   "execution_count": null,
   "metadata": {
    "colab": {
     "base_uri": "https://localhost:8080/",
     "height": 69
    },
    "colab_type": "code",
    "executionInfo": {
     "elapsed": 340,
     "status": "ok",
     "timestamp": 1566135717981,
     "user": {
      "displayName": "Ergun Simsek",
      "photoUrl": "https://lh3.googleusercontent.com/-qBP5H5Ff-uU/AAAAAAAAAAI/AAAAAAAAAAc/lXze-Fwum9g/s64/photo.jpg",
      "userId": "16739529127101354422"
     },
     "user_tz": 240
    },
    "id": "Xv4BOZcRRqWw",
    "outputId": "9c80dffe-f781-4a10-8699-add58a8f2093"
   },
   "outputs": [],
   "source": [
    "array10.transpose()\n"
   ]
  },
  {
   "cell_type": "code",
   "execution_count": null,
   "metadata": {
    "colab": {
     "base_uri": "https://localhost:8080/",
     "height": 87
    },
    "colab_type": "code",
    "executionInfo": {
     "elapsed": 359,
     "status": "ok",
     "timestamp": 1566135722120,
     "user": {
      "displayName": "Ergun Simsek",
      "photoUrl": "https://lh3.googleusercontent.com/-qBP5H5Ff-uU/AAAAAAAAAAI/AAAAAAAAAAc/lXze-Fwum9g/s64/photo.jpg",
      "userId": "16739529127101354422"
     },
     "user_tz": 240
    },
    "id": "fjrDW4AP9oBk",
    "outputId": "66d7b80d-8c6f-404f-a9fb-9211ce73ccd1"
   },
   "outputs": [],
   "source": [
    "print(array10)"
   ]
  },
  {
   "cell_type": "code",
   "execution_count": null,
   "metadata": {
    "colab": {
     "base_uri": "https://localhost:8080/",
     "height": 69
    },
    "colab_type": "code",
    "executionInfo": {
     "elapsed": 309,
     "status": "ok",
     "timestamp": 1566135780043,
     "user": {
      "displayName": "Ergun Simsek",
      "photoUrl": "https://lh3.googleusercontent.com/-qBP5H5Ff-uU/AAAAAAAAAAI/AAAAAAAAAAc/lXze-Fwum9g/s64/photo.jpg",
      "userId": "16739529127101354422"
     },
     "user_tz": 240
    },
    "id": "OhmUOEHs9Kn6",
    "outputId": "d200cb58-ff6e-4c99-deef-20a77d4394b4"
   },
   "outputs": [],
   "source": [
    "b = np.transpose(array10)\n",
    "print(b)"
   ]
  },
  {
   "cell_type": "code",
   "execution_count": null,
   "metadata": {
    "colab": {
     "base_uri": "https://localhost:8080/",
     "height": 69
    },
    "colab_type": "code",
    "executionInfo": {
     "elapsed": 341,
     "status": "ok",
     "timestamp": 1566135564304,
     "user": {
      "displayName": "Ergun Simsek",
      "photoUrl": "https://lh3.googleusercontent.com/-qBP5H5Ff-uU/AAAAAAAAAAI/AAAAAAAAAAc/lXze-Fwum9g/s64/photo.jpg",
      "userId": "16739529127101354422"
     },
     "user_tz": 240
    },
    "id": "wJC3hvsMRqWy",
    "outputId": "2f3b1ef6-9ccb-4872-c3d3-cf51149493a3"
   },
   "outputs": [],
   "source": [
    "array10.T"
   ]
  },
  {
   "cell_type": "code",
   "execution_count": null,
   "metadata": {
    "colab": {
     "base_uri": "https://localhost:8080/",
     "height": 69
    },
    "colab_type": "code",
    "executionInfo": {
     "elapsed": 375,
     "status": "ok",
     "timestamp": 1566135566619,
     "user": {
      "displayName": "Ergun Simsek",
      "photoUrl": "https://lh3.googleusercontent.com/-qBP5H5Ff-uU/AAAAAAAAAAI/AAAAAAAAAAc/lXze-Fwum9g/s64/photo.jpg",
      "userId": "16739529127101354422"
     },
     "user_tz": 240
    },
    "id": "OXjOwg19RqW1",
    "outputId": "5aab2ce7-24ef-4b54-a46e-9bc4c48b3ae6"
   },
   "outputs": [],
   "source": [
    "array10.swapaxes(0, 1)"
   ]
  },
  {
   "cell_type": "code",
   "execution_count": null,
   "metadata": {
    "colab": {},
    "colab_type": "code",
    "id": "LA_vwV3BRqW4"
   },
   "outputs": [],
   "source": [
    "# # RESHAPING"
   ]
  },
  {
   "cell_type": "code",
   "execution_count": null,
   "metadata": {
    "colab": {
     "base_uri": "https://localhost:8080/",
     "height": 173
    },
    "colab_type": "code",
    "executionInfo": {
     "elapsed": 331,
     "status": "ok",
     "timestamp": 1566135807980,
     "user": {
      "displayName": "Ergun Simsek",
      "photoUrl": "https://lh3.googleusercontent.com/-qBP5H5Ff-uU/AAAAAAAAAAI/AAAAAAAAAAc/lXze-Fwum9g/s64/photo.jpg",
      "userId": "16739529127101354422"
     },
     "user_tz": 240
    },
    "id": "8iNcVu49RqW6",
    "outputId": "abdb75e2-e6df-4c15-953e-6d64e1e0858b"
   },
   "outputs": [],
   "source": [
    "np.arange(90).reshape((9, 10))"
   ]
  },
  {
   "cell_type": "code",
   "execution_count": null,
   "metadata": {
    "colab": {
     "base_uri": "https://localhost:8080/",
     "height": 173
    },
    "colab_type": "code",
    "executionInfo": {
     "elapsed": 330,
     "status": "ok",
     "timestamp": 1566135856410,
     "user": {
      "displayName": "Ergun Simsek",
      "photoUrl": "https://lh3.googleusercontent.com/-qBP5H5Ff-uU/AAAAAAAAAAI/AAAAAAAAAAc/lXze-Fwum9g/s64/photo.jpg",
      "userId": "16739529127101354422"
     },
     "user_tz": 240
    },
    "id": "mhFir0oCRqW8",
    "outputId": "8d9e6501-c66a-40fd-83b3-78897dae0ac4"
   },
   "outputs": [],
   "source": [
    "np.arange(90).reshape((-1, 10))\n",
    "#   here -1 means \"hey python, you determine the length along this axis\""
   ]
  },
  {
   "cell_type": "code",
   "execution_count": null,
   "metadata": {
    "colab": {
     "base_uri": "https://localhost:8080/",
     "height": 35
    },
    "colab_type": "code",
    "executionInfo": {
     "elapsed": 323,
     "status": "ok",
     "timestamp": 1566135878532,
     "user": {
      "displayName": "Ergun Simsek",
      "photoUrl": "https://lh3.googleusercontent.com/-qBP5H5Ff-uU/AAAAAAAAAAI/AAAAAAAAAAc/lXze-Fwum9g/s64/photo.jpg",
      "userId": "16739529127101354422"
     },
     "user_tz": 240
    },
    "id": "wc0eLX2FRqW-",
    "outputId": "ad9820f5-9f99-446e-e7fd-d4bbc08933b3"
   },
   "outputs": [],
   "source": [
    "array1 = np.arange(90).reshape((-1, 10))\n",
    "array1.shape == (9, 10)"
   ]
  },
  {
   "cell_type": "code",
   "execution_count": null,
   "metadata": {
    "colab": {},
    "colab_type": "code",
    "id": "Hqn_5-ncRqXA"
   },
   "outputs": [],
   "source": [
    "# Let's change some elements and observe where they are"
   ]
  },
  {
   "cell_type": "code",
   "execution_count": null,
   "metadata": {
    "colab": {
     "base_uri": "https://localhost:8080/",
     "height": 173
    },
    "colab_type": "code",
    "executionInfo": {
     "elapsed": 340,
     "status": "ok",
     "timestamp": 1566135944885,
     "user": {
      "displayName": "Ergun Simsek",
      "photoUrl": "https://lh3.googleusercontent.com/-qBP5H5Ff-uU/AAAAAAAAAAI/AAAAAAAAAAc/lXze-Fwum9g/s64/photo.jpg",
      "userId": "16739529127101354422"
     },
     "user_tz": 240
    },
    "id": "8U6w8NOERqXC",
    "outputId": "86e35742-4893-439f-b293-27312b1ab320"
   },
   "outputs": [],
   "source": [
    "array1[0,0]= 1000\n",
    "print(array1)"
   ]
  },
  {
   "cell_type": "code",
   "execution_count": null,
   "metadata": {
    "colab": {
     "base_uri": "https://localhost:8080/",
     "height": 173
    },
    "colab_type": "code",
    "executionInfo": {
     "elapsed": 351,
     "status": "ok",
     "timestamp": 1566135993095,
     "user": {
      "displayName": "Ergun Simsek",
      "photoUrl": "https://lh3.googleusercontent.com/-qBP5H5Ff-uU/AAAAAAAAAAI/AAAAAAAAAAc/lXze-Fwum9g/s64/photo.jpg",
      "userId": "16739529127101354422"
     },
     "user_tz": 240
    },
    "id": "7-9cr9z9RqXE",
    "outputId": "898d5483-2ea5-4e05-9642-e878ad082e09"
   },
   "outputs": [],
   "source": [
    "array1[5,:]= np.ones(10)\n",
    "print(array1)"
   ]
  },
  {
   "cell_type": "code",
   "execution_count": null,
   "metadata": {
    "colab": {
     "base_uri": "https://localhost:8080/",
     "height": 173
    },
    "colab_type": "code",
    "executionInfo": {
     "elapsed": 365,
     "status": "ok",
     "timestamp": 1566136028294,
     "user": {
      "displayName": "Ergun Simsek",
      "photoUrl": "https://lh3.googleusercontent.com/-qBP5H5Ff-uU/AAAAAAAAAAI/AAAAAAAAAAc/lXze-Fwum9g/s64/photo.jpg",
      "userId": "16739529127101354422"
     },
     "user_tz": 240
    },
    "id": "6o9QUNqgRqXH",
    "outputId": "d50eec3e-3b0c-44cd-aa6a-421c7c25d7c7"
   },
   "outputs": [],
   "source": [
    "array1[:,4]= np.zeros(9)\n",
    "print(array1)"
   ]
  },
  {
   "cell_type": "code",
   "execution_count": null,
   "metadata": {
    "colab": {
     "base_uri": "https://localhost:8080/",
     "height": 173
    },
    "colab_type": "code",
    "executionInfo": {
     "elapsed": 217,
     "status": "ok",
     "timestamp": 1566136077901,
     "user": {
      "displayName": "Ergun Simsek",
      "photoUrl": "https://lh3.googleusercontent.com/-qBP5H5Ff-uU/AAAAAAAAAAI/AAAAAAAAAAc/lXze-Fwum9g/s64/photo.jpg",
      "userId": "16739529127101354422"
     },
     "user_tz": 240
    },
    "id": "wvRurjK4RqXJ",
    "outputId": "0a852fe1-42bd-4e73-e56b-72cb7f1451b0"
   },
   "outputs": [],
   "source": [
    "array1[3,1:8] = 2*np.ones(7)\n",
    "print(array1)"
   ]
  },
  {
   "cell_type": "code",
   "execution_count": null,
   "metadata": {
    "colab": {
     "base_uri": "https://localhost:8080/",
     "height": 173
    },
    "colab_type": "code",
    "executionInfo": {
     "elapsed": 293,
     "status": "ok",
     "timestamp": 1566136122260,
     "user": {
      "displayName": "Ergun Simsek",
      "photoUrl": "https://lh3.googleusercontent.com/-qBP5H5Ff-uU/AAAAAAAAAAI/AAAAAAAAAAc/lXze-Fwum9g/s64/photo.jpg",
      "userId": "16739529127101354422"
     },
     "user_tz": 240
    },
    "id": "k6cPPbDNRqXK",
    "outputId": "ce651cc4-c68c-4f8a-f2fc-66e267d0f417"
   },
   "outputs": [],
   "source": [
    "# -1 means \"last\"\n",
    "array1[5:-1,1:3] = [[3,3],[3,3],[3,3]]\n",
    "print(array1)"
   ]
  },
  {
   "cell_type": "code",
   "execution_count": null,
   "metadata": {
    "colab": {
     "base_uri": "https://localhost:8080/",
     "height": 173
    },
    "colab_type": "code",
    "executionInfo": {
     "elapsed": 331,
     "status": "ok",
     "timestamp": 1566136179518,
     "user": {
      "displayName": "Ergun Simsek",
      "photoUrl": "https://lh3.googleusercontent.com/-qBP5H5Ff-uU/AAAAAAAAAAI/AAAAAAAAAAc/lXze-Fwum9g/s64/photo.jpg",
      "userId": "16739529127101354422"
     },
     "user_tz": 240
    },
    "id": "SiVC1eIpRqXM",
    "outputId": "fef266fd-7506-4d84-8303-2cb18cd82111"
   },
   "outputs": [],
   "source": [
    "# Non-sequential indexing!\n",
    "array1[(5, 7), (6, 8)] = [-20,-25]\n",
    "print(array1)"
   ]
  },
  {
   "cell_type": "code",
   "execution_count": null,
   "metadata": {
    "colab": {
     "base_uri": "https://localhost:8080/",
     "height": 87
    },
    "colab_type": "code",
    "executionInfo": {
     "elapsed": 340,
     "status": "ok",
     "timestamp": 1566136245327,
     "user": {
      "displayName": "Ergun Simsek",
      "photoUrl": "https://lh3.googleusercontent.com/-qBP5H5Ff-uU/AAAAAAAAAAI/AAAAAAAAAAc/lXze-Fwum9g/s64/photo.jpg",
      "userId": "16739529127101354422"
     },
     "user_tz": 240
    },
    "id": "Z3u836gRRqXO",
    "outputId": "0ce905f6-fe32-45e9-8bf4-39fb5b205d67"
   },
   "outputs": [],
   "source": [
    "# a = b vs a = copy(b)\n",
    "array1 = np.array([1, 2, 3]) \n",
    "array2 = array1\n",
    "print('Before______')\n",
    "print(array2)\n",
    "array1[0] = 5\n",
    "print('After_______')\n",
    "print(array2)"
   ]
  },
  {
   "cell_type": "code",
   "execution_count": null,
   "metadata": {
    "colab": {
     "base_uri": "https://localhost:8080/",
     "height": 87
    },
    "colab_type": "code",
    "executionInfo": {
     "elapsed": 328,
     "status": "ok",
     "timestamp": 1566136299716,
     "user": {
      "displayName": "Ergun Simsek",
      "photoUrl": "https://lh3.googleusercontent.com/-qBP5H5Ff-uU/AAAAAAAAAAI/AAAAAAAAAAc/lXze-Fwum9g/s64/photo.jpg",
      "userId": "16739529127101354422"
     },
     "user_tz": 240
    },
    "id": "XQo7b8yYRqXS",
    "outputId": "26a089f9-4701-4994-f5f9-030ea4a61069"
   },
   "outputs": [],
   "source": [
    "# Numpy arrays are generally passed by reference (to minimize space used in memory)\n",
    "# This is why when we made a change in array1 above, we also changed array2\n",
    "#\n",
    "# To ensure that values are independent, use the copy function:\n",
    "array1 = np.array([1, 2, 3]) \n",
    "array2 = np.copy(array1)\n",
    "print('Before______')\n",
    "print(array2)\n",
    "array1[0] = 5\n",
    "print('After_______')\n",
    "print(array2)"
   ]
  },
  {
   "cell_type": "code",
   "execution_count": null,
   "metadata": {
    "colab": {
     "base_uri": "https://localhost:8080/",
     "height": 121
    },
    "colab_type": "code",
    "executionInfo": {
     "elapsed": 373,
     "status": "ok",
     "timestamp": 1566137135983,
     "user": {
      "displayName": "Ergun Simsek",
      "photoUrl": "https://lh3.googleusercontent.com/-qBP5H5Ff-uU/AAAAAAAAAAI/AAAAAAAAAAc/lXze-Fwum9g/s64/photo.jpg",
      "userId": "16739529127101354422"
     },
     "user_tz": 240
    },
    "id": "miX-WGIwRqXU",
    "outputId": "60e54023-6ea8-410e-cdec-1a0e333c2849"
   },
   "outputs": [],
   "source": [
    "### READING IN TEXT (ASCII) FILES WITH LOADTXT\n",
    "array1 = np.loadtxt('./files/dat_files/mydata.dat')\n",
    "print(array1) # this will print it\n",
    "x = 3 # another one bites the dust\n",
    "print(x)"
   ]
  },
  {
   "cell_type": "code",
   "execution_count": null,
   "metadata": {
    "colab": {},
    "colab_type": "code",
    "id": "jquGH2VeRqXY"
   },
   "outputs": [],
   "source": [
    "# There are lots of options on this function, so check the docs, but some of the most used:\n",
    "# array2 = np.loadtxt(filename, dtype=dtype, comments=‘%’, delimiter=‘,’, skiprows=5,\n",
    "#  usecols=(0, 1, 2))\n",
    "# This skips all comments (designated with a #) and \n",
    "# the first 5 rows. It then reads in columns 0, 1, \n",
    "# and 2, delimited by a comma"
   ]
  },
  {
   "cell_type": "markdown",
   "metadata": {
    "colab_type": "text",
    "id": "tHw1aFyeRqXZ"
   },
   "source": [
    "### Mathematical Operations"
   ]
  },
  {
   "cell_type": "code",
   "execution_count": null,
   "metadata": {
    "colab": {
     "base_uri": "https://localhost:8080/",
     "height": 35
    },
    "colab_type": "code",
    "executionInfo": {
     "elapsed": 344,
     "status": "ok",
     "timestamp": 1566137275693,
     "user": {
      "displayName": "Ergun Simsek",
      "photoUrl": "https://lh3.googleusercontent.com/-qBP5H5Ff-uU/AAAAAAAAAAI/AAAAAAAAAAc/lXze-Fwum9g/s64/photo.jpg",
      "userId": "16739529127101354422"
     },
     "user_tz": 240
    },
    "id": "V1waEaf7RqXa",
    "outputId": "d9b45b4e-4177-4dda-f58e-49fe5177e326"
   },
   "outputs": [],
   "source": [
    "array1 = np.array([0.5, 1.0, 1.5, 2.0])\n",
    "print(array1+5)"
   ]
  },
  {
   "cell_type": "code",
   "execution_count": null,
   "metadata": {
    "colab": {
     "base_uri": "https://localhost:8080/",
     "height": 35
    },
    "colab_type": "code",
    "executionInfo": {
     "elapsed": 327,
     "status": "ok",
     "timestamp": 1566137287021,
     "user": {
      "displayName": "Ergun Simsek",
      "photoUrl": "https://lh3.googleusercontent.com/-qBP5H5Ff-uU/AAAAAAAAAAI/AAAAAAAAAAc/lXze-Fwum9g/s64/photo.jpg",
      "userId": "16739529127101354422"
     },
     "user_tz": 240
    },
    "id": "jzJwEfwFRqXc",
    "outputId": "5192d1f9-6c6c-48ab-9625-0bbd2a5a342d"
   },
   "outputs": [],
   "source": [
    "print(array1*2)"
   ]
  },
  {
   "cell_type": "code",
   "execution_count": null,
   "metadata": {
    "colab": {
     "base_uri": "https://localhost:8080/",
     "height": 35
    },
    "colab_type": "code",
    "executionInfo": {
     "elapsed": 317,
     "status": "ok",
     "timestamp": 1566137300167,
     "user": {
      "displayName": "Ergun Simsek",
      "photoUrl": "https://lh3.googleusercontent.com/-qBP5H5Ff-uU/AAAAAAAAAAI/AAAAAAAAAAc/lXze-Fwum9g/s64/photo.jpg",
      "userId": "16739529127101354422"
     },
     "user_tz": 240
    },
    "id": "s3yEvNqtRqXg",
    "outputId": "9b092459-abd2-43b3-b9da-4f8517969f33"
   },
   "outputs": [],
   "source": [
    "print(array1**2)"
   ]
  },
  {
   "cell_type": "code",
   "execution_count": null,
   "metadata": {
    "colab": {
     "base_uri": "https://localhost:8080/",
     "height": 35
    },
    "colab_type": "code",
    "executionInfo": {
     "elapsed": 323,
     "status": "ok",
     "timestamp": 1566137320726,
     "user": {
      "displayName": "Ergun Simsek",
      "photoUrl": "https://lh3.googleusercontent.com/-qBP5H5Ff-uU/AAAAAAAAAAI/AAAAAAAAAAc/lXze-Fwum9g/s64/photo.jpg",
      "userId": "16739529127101354422"
     },
     "user_tz": 240
    },
    "id": "p17MCr73RqXj",
    "outputId": "f97c41d6-8eae-46d9-e47f-0ff190062eb7"
   },
   "outputs": [],
   "source": [
    "array2 = np.copy(array1)\n",
    "print(array1 + array2)"
   ]
  },
  {
   "cell_type": "code",
   "execution_count": null,
   "metadata": {
    "colab": {
     "base_uri": "https://localhost:8080/",
     "height": 35
    },
    "colab_type": "code",
    "executionInfo": {
     "elapsed": 223,
     "status": "ok",
     "timestamp": 1566137375514,
     "user": {
      "displayName": "Ergun Simsek",
      "photoUrl": "https://lh3.googleusercontent.com/-qBP5H5Ff-uU/AAAAAAAAAAI/AAAAAAAAAAc/lXze-Fwum9g/s64/photo.jpg",
      "userId": "16739529127101354422"
     },
     "user_tz": 240
    },
    "id": "rARFD1xORqXk",
    "outputId": "4829cfa6-d092-41ff-b667-f7d685075ef0"
   },
   "outputs": [],
   "source": [
    "array1 = np.array([1, 2, 3])\n",
    "array2 = np.array([5.0, 10.0, 30.0])\n",
    "print(array1*array2)"
   ]
  },
  {
   "cell_type": "code",
   "execution_count": null,
   "metadata": {
    "colab": {
     "base_uri": "https://localhost:8080/",
     "height": 35
    },
    "colab_type": "code",
    "executionInfo": {
     "elapsed": 281,
     "status": "ok",
     "timestamp": 1566137423259,
     "user": {
      "displayName": "Ergun Simsek",
      "photoUrl": "https://lh3.googleusercontent.com/-qBP5H5Ff-uU/AAAAAAAAAAI/AAAAAAAAAAc/lXze-Fwum9g/s64/photo.jpg",
      "userId": "16739529127101354422"
     },
     "user_tz": 240
    },
    "id": "62X_kKp9RqXl",
    "outputId": "b53f778d-4344-424d-a23f-ffb6237f19d3"
   },
   "outputs": [],
   "source": [
    "np.log10(array1)"
   ]
  },
  {
   "cell_type": "code",
   "execution_count": null,
   "metadata": {
    "colab": {
     "base_uri": "https://localhost:8080/",
     "height": 35
    },
    "colab_type": "code",
    "executionInfo": {
     "elapsed": 316,
     "status": "ok",
     "timestamp": 1566137427337,
     "user": {
      "displayName": "Ergun Simsek",
      "photoUrl": "https://lh3.googleusercontent.com/-qBP5H5Ff-uU/AAAAAAAAAAI/AAAAAAAAAAc/lXze-Fwum9g/s64/photo.jpg",
      "userId": "16739529127101354422"
     },
     "user_tz": 240
    },
    "id": "3XGzi8cBRqXn",
    "outputId": "2a6fcf19-bf7e-4130-a731-2beaf7072704"
   },
   "outputs": [],
   "source": [
    "np.exp(array1)"
   ]
  },
  {
   "cell_type": "code",
   "execution_count": null,
   "metadata": {
    "colab": {
     "base_uri": "https://localhost:8080/",
     "height": 35
    },
    "colab_type": "code",
    "executionInfo": {
     "elapsed": 352,
     "status": "ok",
     "timestamp": 1566137430676,
     "user": {
      "displayName": "Ergun Simsek",
      "photoUrl": "https://lh3.googleusercontent.com/-qBP5H5Ff-uU/AAAAAAAAAAI/AAAAAAAAAAc/lXze-Fwum9g/s64/photo.jpg",
      "userId": "16739529127101354422"
     },
     "user_tz": 240
    },
    "id": "r_xMDQphRqXo",
    "outputId": "d6c0f1e9-b688-42bc-8182-5a10dc145d2f"
   },
   "outputs": [],
   "source": [
    "np.sin(array1)"
   ]
  },
  {
   "cell_type": "code",
   "execution_count": null,
   "metadata": {
    "colab": {
     "base_uri": "https://localhost:8080/",
     "height": 35
    },
    "colab_type": "code",
    "executionInfo": {
     "elapsed": 371,
     "status": "ok",
     "timestamp": 1566137452869,
     "user": {
      "displayName": "Ergun Simsek",
      "photoUrl": "https://lh3.googleusercontent.com/-qBP5H5Ff-uU/AAAAAAAAAAI/AAAAAAAAAAc/lXze-Fwum9g/s64/photo.jpg",
      "userId": "16739529127101354422"
     },
     "user_tz": 240
    },
    "id": "h82vjRbMRqXp",
    "outputId": "897a71cc-d2fc-473d-aa74-bebd68771e4b"
   },
   "outputs": [],
   "source": [
    "np.cosh(array1)"
   ]
  },
  {
   "cell_type": "markdown",
   "metadata": {
    "colab_type": "text",
    "id": "IRmYseOYRqXs"
   },
   "source": [
    "## Matrix Math"
   ]
  },
  {
   "cell_type": "code",
   "execution_count": null,
   "metadata": {
    "colab": {},
    "colab_type": "code",
    "id": "0o6dQCMhRqXs"
   },
   "outputs": [],
   "source": [
    "# For 2-D (and higher) matrices, you can do standard matrix math:\n",
    "arr1 = np.array([[0,1],[2,3]])\n",
    "arr2 = np.array([[4,5],[6,7]])\n"
   ]
  },
  {
   "cell_type": "code",
   "execution_count": null,
   "metadata": {
    "colab": {
     "base_uri": "https://localhost:8080/",
     "height": 52
    },
    "colab_type": "code",
    "executionInfo": {
     "elapsed": 238,
     "status": "ok",
     "timestamp": 1566137505371,
     "user": {
      "displayName": "Ergun Simsek",
      "photoUrl": "https://lh3.googleusercontent.com/-qBP5H5Ff-uU/AAAAAAAAAAI/AAAAAAAAAAc/lXze-Fwum9g/s64/photo.jpg",
      "userId": "16739529127101354422"
     },
     "user_tz": 240
    },
    "id": "ZKzsawkyEZ5n",
    "outputId": "0adb6aa6-76e7-46e4-c47c-fec4a982dbed"
   },
   "outputs": [],
   "source": [
    "print(arr1)"
   ]
  },
  {
   "cell_type": "code",
   "execution_count": null,
   "metadata": {
    "colab": {
     "base_uri": "https://localhost:8080/",
     "height": 52
    },
    "colab_type": "code",
    "executionInfo": {
     "elapsed": 354,
     "status": "ok",
     "timestamp": 1566137513946,
     "user": {
      "displayName": "Ergun Simsek",
      "photoUrl": "https://lh3.googleusercontent.com/-qBP5H5Ff-uU/AAAAAAAAAAI/AAAAAAAAAAc/lXze-Fwum9g/s64/photo.jpg",
      "userId": "16739529127101354422"
     },
     "user_tz": 240
    },
    "id": "VuUs_q-HEam_",
    "outputId": "9d119a5d-8863-4aed-f546-db0b75ff9e5e"
   },
   "outputs": [],
   "source": [
    "print(arr2)"
   ]
  },
  {
   "cell_type": "code",
   "execution_count": null,
   "metadata": {
    "colab": {
     "base_uri": "https://localhost:8080/",
     "height": 52
    },
    "colab_type": "code",
    "executionInfo": {
     "elapsed": 347,
     "status": "ok",
     "timestamp": 1566137526044,
     "user": {
      "displayName": "Ergun Simsek",
      "photoUrl": "https://lh3.googleusercontent.com/-qBP5H5Ff-uU/AAAAAAAAAAI/AAAAAAAAAAc/lXze-Fwum9g/s64/photo.jpg",
      "userId": "16739529127101354422"
     },
     "user_tz": 240
    },
    "id": "2eRJP0-zRqXt",
    "outputId": "6b112841-ce56-4f97-f129-c54ac4d26ee1"
   },
   "outputs": [],
   "source": [
    "# Doing standard matrix math: \n",
    "np.dot(arr1, arr2)  # dot product"
   ]
  },
  {
   "cell_type": "code",
   "execution_count": null,
   "metadata": {
    "colab": {
     "base_uri": "https://localhost:8080/",
     "height": 35
    },
    "colab_type": "code",
    "executionInfo": {
     "elapsed": 342,
     "status": "ok",
     "timestamp": 1566137560485,
     "user": {
      "displayName": "Ergun Simsek",
      "photoUrl": "https://lh3.googleusercontent.com/-qBP5H5Ff-uU/AAAAAAAAAAI/AAAAAAAAAAc/lXze-Fwum9g/s64/photo.jpg",
      "userId": "16739529127101354422"
     },
     "user_tz": 240
    },
    "id": "RQdF5XO1RqXv",
    "outputId": "53f7792f-6682-4c58-f4b9-9c5525366dfa"
   },
   "outputs": [],
   "source": [
    "# Cross product\n",
    "np.cross(arr1, arr2) "
   ]
  },
  {
   "cell_type": "code",
   "execution_count": null,
   "metadata": {
    "colab": {
     "base_uri": "https://localhost:8080/",
     "height": 52
    },
    "colab_type": "code",
    "executionInfo": {
     "elapsed": 450,
     "status": "ok",
     "timestamp": 1566137624832,
     "user": {
      "displayName": "Ergun Simsek",
      "photoUrl": "https://lh3.googleusercontent.com/-qBP5H5Ff-uU/AAAAAAAAAAI/AAAAAAAAAAc/lXze-Fwum9g/s64/photo.jpg",
      "userId": "16739529127101354422"
     },
     "user_tz": 240
    },
    "id": "Qu_LfaRTRqXw",
    "outputId": "5ad3844a-4278-4ee5-ee2c-09931f0933ad"
   },
   "outputs": [],
   "source": [
    "# Eigenvalues and eigenvectors\n",
    "np.linalg.eig(arr1) "
   ]
  },
  {
   "cell_type": "code",
   "execution_count": null,
   "metadata": {
    "colab": {
     "base_uri": "https://localhost:8080/",
     "height": 52
    },
    "colab_type": "code",
    "executionInfo": {
     "elapsed": 318,
     "status": "ok",
     "timestamp": 1566137766381,
     "user": {
      "displayName": "Ergun Simsek",
      "photoUrl": "https://lh3.googleusercontent.com/-qBP5H5Ff-uU/AAAAAAAAAAI/AAAAAAAAAAc/lXze-Fwum9g/s64/photo.jpg",
      "userId": "16739529127101354422"
     },
     "user_tz": 240
    },
    "id": "ZzjvyQtoRqXx",
    "outputId": "fef253aa-46f0-4848-f24d-62c0d9947831"
   },
   "outputs": [],
   "source": [
    "# calculating inverses:\n",
    "np.linalg.inv(arr1)"
   ]
  },
  {
   "cell_type": "code",
   "execution_count": null,
   "metadata": {
    "colab": {
     "base_uri": "https://localhost:8080/",
     "height": 35
    },
    "colab_type": "code",
    "executionInfo": {
     "elapsed": 318,
     "status": "ok",
     "timestamp": 1566137768739,
     "user": {
      "displayName": "Ergun Simsek",
      "photoUrl": "https://lh3.googleusercontent.com/-qBP5H5Ff-uU/AAAAAAAAAAI/AAAAAAAAAAc/lXze-Fwum9g/s64/photo.jpg",
      "userId": "16739529127101354422"
     },
     "user_tz": 240
    },
    "id": "0R2UwmWrRqXy",
    "outputId": "ab155d76-8542-466a-ed37-b0ec65a3255c"
   },
   "outputs": [],
   "source": [
    "# determinant\n",
    "np.linalg.det(arr1)"
   ]
  },
  {
   "cell_type": "markdown",
   "metadata": {
    "colab_type": "text",
    "id": "7c1HOo32RqX0"
   },
   "source": [
    "### Searching Arrays"
   ]
  },
  {
   "cell_type": "code",
   "execution_count": null,
   "metadata": {
    "colab": {
     "base_uri": "https://localhost:8080/",
     "height": 52
    },
    "colab_type": "code",
    "executionInfo": {
     "elapsed": 224,
     "status": "ok",
     "timestamp": 1566137996600,
     "user": {
      "displayName": "Ergun Simsek",
      "photoUrl": "https://lh3.googleusercontent.com/-qBP5H5Ff-uU/AAAAAAAAAAI/AAAAAAAAAAc/lXze-Fwum9g/s64/photo.jpg",
      "userId": "16739529127101354422"
     },
     "user_tz": 240
    },
    "id": "0LTzVfYARqX0",
    "outputId": "f5c8b548-61e2-401f-d85d-e314be8b0784"
   },
   "outputs": [],
   "source": [
    "arr1 = np.arange(6).reshape((2,3))\n",
    "print(arr1)"
   ]
  },
  {
   "cell_type": "code",
   "execution_count": null,
   "metadata": {
    "colab": {
     "base_uri": "https://localhost:8080/",
     "height": 35
    },
    "colab_type": "code",
    "executionInfo": {
     "elapsed": 344,
     "status": "ok",
     "timestamp": 1566138016258,
     "user": {
      "displayName": "Ergun Simsek",
      "photoUrl": "https://lh3.googleusercontent.com/-qBP5H5Ff-uU/AAAAAAAAAAI/AAAAAAAAAAc/lXze-Fwum9g/s64/photo.jpg",
      "userId": "16739529127101354422"
     },
     "user_tz": 240
    },
    "id": "o6_Nvq3BRqX1",
    "outputId": "a7cc2e10-2359-4bd3-e99c-5de8470f9e21"
   },
   "outputs": [],
   "source": [
    "# following command gives the elements of arr1 > 1\n",
    "np.where(arr1 > 1)"
   ]
  },
  {
   "cell_type": "code",
   "execution_count": null,
   "metadata": {
    "colab": {
     "base_uri": "https://localhost:8080/",
     "height": 35
    },
    "colab_type": "code",
    "executionInfo": {
     "elapsed": 382,
     "status": "ok",
     "timestamp": 1566138067797,
     "user": {
      "displayName": "Ergun Simsek",
      "photoUrl": "https://lh3.googleusercontent.com/-qBP5H5Ff-uU/AAAAAAAAAAI/AAAAAAAAAAc/lXze-Fwum9g/s64/photo.jpg",
      "userId": "16739529127101354422"
     },
     "user_tz": 240
    },
    "id": "dlHa52x6RqX3",
    "outputId": "8af19bb6-6b46-42fb-8a2b-6adaf4de509c"
   },
   "outputs": [],
   "source": [
    "print(arr1[0, 2])"
   ]
  },
  {
   "cell_type": "code",
   "execution_count": null,
   "metadata": {
    "colab": {},
    "colab_type": "code",
    "id": "380m0nY4RqX4"
   },
   "outputs": [],
   "source": [
    "print(arr1[1, 0])"
   ]
  },
  {
   "cell_type": "code",
   "execution_count": null,
   "metadata": {
    "colab": {
     "base_uri": "https://localhost:8080/",
     "height": 35
    },
    "colab_type": "code",
    "executionInfo": {
     "elapsed": 322,
     "status": "ok",
     "timestamp": 1566138083561,
     "user": {
      "displayName": "Ergun Simsek",
      "photoUrl": "https://lh3.googleusercontent.com/-qBP5H5Ff-uU/AAAAAAAAAAI/AAAAAAAAAAc/lXze-Fwum9g/s64/photo.jpg",
      "userId": "16739529127101354422"
     },
     "user_tz": 240
    },
    "id": "6S_QyYfsRqX5",
    "outputId": "0bfc0221-1a96-41e2-9c8c-c480b157c958"
   },
   "outputs": [],
   "source": [
    "# you can use more than one criteria\n",
    "# but in that case we should use extra ()s as follows \n",
    "np.where((arr1 > 1) & (arr1<4))"
   ]
  },
  {
   "cell_type": "code",
   "execution_count": null,
   "metadata": {
    "colab": {
     "base_uri": "https://localhost:8080/",
     "height": 52
    },
    "colab_type": "code",
    "executionInfo": {
     "elapsed": 300,
     "status": "ok",
     "timestamp": 1566138116078,
     "user": {
      "displayName": "Ergun Simsek",
      "photoUrl": "https://lh3.googleusercontent.com/-qBP5H5Ff-uU/AAAAAAAAAAI/AAAAAAAAAAc/lXze-Fwum9g/s64/photo.jpg",
      "userId": "16739529127101354422"
     },
     "user_tz": 240
    },
    "id": "CnjLfCaiGwv9",
    "outputId": "65eb0f12-dc30-4aff-ddd8-abc65b579a89"
   },
   "outputs": [],
   "source": [
    "print(arr1)"
   ]
  },
  {
   "cell_type": "markdown",
   "metadata": {
    "colab_type": "text",
    "id": "EbBUd14pRqX8"
   },
   "source": [
    "## Vectorizing Functions"
   ]
  },
  {
   "cell_type": "code",
   "execution_count": null,
   "metadata": {
    "colab": {},
    "colab_type": "code",
    "id": "niwgYfTJRqX8"
   },
   "outputs": [],
   "source": [
    "# Sometimes, you’ll want to make complex functions that don’t \n",
    "# necessarily automatically work with numpy arrays.\n",
    "# SoLution: vectorization.\n",
    "# Let's see how vectorization works with an example"
   ]
  },
  {
   "cell_type": "code",
   "execution_count": null,
   "metadata": {
    "colab": {},
    "colab_type": "code",
    "id": "1ykCsGjMRqX-"
   },
   "outputs": [],
   "source": [
    "def funct1(val):\n",
    "    import numpy as np\n",
    "    if val < np.pi/2: # Doesn’t work with array\n",
    "        x = np.sin(val)\n",
    "    else:\n",
    "        x = np.cos(val)\n",
    "    return x"
   ]
  },
  {
   "cell_type": "code",
   "execution_count": null,
   "metadata": {
    "colab": {
     "base_uri": "https://localhost:8080/",
     "height": 35
    },
    "colab_type": "code",
    "executionInfo": {
     "elapsed": 332,
     "status": "ok",
     "timestamp": 1566138316323,
     "user": {
      "displayName": "Ergun Simsek",
      "photoUrl": "https://lh3.googleusercontent.com/-qBP5H5Ff-uU/AAAAAAAAAAI/AAAAAAAAAAc/lXze-Fwum9g/s64/photo.jpg",
      "userId": "16739529127101354422"
     },
     "user_tz": 240
    },
    "id": "LALTTK2ZHhne",
    "outputId": "e1750c47-9428-4b44-a6c9-660c756c23f8"
   },
   "outputs": [],
   "source": [
    "funct1(0.2)"
   ]
  },
  {
   "cell_type": "code",
   "execution_count": null,
   "metadata": {
    "colab": {
     "base_uri": "https://localhost:8080/",
     "height": 305
    },
    "colab_type": "code",
    "executionInfo": {
     "elapsed": 354,
     "status": "error",
     "timestamp": 1566138382800,
     "user": {
      "displayName": "Ergun Simsek",
      "photoUrl": "https://lh3.googleusercontent.com/-qBP5H5Ff-uU/AAAAAAAAAAI/AAAAAAAAAAc/lXze-Fwum9g/s64/photo.jpg",
      "userId": "16739529127101354422"
     },
     "user_tz": 240
    },
    "id": "fw8PKMcFRqX_",
    "outputId": "b3311480-3426-42f8-8eab-7f1de04ac5d7"
   },
   "outputs": [],
   "source": [
    "z = np.linspace(0,np.pi,5)\n",
    "funct1(z) # will fail"
   ]
  },
  {
   "cell_type": "code",
   "execution_count": null,
   "metadata": {
    "colab": {
     "base_uri": "https://localhost:8080/",
     "height": 52
    },
    "colab_type": "code",
    "executionInfo": {
     "elapsed": 317,
     "status": "ok",
     "timestamp": 1566138420210,
     "user": {
      "displayName": "Ergun Simsek",
      "photoUrl": "https://lh3.googleusercontent.com/-qBP5H5Ff-uU/AAAAAAAAAAI/AAAAAAAAAAc/lXze-Fwum9g/s64/photo.jpg",
      "userId": "16739529127101354422"
     },
     "user_tz": 240
    },
    "id": "9oS-7fCURqYA",
    "outputId": "6c6c3625-e490-48d9-aaa2-e5892bd7ca78"
   },
   "outputs": [],
   "source": [
    "# Now it will work\n",
    "vfunct1 = np.vectorize(funct1)\n",
    "vfunct1(z)"
   ]
  },
  {
   "cell_type": "markdown",
   "metadata": {
    "colab_type": "text",
    "id": "a70L8OdYRqYC"
   },
   "source": [
    "## Saving your output"
   ]
  },
  {
   "cell_type": "code",
   "execution_count": null,
   "metadata": {
    "colab": {},
    "colab_type": "code",
    "id": "O7vfbD-CRqYC"
   },
   "outputs": [],
   "source": [
    "# For individual numpy arrays, there are some quick and dirty methods to save your data:"
   ]
  },
  {
   "cell_type": "code",
   "execution_count": null,
   "metadata": {
    "colab": {},
    "colab_type": "code",
    "id": "FKVFkzOqRqYD"
   },
   "outputs": [],
   "source": [
    "# Quick and Dirty in Text: \n",
    "x = np.arange(100).reshape((25,4))\n",
    "np.savetxt('test.dat', x)"
   ]
  },
  {
   "cell_type": "code",
   "execution_count": null,
   "metadata": {
    "colab": {},
    "colab_type": "code",
    "id": "Poq6B42gRqYG"
   },
   "outputs": [],
   "source": [
    "# Numpy also has some proprietary formats (.npy, .npz) that allow for quick reading of data\n",
    "# Saving a single array: \n",
    "np.save('test.npy', arr1)\n",
    "\n",
    "# Saving multiple arrays: \n",
    "x2 = np.arange(20).reshape((5,4))\n",
    "np.savez('test', a1=x, a2=x2)   # .npz suffix added"
   ]
  },
  {
   "cell_type": "markdown",
   "metadata": {
    "colab_type": "text",
    "id": "Mvy8pQMPRqYH"
   },
   "source": [
    "### Loading Saved Output"
   ]
  },
  {
   "cell_type": "code",
   "execution_count": null,
   "metadata": {
    "colab": {},
    "colab_type": "code",
    "id": "zOE2B9nPRqYH"
   },
   "outputs": [],
   "source": [
    "# To load a single numpy array (.npy file): \n",
    "arr1 = np.load('test.npy')\n",
    "print(arr1)"
   ]
  },
  {
   "cell_type": "code",
   "execution_count": null,
   "metadata": {
    "colab": {},
    "colab_type": "code",
    "id": "4P_4KtVHRqYI"
   },
   "outputs": [],
   "source": [
    "# To load a multiple numpy arrays (.npz file): \n",
    "alldata = np.load('test.npz')\n",
    "# All Data Object is dictionary-like:\n",
    "var1 = alldata['a1']\n",
    "var2 = alldata['a2']\n",
    "print(var1)"
   ]
  },
  {
   "cell_type": "markdown",
   "metadata": {
    "colab_type": "text",
    "id": "mb6h5DBkRqYJ"
   },
   "source": [
    "## LAMBDA FUNCTIONS"
   ]
  },
  {
   "cell_type": "code",
   "execution_count": null,
   "metadata": {
    "colab": {},
    "colab_type": "code",
    "id": "ucaNG-cJRqYK"
   },
   "outputs": [],
   "source": [
    "# Sometimes you want to define a simple function without the full function syntax. \n",
    "# Lambda functions exist for this exact reason: \n",
    "# Defining the Function:\n",
    "funct1 = lambda x: x**2 # Returns the square of x"
   ]
  },
  {
   "cell_type": "code",
   "execution_count": null,
   "metadata": {
    "colab": {
     "base_uri": "https://localhost:8080/",
     "height": 35
    },
    "colab_type": "code",
    "executionInfo": {
     "elapsed": 376,
     "status": "ok",
     "timestamp": 1566138891503,
     "user": {
      "displayName": "Ergun Simsek",
      "photoUrl": "https://lh3.googleusercontent.com/-qBP5H5Ff-uU/AAAAAAAAAAI/AAAAAAAAAAc/lXze-Fwum9g/s64/photo.jpg",
      "userId": "16739529127101354422"
     },
     "user_tz": 240
    },
    "id": "16q_1U0ARqYL",
    "outputId": "4610426d-3b39-4d36-b4e3-690e514e9ee4"
   },
   "outputs": [],
   "source": [
    "# Using the Function:\n",
    "tmpvar1 = funct1(5)\n",
    "print(tmpvar1)"
   ]
  },
  {
   "cell_type": "code",
   "execution_count": null,
   "metadata": {
    "colab": {},
    "colab_type": "code",
    "id": "DDAt2VC6RqYM"
   },
   "outputs": [],
   "source": [
    "# Can use multiple variables:\n",
    "funct2 = lambda x,y: x + y"
   ]
  },
  {
   "cell_type": "code",
   "execution_count": null,
   "metadata": {
    "colab": {
     "base_uri": "https://localhost:8080/",
     "height": 35
    },
    "colab_type": "code",
    "executionInfo": {
     "elapsed": 288,
     "status": "ok",
     "timestamp": 1566138907661,
     "user": {
      "displayName": "Ergun Simsek",
      "photoUrl": "https://lh3.googleusercontent.com/-qBP5H5Ff-uU/AAAAAAAAAAI/AAAAAAAAAAc/lXze-Fwum9g/s64/photo.jpg",
      "userId": "16739529127101354422"
     },
     "user_tz": 240
    },
    "id": "b4Af3UOmRqYN",
    "outputId": "159daec6-46d1-4efb-b8b3-730386062339"
   },
   "outputs": [],
   "source": [
    "# Using the Function:\n",
    "tmpvar2 = funct2(5, 6) \n",
    "print(tmpvar2)"
   ]
  },
  {
   "cell_type": "code",
   "execution_count": null,
   "metadata": {
    "colab": {},
    "colab_type": "code",
    "id": "JXCZswyFRqYP"
   },
   "outputs": [],
   "source": [
    "# LAMBDA FUNCTIONS ARE VERY USEFUL IN E.D.A"
   ]
  },
  {
   "cell_type": "code",
   "execution_count": null,
   "metadata": {
    "colab": {},
    "colab_type": "code",
    "id": "ryus56yPRqYQ"
   },
   "outputs": [],
   "source": []
  }
 ],
 "metadata": {
  "colab": {
   "collapsed_sections": [
    "w3kBiWrkRqVy",
    "YYf1FgVtRqWK",
    "Nu0ECNW7RqWa",
    "tHw1aFyeRqXZ",
    "IRmYseOYRqXs",
    "7c1HOo32RqX0",
    "EbBUd14pRqX8",
    "a70L8OdYRqYC",
    "Mvy8pQMPRqYH",
    "mb6h5DBkRqYJ"
   ],
   "name": "06_Numpy_Numerical_Methods.ipynb",
   "provenance": [],
   "version": "0.3.2"
  },
  "kernelspec": {
   "display_name": "Python 3",
   "language": "python",
   "name": "python3"
  },
  "language_info": {
   "codemirror_mode": {
    "name": "ipython",
    "version": 3
   },
   "file_extension": ".py",
   "mimetype": "text/x-python",
   "name": "python",
   "nbconvert_exporter": "python",
   "pygments_lexer": "ipython3",
   "version": "3.7.1"
  }
 },
 "nbformat": 4,
 "nbformat_minor": 1
}

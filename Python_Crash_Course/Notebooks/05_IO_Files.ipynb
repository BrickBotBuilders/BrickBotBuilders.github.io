{
 "cells": [
  {
   "cell_type": "markdown",
   "metadata": {
    "colab_type": "text",
    "id": "988ZsUcPRfK6"
   },
   "source": [
    "### INPUT()"
   ]
  },
  {
   "cell_type": "code",
   "execution_count": null,
   "metadata": {
    "colab": {
     "base_uri": "https://localhost:8080/",
     "height": 52
    },
    "colab_type": "code",
    "executionInfo": {
     "elapsed": 6434,
     "status": "ok",
     "timestamp": 1566140662372,
     "user": {
      "displayName": "Ergun Simsek",
      "photoUrl": "https://lh3.googleusercontent.com/-qBP5H5Ff-uU/AAAAAAAAAAI/AAAAAAAAAAc/lXze-Fwum9g/s64/photo.jpg",
      "userId": "16739529127101354422"
     },
     "user_tz": 240
    },
    "id": "E56fYBRDRfK7",
    "outputId": "7f35d72b-ce10-4fee-eb6b-7f5b6e05c7f0"
   },
   "outputs": [],
   "source": [
    "# Getting user input until the ENTER key is pressed; returns it as a string \n",
    "name = input(\"What's your name? \")\n",
    "print(\"Nice to meet you \" + name + \"!\")"
   ]
  },
  {
   "cell_type": "markdown",
   "metadata": {
    "colab_type": "text",
    "id": "7NlqUogERfK_"
   },
   "source": [
    "### Builtin OPEN FUNCTION"
   ]
  },
  {
   "cell_type": "code",
   "execution_count": null,
   "metadata": {
    "colab": {
     "base_uri": "https://localhost:8080/",
     "height": 1000
    },
    "colab_type": "code",
    "executionInfo": {
     "elapsed": 1661,
     "status": "ok",
     "timestamp": 1566140781236,
     "user": {
      "displayName": "Ergun Simsek",
      "photoUrl": "https://lh3.googleusercontent.com/-qBP5H5Ff-uU/AAAAAAAAAAI/AAAAAAAAAAc/lXze-Fwum9g/s64/photo.jpg",
      "userId": "16739529127101354422"
     },
     "user_tz": 240
    },
    "id": "hlKsBhwLRfLA",
    "outputId": "d22c94eb-2aac-4a49-cbaf-03dd025ee9a8",
    "scrolled": false
   },
   "outputs": [],
   "source": [
    "f = open(\"./files/text_files/bread.txt\")\n",
    "for line in f:\n",
    "    print(line)\n",
    "f.close()"
   ]
  },
  {
   "cell_type": "markdown",
   "metadata": {
    "colab_type": "text",
    "id": "NCJCUSFgRfLC"
   },
   "source": [
    "### Builtin WRITE FUNCTION"
   ]
  },
  {
   "cell_type": "code",
   "execution_count": null,
   "metadata": {
    "colab": {},
    "colab_type": "code",
    "id": "uUaS6ASARfLD"
   },
   "outputs": [],
   "source": [
    "a = []\n",
    "for i in range(100):\n",
    "    a.append(\"All work and no play makes Jack a dull boy \");\n",
    "f = open(\"anotherfile.txt\", 'w')\n",
    "for line in a:\n",
    "    f.write(line)\n",
    "f.close()"
   ]
  },
  {
   "cell_type": "markdown",
   "metadata": {
    "colab_type": "text",
    "id": "sb7BVywmRfLF"
   },
   "source": [
    "### CHARACTERS"
   ]
  },
  {
   "cell_type": "code",
   "execution_count": null,
   "metadata": {
    "colab": {},
    "colab_type": "code",
    "id": "UusVtYjKRfLF"
   },
   "outputs": [],
   "source": [
    "# In text files, which can be read in notepad++ etc., characters are often \n",
    "# stored in smaller 2-byte areas by code number:\n",
    "ord(\"A\")"
   ]
  },
  {
   "cell_type": "code",
   "execution_count": null,
   "metadata": {
    "colab": {},
    "colab_type": "code",
    "id": "5D-F9e0ARfLI"
   },
   "outputs": [],
   "source": [
    "# Let's play with some characters!!\n",
    "char = chr(8)\n",
    "print(\"hello\" + char + \"world\")"
   ]
  },
  {
   "cell_type": "code",
   "execution_count": null,
   "metadata": {
    "colab": {},
    "colab_type": "code",
    "id": "5_Ve7zyRRfLK"
   },
   "outputs": [],
   "source": [
    "char = chr(7)\n",
    "print(\"hello\" + char + \"world\")"
   ]
  },
  {
   "cell_type": "code",
   "execution_count": null,
   "metadata": {
    "colab": {},
    "colab_type": "code",
    "id": "AjcRBfdbRfLM"
   },
   "outputs": [],
   "source": [
    "print(\"hello\\nworld\")"
   ]
  },
  {
   "cell_type": "markdown",
   "metadata": {
    "colab_type": "text",
    "id": "bazlvCNbRfLP"
   },
   "source": [
    "### MORE ON OPEN FUNCTION"
   ]
  },
  {
   "cell_type": "code",
   "execution_count": null,
   "metadata": {
    "colab": {
     "base_uri": "https://localhost:8080/",
     "height": 55
    },
    "colab_type": "code",
    "executionInfo": {
     "elapsed": 599,
     "status": "ok",
     "timestamp": 1566141262280,
     "user": {
      "displayName": "Ergun Simsek",
      "photoUrl": "https://lh3.googleusercontent.com/-qBP5H5Ff-uU/AAAAAAAAAAI/AAAAAAAAAAc/lXze-Fwum9g/s64/photo.jpg",
      "userId": "16739529127101354422"
     },
     "user_tz": 240
    },
    "id": "GSjiMmEYRfLQ",
    "outputId": "a66556bf-4892-4d66-a6a4-d32d15713971"
   },
   "outputs": [],
   "source": [
    "f = open(\"./files/text_files/ex1data1.txt\")\n",
    "data = []\n",
    "for line in f:\n",
    "    parsed_line = str.split(line,\",\")\n",
    "    data_line = []\n",
    "    for word in parsed_line:\n",
    "        data_line.append(float(word))\n",
    "    data.append(data_line)\n",
    "print(data)\n",
    "f.close()"
   ]
  },
  {
   "cell_type": "markdown",
   "metadata": {
    "colab_type": "text",
    "id": "fzUM4xxERfLS"
   },
   "source": [
    "### WITH "
   ]
  },
  {
   "cell_type": "code",
   "execution_count": null,
   "metadata": {
    "colab": {},
    "colab_type": "code",
    "id": "ecitf5qlRfLT"
   },
   "outputs": [],
   "source": [
    "# The \"with\" keyword sets up a Context Manager, which temporarily deals \n",
    "# with how the code runs. This closes the file automatically when the clause is left.\n",
    "# \n",
    "with open(\"./files/text_files/ex1data1.txt\") as f:\n",
    "    for line in f:\n",
    "        print(line)\n",
    "        "
   ]
  },
  {
   "cell_type": "markdown",
   "metadata": {
    "colab_type": "text",
    "id": "RSUvzjvERfLW"
   },
   "source": [
    "### Reading multiple files"
   ]
  },
  {
   "cell_type": "code",
   "execution_count": null,
   "metadata": {
    "colab": {
     "base_uri": "https://localhost:8080/",
     "height": 1000
    },
    "colab_type": "code",
    "executionInfo": {
     "elapsed": 1119,
     "status": "error",
     "timestamp": 1566141521851,
     "user": {
      "displayName": "Ergun Simsek",
      "photoUrl": "https://lh3.googleusercontent.com/-qBP5H5Ff-uU/AAAAAAAAAAI/AAAAAAAAAAc/lXze-Fwum9g/s64/photo.jpg",
      "userId": "16739529127101354422"
     },
     "user_tz": 240
    },
    "id": "5HnN6ofSRfLW",
    "outputId": "6279af18-21e8-4ca4-c110-5c65e82c63c5"
   },
   "outputs": [],
   "source": [
    "import fileinput\n",
    "a = [\"./files/text_files/example3.txt\", \n",
    "     \"./files/text_files/Genescan.txt\", \n",
    "     \"./files/text_files/FAME.txt\"]\n",
    "b = fileinput.input(a)\n",
    "for line in b:\n",
    "    print(b.filename())\n",
    "    print(line)\n",
    "b.close()"
   ]
  },
  {
   "cell_type": "code",
   "execution_count": null,
   "metadata": {
    "colab": {
     "base_uri": "https://localhost:8080/",
     "height": 173
    },
    "colab_type": "code",
    "executionInfo": {
     "elapsed": 1074,
     "status": "ok",
     "timestamp": 1566142114686,
     "user": {
      "displayName": "Ergun Simsek",
      "photoUrl": "https://lh3.googleusercontent.com/-qBP5H5Ff-uU/AAAAAAAAAAI/AAAAAAAAAAc/lXze-Fwum9g/s64/photo.jpg",
      "userId": "16739529127101354422"
     },
     "user_tz": 240
    },
    "id": "HWrDbklvV_AW",
    "outputId": "8edc5b0d-ac44-48b3-e58c-6c8432967741"
   },
   "outputs": [],
   "source": [
    "!ls"
   ]
  },
  {
   "cell_type": "markdown",
   "metadata": {
    "colab_type": "text",
    "id": "1W7P6fVkRfLa"
   },
   "source": [
    "# FILE TYPES"
   ]
  },
  {
   "cell_type": "markdown",
   "metadata": {
    "colab_type": "text",
    "id": "79I7Tk4hRfLb"
   },
   "source": [
    "### WORKING WITH CSV FILES"
   ]
  },
  {
   "cell_type": "code",
   "execution_count": null,
   "metadata": {
    "colab": {
     "base_uri": "https://localhost:8080/",
     "height": 121
    },
    "colab_type": "code",
    "executionInfo": {
     "elapsed": 317,
     "status": "ok",
     "timestamp": 1566142404384,
     "user": {
      "displayName": "Ergun Simsek",
      "photoUrl": "https://lh3.googleusercontent.com/-qBP5H5Ff-uU/AAAAAAAAAAI/AAAAAAAAAAc/lXze-Fwum9g/s64/photo.jpg",
      "userId": "16739529127101354422"
     },
     "user_tz": 240
    },
    "id": "jdHLoXCfRfLc",
    "outputId": "57a993c7-73ab-4d2a-e254-7964fb9fc202"
   },
   "outputs": [],
   "source": [
    "import csv\n",
    "f = open('./files/csv_files/csv_plain_file.csv', newline='')\n",
    "reader = csv.reader(f, quoting=csv.QUOTE_NONNUMERIC)\n",
    "for row in reader: # A list of rows\n",
    "    for value in row: # A list of value\n",
    "        print(value) # Floats\n",
    "f.close() # Don't close until you are done with the reader;"
   ]
  },
  {
   "cell_type": "code",
   "execution_count": null,
   "metadata": {
    "colab": {
     "base_uri": "https://localhost:8080/",
     "height": 69
    },
    "colab_type": "code",
    "executionInfo": {
     "elapsed": 819,
     "status": "ok",
     "timestamp": 1566142501342,
     "user": {
      "displayName": "Ergun Simsek",
      "photoUrl": "https://lh3.googleusercontent.com/-qBP5H5Ff-uU/AAAAAAAAAAI/AAAAAAAAAAc/lXze-Fwum9g/s64/photo.jpg",
      "userId": "16739529127101354422"
     },
     "user_tz": 240
    },
    "id": "_NxuaOGGRfLe",
    "outputId": "be0beb3d-7265-42df-b1e7-c5bb7ea8fc07"
   },
   "outputs": [],
   "source": [
    "import csv\n",
    "with open('./files/csv_files/addresses.csv') as csvfile:\n",
    "    readCSV = csv.reader(csvfile, delimiter=',')\n",
    "    firstnames, lastnames, streets, citys, states,zipcodes = [], [], [],[], [], []\n",
    "        \n",
    "    for row in readCSV:\n",
    "        firstname, lastname, street = row[0], row[1], row[2] \n",
    "        city, state, zipcode  = row[3], row[4], row[5]  \n",
    "\n",
    "        firstnames.append(firstname)\n",
    "        lastnames.append(lastname)\n",
    "        zipcodes.append(zipcode)\n",
    "\n",
    "    print(firstnames)\n",
    "    print(lastnames)\n",
    "    print(zipcodes)"
   ]
  },
  {
   "cell_type": "code",
   "execution_count": null,
   "metadata": {
    "colab": {},
    "colab_type": "code",
    "id": "pcukdmovRfLg"
   },
   "outputs": [],
   "source": [
    "import csv\n",
    "f = open('../files/csv_files/plain_csv_file.csv', newline='') \n",
    "reader = csv.reader(f, quoting=csv.QUOTE_NONNUMERIC)\n",
    "for row in reader: # A list of rows\n",
    "    for value in row: # A list of value\n",
    "        print(value) # Floats\n",
    "f.close() # Don't close until you are done with the reader;\n",
    "          # the data is read on request."
   ]
  },
  {
   "cell_type": "code",
   "execution_count": null,
   "metadata": {
    "colab": {
     "base_uri": "https://localhost:8080/",
     "height": 121
    },
    "colab_type": "code",
    "executionInfo": {
     "elapsed": 336,
     "status": "ok",
     "timestamp": 1566142699293,
     "user": {
      "displayName": "Ergun Simsek",
      "photoUrl": "https://lh3.googleusercontent.com/-qBP5H5Ff-uU/AAAAAAAAAAI/AAAAAAAAAAc/lXze-Fwum9g/s64/photo.jpg",
      "userId": "16739529127101354422"
     },
     "user_tz": 240
    },
    "id": "31hQV4qPRfLi",
    "outputId": "1a33f4f0-8cb4-4e64-efe5-cdae45eb159d"
   },
   "outputs": [],
   "source": [
    "# let's create a new csv file from an existing one\n",
    "# new file will contain only the information that we want/need\n",
    "import csv\n",
    "f2 = open('dataout1.csv', 'w', newline='') \n",
    "writer = csv.writer(f2, delimiter=',')\n",
    "\n",
    "with open('./files/csv_files/addresses.csv') as csvfile:\n",
    "    readCSV = csv.reader(csvfile, delimiter=',')\n",
    "    firstnames, lastnames, streets, citys, states,zipcodes = [], [], [],[], [], []\n",
    "        \n",
    "    for row in readCSV:\n",
    "        firstname, lastname, street = row[0], row[1], row[2] \n",
    "        city, state, zipcode  = row[3], row[4], row[5]\n",
    "        data2write = (firstname,lastname,state)\n",
    "        print(data2write)\n",
    "        writer.writerow(data2write)\n",
    "        \n",
    "    f2.close()"
   ]
  },
  {
   "cell_type": "code",
   "execution_count": null,
   "metadata": {
    "colab": {
     "base_uri": "https://localhost:8080/",
     "height": 121
    },
    "colab_type": "code",
    "executionInfo": {
     "elapsed": 324,
     "status": "ok",
     "timestamp": 1566142832470,
     "user": {
      "displayName": "Ergun Simsek",
      "photoUrl": "https://lh3.googleusercontent.com/-qBP5H5Ff-uU/AAAAAAAAAAI/AAAAAAAAAAc/lXze-Fwum9g/s64/photo.jpg",
      "userId": "16739529127101354422"
     },
     "user_tz": 240
    },
    "id": "DKWgxFwwRfLk",
    "outputId": "4dc6683f-0186-4d1e-f317-3ad9ce471c19"
   },
   "outputs": [],
   "source": [
    "# Let's read csv and write txt\n",
    "import csv\n",
    "\n",
    "with open('./files/csv_files/addresses.csv') as csvfile:\n",
    "    f2 = open(\"textout.txt\", \"w\")\n",
    "\n",
    "    readCSV = csv.reader(csvfile, delimiter=',')\n",
    "    firstnames, lastnames, streets, citys, states,zipcodes = [], [], [],[], [], []\n",
    "        \n",
    "    for row in readCSV:\n",
    "        firstname, lastname, street = row[0], row[1], row[2] \n",
    "        city, state, zipcode  = row[3], row[4], row[5]\n",
    "        text2write = firstname+' lives in '+ city +', '+state\n",
    "        print(text2write)\n",
    "        f2.write(text2write+'\\n')\n",
    "        \n",
    "    f2.close()"
   ]
  },
  {
   "cell_type": "markdown",
   "metadata": {
    "colab_type": "text",
    "id": "X8tk0CnYRfLl"
   },
   "source": [
    "### JSON FILES"
   ]
  },
  {
   "cell_type": "code",
   "execution_count": null,
   "metadata": {
    "colab": {},
    "colab_type": "code",
    "id": "UifGLPUSRfLm"
   },
   "outputs": [],
   "source": [
    "# Writing JSON to a FILE"
   ]
  },
  {
   "cell_type": "code",
   "execution_count": null,
   "metadata": {
    "colab": {},
    "colab_type": "code",
    "id": "yZcVX-y1RfLo"
   },
   "outputs": [],
   "source": [
    "import json\n",
    "\n",
    "data = {}  \n",
    "data['people'] = []  \n",
    "data['people'].append({  \n",
    "    'name': 'Scott',\n",
    "    'website': 'umbc.edu',\n",
    "    'from': 'Maryland'\n",
    "})\n",
    "data['people'].append({  \n",
    "    'name': 'Larry',\n",
    "    'website': 'google.com',\n",
    "    'from': 'Michigan'\n",
    "})\n",
    "data['people'].append({  \n",
    "    'name': 'Tim',\n",
    "    'website': 'apple.com',\n",
    "    'from': 'Alabama'\n",
    "})\n",
    "\n",
    "with open('./outputs/json_data.txt', 'w') as outfile:  \n",
    "    json.dump(data, outfile)"
   ]
  },
  {
   "cell_type": "code",
   "execution_count": null,
   "metadata": {
    "colab": {},
    "colab_type": "code",
    "id": "pUTzEN6QRfLr"
   },
   "outputs": [],
   "source": [
    "# Reading JSON from a TXT File\n",
    "\n",
    "import json\n",
    "\n",
    "with open('./outputs/json_data.txt') as json_file:  \n",
    "    data = json.load(json_file)\n",
    "    for p in data['people']:\n",
    "        print('Name: ' + p['name'])\n",
    "        print('Website: ' + p['website'])\n",
    "        print('From: ' + p['from'])\n",
    "        print('')"
   ]
  },
  {
   "cell_type": "code",
   "execution_count": null,
   "metadata": {
    "colab": {},
    "colab_type": "code",
    "id": "IQ_5d_mFRfLv"
   },
   "outputs": [],
   "source": [
    "# JSON Read\n",
    "import json\n",
    "f = open('../files/json_files/geo_data.json')\n",
    "data = json.load(f)\n",
    "f.close()    \n",
    "print(data)\n",
    "print('____________________________________')\n",
    "print(data[\"features\"])\n",
    "print('____________________________________')\n",
    "print(data[\"features\"][0][\"geometry\"])\n",
    "print('____________________________________')\n",
    "for i in data[\"features\"]:\n",
    "    print(i[\"geometry\"][\"coordinates\"][0])"
   ]
  },
  {
   "cell_type": "markdown",
   "metadata": {
    "colab_type": "text",
    "id": "uUky1v83RfLy"
   },
   "source": [
    "## Operating System"
   ]
  },
  {
   "cell_type": "code",
   "execution_count": null,
   "metadata": {
    "colab": {
     "base_uri": "https://localhost:8080/",
     "height": 55
    },
    "colab_type": "code",
    "executionInfo": {
     "elapsed": 312,
     "status": "ok",
     "timestamp": 1566142929366,
     "user": {
      "displayName": "Ergun Simsek",
      "photoUrl": "https://lh3.googleusercontent.com/-qBP5H5Ff-uU/AAAAAAAAAAI/AAAAAAAAAAc/lXze-Fwum9g/s64/photo.jpg",
      "userId": "16739529127101354422"
     },
     "user_tz": 240
    },
    "id": "oSFq6tCURfLz",
    "outputId": "3061b814-1d63-4ac4-b94b-ee547d707e97"
   },
   "outputs": [],
   "source": [
    "import os\n",
    "print(os.environ[\"PATH\"])"
   ]
  },
  {
   "cell_type": "code",
   "execution_count": null,
   "metadata": {
    "colab": {
     "base_uri": "https://localhost:8080/",
     "height": 35
    },
    "colab_type": "code",
    "executionInfo": {
     "elapsed": 359,
     "status": "ok",
     "timestamp": 1566142942593,
     "user": {
      "displayName": "Ergun Simsek",
      "photoUrl": "https://lh3.googleusercontent.com/-qBP5H5Ff-uU/AAAAAAAAAAI/AAAAAAAAAAc/lXze-Fwum9g/s64/photo.jpg",
      "userId": "16739529127101354422"
     },
     "user_tz": 240
    },
    "id": "22mB3UlLRfL2",
    "outputId": "1efa74ca-2fca-4fbb-f730-16330d16600e"
   },
   "outputs": [],
   "source": [
    "print(os.environ[\"HOME\"])"
   ]
  },
  {
   "cell_type": "code",
   "execution_count": null,
   "metadata": {
    "colab": {
     "base_uri": "https://localhost:8080/",
     "height": 35
    },
    "colab_type": "code",
    "executionInfo": {
     "elapsed": 343,
     "status": "ok",
     "timestamp": 1566142949481,
     "user": {
      "displayName": "Ergun Simsek",
      "photoUrl": "https://lh3.googleusercontent.com/-qBP5H5Ff-uU/AAAAAAAAAAI/AAAAAAAAAAc/lXze-Fwum9g/s64/photo.jpg",
      "userId": "16739529127101354422"
     },
     "user_tz": 240
    },
    "id": "jzZei8_gRfL4",
    "outputId": "a3557863-414c-49a1-ef13-7b578a7ad01e"
   },
   "outputs": [],
   "source": [
    "# Current working directory.\n",
    "os.getcwd()  "
   ]
  },
  {
   "cell_type": "code",
   "execution_count": null,
   "metadata": {
    "colab": {
     "base_uri": "https://localhost:8080/",
     "height": 1000
    },
    "colab_type": "code",
    "executionInfo": {
     "elapsed": 314,
     "status": "ok",
     "timestamp": 1566142976177,
     "user": {
      "displayName": "Ergun Simsek",
      "photoUrl": "https://lh3.googleusercontent.com/-qBP5H5Ff-uU/AAAAAAAAAAI/AAAAAAAAAAc/lXze-Fwum9g/s64/photo.jpg",
      "userId": "16739529127101354422"
     },
     "user_tz": 240
    },
    "id": "KWT6oQO2RfL6",
    "outputId": "4027758b-1ab2-4b80-8d7a-351e03f176ef"
   },
   "outputs": [],
   "source": [
    "# List of everything in the present directory.\n",
    "os.listdir(path='./..')  "
   ]
  },
  {
   "cell_type": "code",
   "execution_count": null,
   "metadata": {
    "colab": {
     "base_uri": "https://localhost:8080/",
     "height": 35
    },
    "colab_type": "code",
    "executionInfo": {
     "elapsed": 359,
     "status": "ok",
     "timestamp": 1566143030352,
     "user": {
      "displayName": "Ergun Simsek",
      "photoUrl": "https://lh3.googleusercontent.com/-qBP5H5Ff-uU/AAAAAAAAAAI/AAAAAAAAAAc/lXze-Fwum9g/s64/photo.jpg",
      "userId": "16739529127101354422"
     },
     "user_tz": 240
    },
    "id": "MwoA4OVFRfL8",
    "outputId": "70283735-97f0-410e-9a6f-d80b407e2925"
   },
   "outputs": [],
   "source": [
    "# run the command mkdir (make a directory) in the system shell\n",
    "os.system('mkdir test_folder')"
   ]
  },
  {
   "cell_type": "code",
   "execution_count": null,
   "metadata": {
    "colab": {
     "base_uri": "https://localhost:8080/",
     "height": 381
    },
    "colab_type": "code",
    "executionInfo": {
     "elapsed": 323,
     "status": "ok",
     "timestamp": 1566143052015,
     "user": {
      "displayName": "Ergun Simsek",
      "photoUrl": "https://lh3.googleusercontent.com/-qBP5H5Ff-uU/AAAAAAAAAAI/AAAAAAAAAAc/lXze-Fwum9g/s64/photo.jpg",
      "userId": "16739529127101354422"
     },
     "user_tz": 240
    },
    "id": "0OJP21m3RfL-",
    "outputId": "1b50eb8d-9f92-47b7-fa29-daa2d13ab798"
   },
   "outputs": [],
   "source": [
    "# list everything in the present directory\n",
    "os.listdir(path='.') "
   ]
  },
  {
   "cell_type": "code",
   "execution_count": null,
   "metadata": {
    "colab": {},
    "colab_type": "code",
    "id": "TxlktiiFRfMA"
   },
   "outputs": [],
   "source": [
    "# now we have a new folder called \"test_folder\". let's go into that directory\n",
    "os.chdir('./test_folder/')"
   ]
  },
  {
   "cell_type": "code",
   "execution_count": null,
   "metadata": {
    "colab": {
     "base_uri": "https://localhost:8080/",
     "height": 35
    },
    "colab_type": "code",
    "executionInfo": {
     "elapsed": 320,
     "status": "ok",
     "timestamp": 1566143086922,
     "user": {
      "displayName": "Ergun Simsek",
      "photoUrl": "https://lh3.googleusercontent.com/-qBP5H5Ff-uU/AAAAAAAAAAI/AAAAAAAAAAc/lXze-Fwum9g/s64/photo.jpg",
      "userId": "16739529127101354422"
     },
     "user_tz": 240
    },
    "id": "pAmpBoG8RfMB",
    "outputId": "2fcac81a-38a1-4f3d-d9c0-47c5cbbe88b1"
   },
   "outputs": [],
   "source": [
    "os.getcwd()"
   ]
  },
  {
   "cell_type": "code",
   "execution_count": null,
   "metadata": {
    "colab": {},
    "colab_type": "code",
    "id": "-VXpQ5K6RfMD"
   },
   "outputs": [],
   "source": [
    "# let's go back to previous folder\n",
    "os.chdir('./..')\n",
    "os.getcwd()"
   ]
  },
  {
   "cell_type": "code",
   "execution_count": null,
   "metadata": {
    "colab": {},
    "colab_type": "code",
    "id": "p4QEp1INRfMF"
   },
   "outputs": [],
   "source": [
    "os.system('mkdir test_folder2')"
   ]
  },
  {
   "cell_type": "code",
   "execution_count": null,
   "metadata": {
    "colab": {},
    "colab_type": "code",
    "id": "mfOgX9sXRfMH"
   },
   "outputs": [],
   "source": [
    "# let's create a folder inside the test_folder2\n",
    "os.system('mkdir test_folder2/test_subfolder1')"
   ]
  },
  {
   "cell_type": "code",
   "execution_count": null,
   "metadata": {
    "colab": {},
    "colab_type": "code",
    "id": "rxphEf6DRfMJ"
   },
   "outputs": [],
   "source": [
    "# let's list subdirectories\n",
    "import pathlib\n",
    "p = pathlib.Path('.') # current directory\n",
    "for x in p.iterdir():\n",
    "    if x.is_dir():\n",
    "        print(x)"
   ]
  },
  {
   "cell_type": "code",
   "execution_count": null,
   "metadata": {
    "colab": {},
    "colab_type": "code",
    "id": "D5EKhyebRfML"
   },
   "outputs": [],
   "source": [
    "# CREATING A FILE AT CURRENT DIRECTORY\n",
    "f = open('test_file.txt',\"w+\")"
   ]
  },
  {
   "cell_type": "code",
   "execution_count": null,
   "metadata": {
    "colab": {},
    "colab_type": "code",
    "id": "pBXuDaPTRfMO"
   },
   "outputs": [],
   "source": [
    "# WRITING IN A FILE\n",
    "for x in range(10):\n",
    "    f.write(\"This is line %d\\r\\n\" % (x+1))"
   ]
  },
  {
   "cell_type": "code",
   "execution_count": null,
   "metadata": {
    "colab": {},
    "colab_type": "code",
    "id": "rDbK95LjRfMP"
   },
   "outputs": [],
   "source": [
    "# CLOSING A FILE\n",
    "f.close()"
   ]
  },
  {
   "cell_type": "code",
   "execution_count": null,
   "metadata": {
    "colab": {},
    "colab_type": "code",
    "id": "sHA6WKwSRfMS"
   },
   "outputs": [],
   "source": [
    "# OPENING AN EXISTING FILE AND APPENDING IT\n",
    "g = open(\"test_file.txt\",\"+a\")"
   ]
  },
  {
   "cell_type": "code",
   "execution_count": null,
   "metadata": {
    "colab": {},
    "colab_type": "code",
    "id": "9eVsuJMQRfMT"
   },
   "outputs": [],
   "source": [
    "for x in range(5):\n",
    "    g.write(\"Appended line %d\\r\\n\" % (x+1))"
   ]
  },
  {
   "cell_type": "code",
   "execution_count": null,
   "metadata": {
    "colab": {},
    "colab_type": "code",
    "id": "diVXj7YURfMV"
   },
   "outputs": [],
   "source": [
    "g.close()"
   ]
  },
  {
   "cell_type": "code",
   "execution_count": null,
   "metadata": {
    "colab": {},
    "colab_type": "code",
    "id": "LFSfB53TRfMX"
   },
   "outputs": [],
   "source": [
    "# READING A LOCAL FILE\n",
    "with open('test_file.txt','r') as h:\n",
    "    for line in h:\n",
    "        print(line.rstrip('\\n'))"
   ]
  },
  {
   "cell_type": "code",
   "execution_count": null,
   "metadata": {
    "colab": {},
    "colab_type": "code",
    "id": "8W6L8bgdRfMa"
   },
   "outputs": [],
   "source": [
    "# Let's list all the txt files in this folder and subfolders\n",
    "import glob\n",
    "glob.glob('**/*.txt', recursive=True)"
   ]
  },
  {
   "cell_type": "markdown",
   "metadata": {
    "colab_type": "text",
    "id": "x53DMNDARfMb"
   },
   "source": [
    "### Accessing online files"
   ]
  },
  {
   "cell_type": "code",
   "execution_count": null,
   "metadata": {
    "colab": {},
    "colab_type": "code",
    "id": "fxTIl2XYRfMc"
   },
   "outputs": [],
   "source": [
    "import requests"
   ]
  },
  {
   "cell_type": "code",
   "execution_count": null,
   "metadata": {
    "colab": {},
    "colab_type": "code",
    "id": "DKvFrrXBRfMe"
   },
   "outputs": [],
   "source": [
    "import csv\n",
    "CSV_URL = 'http://samplecsvs.s3.amazonaws.com/Sacramentorealestatetransactions.csv'"
   ]
  },
  {
   "cell_type": "code",
   "execution_count": null,
   "metadata": {
    "colab": {
     "base_uri": "https://localhost:8080/",
     "height": 1000
    },
    "colab_type": "code",
    "executionInfo": {
     "elapsed": 893,
     "status": "ok",
     "timestamp": 1566143468528,
     "user": {
      "displayName": "Ergun Simsek",
      "photoUrl": "https://lh3.googleusercontent.com/-qBP5H5Ff-uU/AAAAAAAAAAI/AAAAAAAAAAc/lXze-Fwum9g/s64/photo.jpg",
      "userId": "16739529127101354422"
     },
     "user_tz": 240
    },
    "id": "-gTa5tqHRfMi",
    "outputId": "d396910f-4ae3-4fb1-a35c-bafef1e7d3c1"
   },
   "outputs": [],
   "source": [
    "with requests.Session() as s:\n",
    "    download = s.get(CSV_URL)\n",
    "#\n",
    "    decoded_content = download.content.decode('utf-8')\n",
    "#\n",
    "    cr = csv.reader(decoded_content.splitlines(), delimiter=',')\n",
    "    my_list = list(cr)\n",
    "    for row in my_list:\n",
    "        print(row)"
   ]
  },
  {
   "cell_type": "code",
   "execution_count": null,
   "metadata": {
    "colab": {
     "base_uri": "https://localhost:8080/",
     "height": 1000
    },
    "colab_type": "code",
    "executionInfo": {
     "elapsed": 670,
     "status": "ok",
     "timestamp": 1566143798014,
     "user": {
      "displayName": "Ergun Simsek",
      "photoUrl": "https://lh3.googleusercontent.com/-qBP5H5Ff-uU/AAAAAAAAAAI/AAAAAAAAAAc/lXze-Fwum9g/s64/photo.jpg",
      "userId": "16739529127101354422"
     },
     "user_tz": 240
    },
    "id": "2xZp7wBiRfMj",
    "outputId": "d23b49d5-42f0-480b-f5d9-5eec5a9c2f91"
   },
   "outputs": [],
   "source": [
    "# ANOTHER EXAMPLE\n",
    "url = 'http://climatedataapi.worldbank.org/climateweb/rest/v1/country/cru/tas/year/CAN.csv'\n",
    "response = requests.get(url)\n",
    "if response.status_code != 200:\n",
    "    print('Failed to get data:', response.status_code)\n",
    "else:\n",
    "    wrapper = csv.reader(response.text.strip().split('\\n'))\n",
    "    results = []\n",
    "    for record in wrapper:\n",
    "        if record[0] != 'year':\n",
    "            year = int(record[0])\n",
    "            value = float(record[1])\n",
    "            print(year, value)"
   ]
  },
  {
   "cell_type": "markdown",
   "metadata": {
    "colab_type": "text",
    "id": "BaZm_dbgRfMk"
   },
   "source": [
    "#### ACCESSING WEBSITES"
   ]
  },
  {
   "cell_type": "code",
   "execution_count": null,
   "metadata": {
    "colab": {
     "base_uri": "https://localhost:8080/",
     "height": 1000
    },
    "colab_type": "code",
    "executionInfo": {
     "elapsed": 977,
     "status": "ok",
     "timestamp": 1566143926190,
     "user": {
      "displayName": "Ergun Simsek",
      "photoUrl": "https://lh3.googleusercontent.com/-qBP5H5Ff-uU/AAAAAAAAAAI/AAAAAAAAAAc/lXze-Fwum9g/s64/photo.jpg",
      "userId": "16739529127101354422"
     },
     "user_tz": 240
    },
    "id": "WzfPayJMRfMl",
    "outputId": "eec72d01-6f2b-4083-ef18-df8ffab73647"
   },
   "outputs": [],
   "source": [
    "response = requests.get('http://datascience.umbc.edu/')\n",
    "print(response.text)"
   ]
  },
  {
   "cell_type": "code",
   "execution_count": null,
   "metadata": {
    "colab": {
     "base_uri": "https://localhost:8080/",
     "height": 867
    },
    "colab_type": "code",
    "executionInfo": {
     "elapsed": 956,
     "status": "ok",
     "timestamp": 1566144084461,
     "user": {
      "displayName": "Ergun Simsek",
      "photoUrl": "https://lh3.googleusercontent.com/-qBP5H5Ff-uU/AAAAAAAAAAI/AAAAAAAAAAc/lXze-Fwum9g/s64/photo.jpg",
      "userId": "16739529127101354422"
     },
     "user_tz": 240
    },
    "id": "tKDtzo-BRfMm",
    "outputId": "169bf08b-606f-4a55-889e-032fc1ad6950"
   },
   "outputs": [],
   "source": [
    "# LET'S DO SOME WEBCRAWLING\n",
    "from urllib.request import urlopen\n",
    "import re\n",
    "# conntect to a url\n",
    "website = urlopen('http://datascience.umbc.edu/')\n",
    "# read htmlcode\n",
    "html = website.read().decode('utf-8')\n",
    "\n",
    "#use re.findall to get all the links\n",
    "links = re.findall('\"((http|ftp)s?://.*?)\"', html)\n",
    "\n",
    "# print links\n",
    "for onelink in links:\n",
    "    print(onelink)"
   ]
  },
  {
   "cell_type": "code",
   "execution_count": null,
   "metadata": {
    "colab": {},
    "colab_type": "code",
    "id": "mhUTIr8eRfMo"
   },
   "outputs": [],
   "source": []
  },
  {
   "cell_type": "markdown",
   "metadata": {
    "colab_type": "raw",
    "id": "6pBABAsSRfMp"
   },
   "source": [
    "# EMAIL CRAWLING!!!\n",
    "website = urlopen('https://dps.umbc.edu/staffdirectory')\n",
    "# read htmlcode\n",
    "html = website.read().decode('utf-8')\n",
    "\n",
    "#use re.findall to get all the links\n",
    "email_addresses = re.findall(r\"[a-z0-9\\.\\-+_]+@[a-z0-9\\.\\-+_]+\\.[a-z]+\", html)\n",
    "\n",
    "# print email_addresses\n",
    "for an_email_address in email_addresses:\n",
    "    print(an_email_address)"
   ]
  },
  {
   "cell_type": "code",
   "execution_count": null,
   "metadata": {
    "colab": {},
    "colab_type": "code",
    "id": "15Ux_e2CRfMq"
   },
   "outputs": [],
   "source": []
  }
 ],
 "metadata": {
  "colab": {
   "collapsed_sections": [
    "7NlqUogERfK_",
    "NCJCUSFgRfLC",
    "sb7BVywmRfLF",
    "bazlvCNbRfLP",
    "fzUM4xxERfLS",
    "RSUvzjvERfLW",
    "79I7Tk4hRfLb",
    "X8tk0CnYRfLl",
    "uUky1v83RfLy",
    "x53DMNDARfMb",
    "BaZm_dbgRfMk"
   ],
   "name": "05_IO_Files.ipynb",
   "provenance": [],
   "version": "0.3.2"
  },
  "kernelspec": {
   "display_name": "Python 3",
   "language": "python",
   "name": "python3"
  },
  "language_info": {
   "codemirror_mode": {
    "name": "ipython",
    "version": 3
   },
   "file_extension": ".py",
   "mimetype": "text/x-python",
   "name": "python",
   "nbconvert_exporter": "python",
   "pygments_lexer": "ipython3",
   "version": "3.7.1"
  }
 },
 "nbformat": 4,
 "nbformat_minor": 1
}

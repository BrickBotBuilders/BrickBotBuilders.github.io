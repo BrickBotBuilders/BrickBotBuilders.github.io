{
 "cells": [
  {
   "cell_type": "markdown",
   "metadata": {
    "colab_type": "text",
    "id": "AdlxcEXoRND7"
   },
   "source": [
    "# LISTs"
   ]
  },
  {
   "cell_type": "code",
   "execution_count": null,
   "metadata": {
    "colab": {},
    "colab_type": "code",
    "id": "AkzHbQJ-FVC-"
   },
   "outputs": [],
   "source": [
    "# A list is a collection which is ordered and changeable. In Python lists are written with square brackets.\n",
    "thislist = [\"apple\", \"banana\", \"cherry\"]\n",
    "print(thislist)"
   ]
  },
  {
   "cell_type": "code",
   "execution_count": null,
   "metadata": {
    "colab": {},
    "colab_type": "code",
    "id": "5B5a2TxLFfcW"
   },
   "outputs": [],
   "source": [
    "print(thislist[1])"
   ]
  },
  {
   "cell_type": "code",
   "execution_count": null,
   "metadata": {
    "colab": {},
    "colab_type": "code",
    "id": "5T986BdPFisx"
   },
   "outputs": [],
   "source": [
    "# Change Item Value\n",
    "thislist[2] = \"orange\"\n",
    "print(thislist)"
   ]
  },
  {
   "cell_type": "code",
   "execution_count": null,
   "metadata": {
    "colab": {},
    "colab_type": "code",
    "id": "rC1t0COAFrQB"
   },
   "outputs": [],
   "source": [
    "# Loop Through a List\n",
    "for x in thislist:\n",
    "  print(x)"
   ]
  },
  {
   "cell_type": "code",
   "execution_count": null,
   "metadata": {
    "colab": {},
    "colab_type": "code",
    "id": "DOmDOORGFymZ"
   },
   "outputs": [],
   "source": [
    "# Check if Item Exists\n",
    "anitem = \"apple\"\n",
    "if anitem in thislist:\n",
    "  print(\"Yes,\", anitem,\"is in the fruits list\")\n",
    "else:\n",
    "  print(\"No,\", anitem,\"is not in the fruits list\")  "
   ]
  },
  {
   "cell_type": "code",
   "execution_count": null,
   "metadata": {
    "colab": {},
    "colab_type": "code",
    "id": "msmchpb9GOgp"
   },
   "outputs": [],
   "source": [
    "anitem = \"blackberry\"\n",
    "if anitem in thislist:\n",
    "  print(\"Yes,\", anitem,\"is in the fruits list\")\n",
    "else:\n",
    "  print(\"No,\", anitem,\"is not in the fruits list\")"
   ]
  },
  {
   "cell_type": "code",
   "execution_count": null,
   "metadata": {
    "colab": {},
    "colab_type": "code",
    "id": "W04UhoK8GWv6"
   },
   "outputs": [],
   "source": [
    "# List Length\n",
    "print(len(thislist))"
   ]
  },
  {
   "cell_type": "code",
   "execution_count": null,
   "metadata": {
    "colab": {},
    "colab_type": "code",
    "id": "zpdawfhAGfEx"
   },
   "outputs": [],
   "source": [
    "# Add Items\n",
    "thislist.append(\"watermelon\")\n",
    "print(thislist)"
   ]
  },
  {
   "cell_type": "code",
   "execution_count": null,
   "metadata": {
    "colab": {},
    "colab_type": "code",
    "id": "l5waBkLHGn-R"
   },
   "outputs": [],
   "source": [
    "# To add an item at the specified index, use the insert() method:\n",
    "thislist.insert(1, \"pear\")\n",
    "print(thislist)"
   ]
  },
  {
   "cell_type": "code",
   "execution_count": null,
   "metadata": {
    "colab": {},
    "colab_type": "code",
    "id": "MR8UOlrqPf74"
   },
   "outputs": [],
   "source": [
    "# EXTENDING\n",
    "# The extend() method adds the specified list elements (or any iterable) to \n",
    "# the end of the current list.\n",
    "fruits = ['apple', 'banana', 'cherry']\n",
    "morefruits = ['watermelon', 'pear', 'orange','grape']\n",
    "\n",
    "fruits.extend(morefruits)\n",
    "print(fruits)"
   ]
  },
  {
   "cell_type": "code",
   "execution_count": null,
   "metadata": {
    "colab": {},
    "colab_type": "code",
    "id": "p6LVwgw-GrUp"
   },
   "outputs": [],
   "source": [
    "# Remove Item\n",
    "thislist.remove(\"banana\")\n",
    "print(thislist)"
   ]
  },
  {
   "cell_type": "code",
   "execution_count": null,
   "metadata": {
    "colab": {},
    "colab_type": "code",
    "id": "t5HHuMYLGzbB"
   },
   "outputs": [],
   "source": [
    "#  Remove Item-Method 2\n",
    "# The pop() method removes the specified index, (or the last item if index is not specified):\n",
    "thislist = [\"apple\", \"banana\", \"cherry\"]\n",
    "thislist.pop()\n",
    "print(thislist)"
   ]
  },
  {
   "cell_type": "code",
   "execution_count": null,
   "metadata": {
    "colab": {},
    "colab_type": "code",
    "id": "74JNbRLxG6zh"
   },
   "outputs": [],
   "source": [
    "# The del keyword can also delete the list completely:\n",
    "del thislist\n",
    "# print(thislist)   # will give an error message"
   ]
  },
  {
   "cell_type": "code",
   "execution_count": null,
   "metadata": {
    "colab": {},
    "colab_type": "code",
    "id": "MymN-cwtHHdh"
   },
   "outputs": [],
   "source": [
    "# The clear() method empties the list:\n",
    "thislist = [\"apple\", \"banana\", \"cherry\"]\n",
    "thislist.clear()\n",
    "print(thislist)"
   ]
  },
  {
   "cell_type": "code",
   "execution_count": null,
   "metadata": {
    "colab": {},
    "colab_type": "code",
    "id": "xUUyxYZqHQDR"
   },
   "outputs": [],
   "source": [
    "# COPYING A LIST\n",
    "# You cannot copy a list simply by typing list2 = list1, \n",
    "# because: list2 will only be a reference to list1, and changes \n",
    "# made in list1 will automatically also be made in list2.\n",
    "# \n",
    "# There are ways to make a copy, one way is to use the built-in List method copy().\n",
    "thislist = [\"apple\", \"banana\", \"cherry\"]\n",
    "mylist = thislist.copy()\n",
    "print(mylist)"
   ]
  },
  {
   "cell_type": "code",
   "execution_count": null,
   "metadata": {
    "colab": {},
    "colab_type": "code",
    "id": "OSWouJHvHdC5"
   },
   "outputs": [],
   "source": [
    "# Another way to make a copy is to use the built-in method list().\n",
    "thislist = [\"apple\", \"banana\", \"cherry\"]\n",
    "mylist = list(thislist)\n",
    "print(mylist)"
   ]
  },
  {
   "cell_type": "code",
   "execution_count": null,
   "metadata": {
    "colab": {},
    "colab_type": "code",
    "id": "iJ3kTyccHiNx"
   },
   "outputs": [],
   "source": [
    "# sorting (alphebatical order)\n",
    "thislist = [\"watermelon\",\"apple\", \"cherry\", \"banana\"]\n",
    "thislist.sort()\n",
    "print(thislist)"
   ]
  },
  {
   "cell_type": "code",
   "execution_count": null,
   "metadata": {
    "colab": {},
    "colab_type": "code",
    "id": "ywd_EBdEHwKY"
   },
   "outputs": [],
   "source": [
    "# reverse ordering \n",
    "thislist = [\"watermelon\",\"apple\", \"cherry\", \"banana\"]\n",
    "thislist.reverse()\n",
    "print(thislist)"
   ]
  },
  {
   "cell_type": "code",
   "execution_count": null,
   "metadata": {
    "colab": {},
    "colab_type": "code",
    "id": "5f1WD4ywIS4Q"
   },
   "outputs": [],
   "source": [
    "# COUNTING\n",
    "names = [\"Adam\",\"Michael\",\"Susan\",\"Leo\",\"Adam\",\"Marry\",\"Heather\"]\n",
    "names.count(\"Adam\")"
   ]
  },
  {
   "cell_type": "code",
   "execution_count": null,
   "metadata": {
    "colab": {},
    "colab_type": "code",
    "id": "t364VaQzOxm9"
   },
   "outputs": [],
   "source": [
    "# Indexing\n",
    "# The index() method finds the first occurrence of the specified value.\n",
    "# The index() method raises an exception if the value is not found.\n",
    "names = [\"Adam\",\"Michael\",\"Susan\",\"Leo\",\"Adam\",\"Marry\",\"Heather\"]\n",
    "names.index(\"Adam\")"
   ]
  },
  {
   "cell_type": "code",
   "execution_count": null,
   "metadata": {
    "colab": {},
    "colab_type": "code",
    "id": "3WOLjmqzbe5q"
   },
   "outputs": [],
   "source": [
    "names.index(\"Susan\")"
   ]
  },
  {
   "cell_type": "code",
   "execution_count": null,
   "metadata": {
    "colab": {},
    "colab_type": "code",
    "id": "Mz4scm5Zbh3K"
   },
   "outputs": [],
   "source": [
    "# TUPLEs"
   ]
  },
  {
   "cell_type": "code",
   "execution_count": null,
   "metadata": {
    "colab": {},
    "colab_type": "code",
    "id": "1KtRAJApYnMI"
   },
   "outputs": [],
   "source": [
    "# A tuple is a collection which is ordered and unchangeable. \n",
    "# In Python tuples are written with round brackets.\n",
    "thistuple = (\"apple\", \"banana\", \"cherry\")\n",
    "print(thistuple)"
   ]
  },
  {
   "cell_type": "code",
   "execution_count": null,
   "metadata": {
    "colab": {},
    "colab_type": "code",
    "id": "j-TkbJlVZomP"
   },
   "outputs": [],
   "source": [
    "# Once a tuple is created, you cannot change its values. \n",
    "# Tuples are unchangeable!\n",
    "# You cannot add an item. You cannot extend them.\n",
    "# You cannot remove an item.\n",
    "# You can delete them (using del)"
   ]
  },
  {
   "cell_type": "code",
   "execution_count": null,
   "metadata": {
    "colab": {},
    "colab_type": "code",
    "id": "ry4lbvMDZywB"
   },
   "outputs": [],
   "source": [
    "# Access Tuple Items (similar to lists)\n",
    "thistuple = (\"apple\", \"banana\", \"cherry\")\n",
    "print(thistuple[1])"
   ]
  },
  {
   "cell_type": "code",
   "execution_count": null,
   "metadata": {
    "colab": {},
    "colab_type": "code",
    "id": "RHct0z7yZ21B"
   },
   "outputs": [],
   "source": [
    "# Loop Through a Tuple (similar to lists)\n",
    "thistuple = (\"apple\", \"banana\", \"cherry\")\n",
    "for x in thistuple:\n",
    "  print(x)"
   ]
  },
  {
   "cell_type": "code",
   "execution_count": null,
   "metadata": {
    "colab": {},
    "colab_type": "code",
    "id": "38WQkntpZ8Qp"
   },
   "outputs": [],
   "source": [
    "# Check if Item Exists (similar to lists)\n",
    "thistuple = (\"apple\", \"banana\", \"cherry\")\n",
    "anitem = \"apple\"\n",
    "if anitem in thistuple:\n",
    "  print(\"Yes,\", anitem,\"is in this tuple\")\n",
    "else:\n",
    "  print(\"No,\", anitem,\"is not in this tuple\")  "
   ]
  },
  {
   "cell_type": "code",
   "execution_count": null,
   "metadata": {
    "colab": {},
    "colab_type": "code",
    "id": "ENL0xLifab6B"
   },
   "outputs": [],
   "source": [
    "thistuple = (\"apple\", \"banana\", \"cherry\")\n",
    "anitem = \"grape\"\n",
    "if anitem in thistuple:\n",
    "  print(\"Yes,\", anitem,\"is in this tuple\")\n",
    "else:\n",
    "  print(\"No,\", anitem,\"is not in this tuple\")"
   ]
  },
  {
   "cell_type": "code",
   "execution_count": null,
   "metadata": {
    "colab": {},
    "colab_type": "code",
    "id": "5naCQ73Cagfx"
   },
   "outputs": [],
   "source": [
    "# tuple length (similar to lists)\n",
    "thistuple = (\"apple\", \"banana\", \"cherry\")\n",
    "print(len(thistuple))"
   ]
  },
  {
   "cell_type": "code",
   "execution_count": null,
   "metadata": {
    "colab": {},
    "colab_type": "code",
    "id": "x-72wz2TaolB"
   },
   "outputs": [],
   "source": [
    "# Counting\n",
    "names = (\"Adam\",\"Michael\",\"Susan\",\"Leo\",\"Adam\",\"Marry\",\"Heather\")\n",
    "names.count(\"Adam\")"
   ]
  },
  {
   "cell_type": "code",
   "execution_count": null,
   "metadata": {
    "colab": {},
    "colab_type": "code",
    "id": "xLLQIkWCbGjZ"
   },
   "outputs": [],
   "source": [
    "# Indexing\n",
    "# The index() method finds the first occurrence of the specified value.\n",
    "# The index() method raises an exception if the value is not found.\n",
    "names = (\"Adam\",\"Michael\",\"Susan\",\"Leo\",\"Adam\",\"Marry\",\"Heather\")\n",
    "names.index(\"Adam\")"
   ]
  },
  {
   "cell_type": "code",
   "execution_count": null,
   "metadata": {
    "colab": {},
    "colab_type": "code",
    "id": "7NKhyVovbQgZ"
   },
   "outputs": [],
   "source": [
    "#  COPYING A TUPLE\n",
    "thistuple = (\"apple\", \"banana\", \"cherry\")\n",
    "newtuple = thistuple\n",
    "print(newtuple)"
   ]
  },
  {
   "cell_type": "code",
   "execution_count": null,
   "metadata": {
    "colab": {},
    "colab_type": "code",
    "id": "sCYoomaHeA79"
   },
   "outputs": [],
   "source": [
    "# SETs"
   ]
  },
  {
   "cell_type": "code",
   "execution_count": null,
   "metadata": {
    "colab": {},
    "colab_type": "code",
    "id": "6skR1GoIfyvi"
   },
   "outputs": [],
   "source": [
    "# A set is a collection which is unordered and unindexed. \n",
    "# In Python sets are written with curly brackets.\n",
    "thisset = {\"apple\", \"banana\", \"cherry\"}\n",
    "print(thisset)"
   ]
  },
  {
   "cell_type": "code",
   "execution_count": null,
   "metadata": {
    "colab": {},
    "colab_type": "code",
    "id": "8dleW7Odf7A-"
   },
   "outputs": [],
   "source": [
    "# Access Items\n",
    "# You cannot access items in a set by referring to an index, \n",
    "# since sets are unordered the items has no index.\n",
    "# \n",
    "# But you can loop through the set items using a for loop\n",
    "thisset = {\"apple\", \"banana\", \"cherry\"}\n",
    "for x in thisset:\n",
    "  print(x)"
   ]
  },
  {
   "cell_type": "code",
   "execution_count": null,
   "metadata": {
    "colab": {},
    "colab_type": "code",
    "id": "M3tZuj0UgIto"
   },
   "outputs": [],
   "source": [
    "# and you can ask if a specified value is present in a set, by using the in keyword.\n",
    "thisset = {\"apple\", \"banana\", \"cherry\"}\n",
    "print(\"banana\" in thisset)\n",
    "print(\"grape\" in thisset)"
   ]
  },
  {
   "cell_type": "code",
   "execution_count": null,
   "metadata": {
    "colab": {},
    "colab_type": "code",
    "id": "GknSV5pwgrqB"
   },
   "outputs": [],
   "source": [
    "# Get the Length of a Set\n",
    "# To determine how many items a set has, use the len() method.\n",
    "thisset = {\"apple\", \"banana\", \"cherry\"}\n",
    "print(len(thisset))"
   ]
  },
  {
   "cell_type": "code",
   "execution_count": null,
   "metadata": {
    "colab": {},
    "colab_type": "code",
    "id": "3WtsUKuRgSoZ"
   },
   "outputs": [],
   "source": [
    "# Change Items\n",
    "# Once a set is created, you cannot change its items, but you can add new items.\n",
    "# \n",
    "# Add Items\n",
    "# Method-1: To add one item to a set use the add() method.\n",
    "thisset = {\"apple\", \"banana\", \"cherry\"}\n",
    "thisset.add(\"orange\")\n",
    "print(thisset)"
   ]
  },
  {
   "cell_type": "code",
   "execution_count": null,
   "metadata": {
    "colab": {},
    "colab_type": "code",
    "id": "ehUDQZsBgnHZ"
   },
   "outputs": [],
   "source": [
    "# Add Items\n",
    "# Method-2: To add more than one item to a set use the update() method.\n",
    "thisset = {\"apple\", \"banana\", \"cherry\"}\n",
    "thisset.update([\"orange\", \"mango\", \"grapes\"])\n",
    "print(thisset)"
   ]
  },
  {
   "cell_type": "code",
   "execution_count": null,
   "metadata": {
    "colab": {},
    "colab_type": "code",
    "id": "f0alDGmygyJR"
   },
   "outputs": [],
   "source": [
    "# Remove Item\n",
    "# To remove an item in a set, use the remove(), or the discard() method.\n",
    "thisset = {\"apple\", \"banana\", \"cherry\"}\n",
    "thisset.remove(\"banana\")\n",
    "print(thisset)"
   ]
  },
  {
   "cell_type": "code",
   "execution_count": null,
   "metadata": {
    "colab": {},
    "colab_type": "code",
    "id": "AOUsh262g4MZ"
   },
   "outputs": [],
   "source": [
    "thisset = {\"apple\", \"banana\", \"cherry\"}\n",
    "thisset.discard(\"banana\")\n",
    "print(thisset)"
   ]
  },
  {
   "cell_type": "code",
   "execution_count": null,
   "metadata": {
    "colab": {},
    "colab_type": "code",
    "id": "jvxWIK4sg6Tp"
   },
   "outputs": [],
   "source": [
    "# What is the difference between remove and discard\n",
    "#  If the item to remove does not exist, \n",
    "# #  remove() will raise an error but\n",
    "# # discard() will NOT raise an error."
   ]
  },
  {
   "cell_type": "code",
   "execution_count": null,
   "metadata": {
    "colab": {},
    "colab_type": "code",
    "id": "Yvf7pqAehKp5"
   },
   "outputs": [],
   "source": [
    "# Remove an item by using the pop() method:\n",
    "thisset = {\"apple\", \"banana\", \"cherry\"}\n",
    "x = thisset.pop()\n",
    "print(x)\n",
    "print(thisset)\n"
   ]
  },
  {
   "cell_type": "code",
   "execution_count": null,
   "metadata": {
    "colab": {},
    "colab_type": "code",
    "id": "4dRmeDChhQ65"
   },
   "outputs": [],
   "source": [
    "# NOTE THAT: Sets are unordered, so when using the \n",
    "# pop() method, you will not know which item that gets removed."
   ]
  },
  {
   "cell_type": "code",
   "execution_count": null,
   "metadata": {
    "colab": {},
    "colab_type": "code",
    "id": "NHfnhMrvhct4"
   },
   "outputs": [],
   "source": [
    "# The clear() method empties the set:\n",
    "thisset = {\"apple\", \"banana\", \"cherry\"}\n",
    "thisset.clear()\n",
    "print(thisset)"
   ]
  },
  {
   "cell_type": "code",
   "execution_count": null,
   "metadata": {
    "colab": {},
    "colab_type": "code",
    "id": "_Rd1Yc8GhgBJ"
   },
   "outputs": [],
   "source": [
    "# the del keyword will delete the set completely:\n",
    "thisset = {\"apple\", \"banana\", \"cherry\"}\n",
    "del thisset"
   ]
  },
  {
   "cell_type": "code",
   "execution_count": null,
   "metadata": {
    "colab": {},
    "colab_type": "code",
    "id": "aSfg_QRAhjmA"
   },
   "outputs": [],
   "source": [
    "# It is also possible to use the set() constructor to make a set.\n",
    "thisset = set((\"apple\", \"banana\", \"cherry\")) \n",
    "# note the double round-brackets\n",
    "print(thisset)"
   ]
  },
  {
   "cell_type": "code",
   "execution_count": null,
   "metadata": {
    "colab": {},
    "colab_type": "code",
    "id": "VF836liChqXA"
   },
   "outputs": [],
   "source": [
    "#  Copying a set\n",
    "fruits = {\"apple\", \"banana\", \"cherry\"}\n",
    "x = fruits.copy()\n",
    "print(x)"
   ]
  },
  {
   "cell_type": "code",
   "execution_count": null,
   "metadata": {
    "colab": {},
    "colab_type": "code",
    "id": "J7bASc8Oh4wg"
   },
   "outputs": [],
   "source": [
    "# Finding the differences between two sets\n",
    "# x.difference(y) method return a set that contains the \n",
    "# items that only exist in set x, and not in set y:\n",
    "x = {\"apple\", \"banana\", \"cherry\"}\n",
    "y = {\"google\", \"microsoft\", \"apple\"}\n",
    "z = x.difference(y) \n",
    "print(z)"
   ]
  },
  {
   "cell_type": "code",
   "execution_count": null,
   "metadata": {
    "colab": {},
    "colab_type": "code",
    "id": "1r3cyGG8iOOR"
   },
   "outputs": [],
   "source": [
    "# Removing the items that exist in both sets\n",
    "x = {\"apple\", \"banana\", \"cherry\"}\n",
    "y = {\"google\", \"microsoft\", \"apple\"}\n",
    "x.difference_update(y) \n",
    "print(x)"
   ]
  },
  {
   "cell_type": "code",
   "execution_count": null,
   "metadata": {
    "colab": {},
    "colab_type": "code",
    "id": "5LxeaQ6EimTh"
   },
   "outputs": [],
   "source": [
    "# note that the difference() method returns a new set, without the unwanted items,\n",
    "# difference_update() method removes the unwanted items from the original set."
   ]
  },
  {
   "cell_type": "code",
   "execution_count": null,
   "metadata": {
    "colab": {},
    "colab_type": "code",
    "id": "_glnrC9vivUx"
   },
   "outputs": [],
   "source": [
    "# Finding the items that exist in two sets\n",
    "x = {\"apple\", \"banana\", \"cherry\"}\n",
    "y = {\"google\", \"microsoft\", \"apple\"}\n",
    "z = x.intersection(y) \n",
    "print(z)"
   ]
  },
  {
   "cell_type": "code",
   "execution_count": null,
   "metadata": {
    "colab": {},
    "colab_type": "code",
    "id": "XNEOj55Li6Fh"
   },
   "outputs": [],
   "source": [
    "# x.intersection_update(y) removes the items that is not present in both x, and set y:\n",
    "x = {\"apple\", \"banana\", \"cherry\"}\n",
    "y = {\"google\", \"microsoft\", \"apple\"}\n",
    "x.intersection_update(y) \n",
    "print(x)"
   ]
  },
  {
   "cell_type": "code",
   "execution_count": null,
   "metadata": {
    "colab": {},
    "colab_type": "code",
    "id": "o-99-YEUjEzB"
   },
   "outputs": [],
   "source": [
    "# again, the intersection() method returns a new set, without the unwanted items\n",
    "# intersection_update() method removes the unwanted items from the original set."
   ]
  },
  {
   "cell_type": "code",
   "execution_count": null,
   "metadata": {
    "colab": {},
    "colab_type": "code",
    "id": "KiYSXyj5jN1w"
   },
   "outputs": [],
   "source": [
    "# Merging sets\n",
    "# union() return a set that contains all items from both sets, duplicates are excluded:\n",
    "x = {\"apple\", \"banana\", \"cherry\"}\n",
    "y = {\"google\", \"microsoft\", \"apple\"}\n",
    "z = x.union(y) \n",
    "print(z)"
   ]
  },
  {
   "cell_type": "code",
   "execution_count": null,
   "metadata": {
    "colab": {},
    "colab_type": "code",
    "id": "RJVW3fccjcVw"
   },
   "outputs": [],
   "source": [
    "# Determining whether two sets are completely different\n",
    "# isdisjoint() return True if no items in set x is present in set y:\n",
    "x = {\"apple\", \"banana\", \"cherry\"}\n",
    "y = {\"google\", \"microsoft\", \"facebook\"}\n",
    "z = x.isdisjoint(y) \n",
    "print(z)"
   ]
  },
  {
   "cell_type": "code",
   "execution_count": null,
   "metadata": {
    "colab": {},
    "colab_type": "code",
    "id": "2qwQTxBrjxf5"
   },
   "outputs": [],
   "source": [
    "x = {\"apple\", \"banana\", \"cherry\"}\n",
    "y = {\"google\", \"microsoft\", \"apple\"}\n",
    "z = x.isdisjoint(y) \n",
    "print(z)"
   ]
  },
  {
   "cell_type": "code",
   "execution_count": null,
   "metadata": {
    "colab": {},
    "colab_type": "code",
    "id": "3AFnjpZkj2Dh"
   },
   "outputs": [],
   "source": [
    "# Determining whether x is a subset of y\n",
    "# issubset() teturns True if all items set x are present in set y:\n",
    "x = {\"a\", \"b\", \"c\"}\n",
    "y = {\"f\", \"e\", \"d\", \"c\", \"b\", \"a\"}\n",
    "z = x.issubset(y) \n",
    "print(z)"
   ]
  },
  {
   "cell_type": "code",
   "execution_count": null,
   "metadata": {
    "colab": {},
    "colab_type": "code",
    "id": "g9Avo-qykBqR"
   },
   "outputs": [],
   "source": [
    "# issuperset() returns True if all items set y are present in set x:\n",
    "x = {\"f\", \"e\", \"d\", \"c\", \"b\", \"a\"}\n",
    "y = {\"a\", \"b\", \"c\"}\n",
    "z = x.issuperset(y) \n",
    "print(z)"
   ]
  },
  {
   "cell_type": "code",
   "execution_count": null,
   "metadata": {
    "colab": {},
    "colab_type": "code",
    "id": "H7f1wWXAkMPB"
   },
   "outputs": [],
   "source": [
    "# DICTIONARIES"
   ]
  },
  {
   "cell_type": "code",
   "execution_count": null,
   "metadata": {
    "colab": {},
    "colab_type": "code",
    "id": "X1pSB2JcpiJO"
   },
   "outputs": [],
   "source": [
    "# A dictionary is a collection which is unordered, changeable and indexed. \n",
    "# In Python dictionaries are written with curly brackets, and they have keys and values.\n",
    "# \n",
    "# There are multiple ways of creating dictionaries\n",
    "# Method-1\n",
    "Days_Eng_Ita = {'Monday':'Lunedi',\n",
    "             'Tuesday':'Martedi',\n",
    "             'Wednesday':'Mercoledi',\n",
    "             'Thursday':'Geovedi',\n",
    "             'Friday':'Venerdi',\n",
    "             'Saturday':'Saboto',\n",
    "             'Sunday':'Domenica'\n",
    "            }"
   ]
  },
  {
   "cell_type": "code",
   "execution_count": null,
   "metadata": {
    "colab": {},
    "colab_type": "code",
    "id": "hXeIJrUoE-r-"
   },
   "outputs": [],
   "source": [
    "# Method-2\n",
    "Days_Eng_Ita = dict([\n",
    "    ('Monday','Lunedi'),\n",
    "    ('Tuesday','Martedi'),\n",
    "    ('Wednesday','Mercoledi'),\n",
    "    ('Thursday','Geovedi'),\n",
    "    ('Friday','Venerdi'),\n",
    "    ('Saturday','Saboto'),\n",
    "    ('Sunday','Domenica')\n",
    "     ])"
   ]
  },
  {
   "cell_type": "code",
   "execution_count": null,
   "metadata": {
    "colab": {},
    "colab_type": "code",
    "id": "WMhTeS1FFr0z"
   },
   "outputs": [],
   "source": [
    "# Method-3\n",
    "Days_Eng_Ita = dict(\n",
    "    Monday='Lunedi',\n",
    "    Tuesday='Martedi',\n",
    "    Wednesday='Mercoledi',\n",
    "    Thursday='Geovedi',\n",
    "    Friday='Venerdi',\n",
    "    Saturday='Saboto',\n",
    "    Sunday='Domenica'\n",
    "    )"
   ]
  },
  {
   "cell_type": "code",
   "execution_count": null,
   "metadata": {
    "colab": {},
    "colab_type": "code",
    "id": "fseabgeCGAb_"
   },
   "outputs": [],
   "source": [
    "type(Days_Eng_Ita)"
   ]
  },
  {
   "cell_type": "code",
   "execution_count": null,
   "metadata": {
    "colab": {},
    "colab_type": "code",
    "id": "5_PUVA9PGE0M"
   },
   "outputs": [],
   "source": [
    "Days_Eng_Ita"
   ]
  },
  {
   "cell_type": "code",
   "execution_count": null,
   "metadata": {
    "colab": {},
    "colab_type": "code",
    "id": "g0idKCCTGGy7"
   },
   "outputs": [],
   "source": [
    "# Accessing Items\n",
    "# You can access the items of a dictionary by referring to its key name, inside square brackets:\n",
    "Days_Eng_Ita['Monday']"
   ]
  },
  {
   "cell_type": "code",
   "execution_count": null,
   "metadata": {
    "colab": {},
    "colab_type": "code",
    "id": "3BswhJ_lPY_o"
   },
   "outputs": [],
   "source": [
    "# There is also a method called get() that will give you the same result:\n",
    "Days_Eng_Ita.get('Monday')"
   ]
  },
  {
   "cell_type": "code",
   "execution_count": null,
   "metadata": {
    "colab": {},
    "colab_type": "code",
    "id": "liOMaMlpGJjP"
   },
   "outputs": [],
   "source": [
    "#  CHANGING VALUES\n",
    "# You can change the value of a specific item by referring to its key name.\n",
    "#\n",
    "# There is a typo in one of the days: Thursday. It should be Giovedi\n",
    "# Let's update our library\n",
    "Days_Eng_Ita['Thursday'] = 'Giovedi'"
   ]
  },
  {
   "cell_type": "code",
   "execution_count": null,
   "metadata": {
    "colab": {},
    "colab_type": "code",
    "id": "zlAi0nv7Go3r"
   },
   "outputs": [],
   "source": [
    "Days_Eng_Ita"
   ]
  },
  {
   "cell_type": "code",
   "execution_count": null,
   "metadata": {
    "colab": {},
    "colab_type": "code",
    "id": "DFF-qCuKGqpl"
   },
   "outputs": [],
   "source": [
    "# We can also build a dictionary incrementally\n",
    "person = {}\n",
    "person['fname'] = 'Jon'\n",
    "person['lname'] = 'Snow'\n",
    "person['age'] = 27\n",
    "person['spouse'] = 'Ygritte'\n",
    "person['relatives'] = ['Ned', 'Robb', 'Sansa','Arya']\n",
    "person['pets'] = {'dog': 'Ghost', 'dragon': 'Drogon'}"
   ]
  },
  {
   "cell_type": "code",
   "execution_count": null,
   "metadata": {
    "colab": {},
    "colab_type": "code",
    "id": "gvoKV-raNlEk"
   },
   "outputs": [],
   "source": [
    "person"
   ]
  },
  {
   "cell_type": "code",
   "execution_count": null,
   "metadata": {
    "colab": {},
    "colab_type": "code",
    "id": "67mrXY3lNnk4"
   },
   "outputs": [],
   "source": [
    "person['fname']\n"
   ]
  },
  {
   "cell_type": "code",
   "execution_count": null,
   "metadata": {
    "colab": {},
    "colab_type": "code",
    "id": "0OrFuPk-Nrx1"
   },
   "outputs": [],
   "source": [
    "person['relatives']"
   ]
  },
  {
   "cell_type": "code",
   "execution_count": null,
   "metadata": {
    "colab": {},
    "colab_type": "code",
    "id": "x6NG2x8JNxS-"
   },
   "outputs": [],
   "source": [
    "# Retrieving the values in the sublist or subdictionary requires an additional index or key:\n",
    "person['relatives'][0]"
   ]
  },
  {
   "cell_type": "code",
   "execution_count": null,
   "metadata": {
    "colab": {},
    "colab_type": "code",
    "id": "3TCe1swRNyIw"
   },
   "outputs": [],
   "source": [
    "person['relatives'][-1]"
   ]
  },
  {
   "cell_type": "code",
   "execution_count": null,
   "metadata": {
    "colab": {},
    "colab_type": "code",
    "id": "eeE6HLApNy1D"
   },
   "outputs": [],
   "source": [
    "person['pets']['dog']"
   ]
  },
  {
   "cell_type": "code",
   "execution_count": null,
   "metadata": {
    "colab": {},
    "colab_type": "code",
    "id": "IWrQrBvsN2fu"
   },
   "outputs": [],
   "source": [
    "# Loop Through a Dictionary\n",
    "# Print all key names in the dictionary, one by one:\n",
    "for x in person:\n",
    "  print(x)"
   ]
  },
  {
   "cell_type": "code",
   "execution_count": null,
   "metadata": {
    "colab": {},
    "colab_type": "code",
    "id": "jT__HzzQPyzP"
   },
   "outputs": [],
   "source": [
    "# Print all values in the dictionary, one by one:\n",
    "for x in person:\n",
    "  print(person[x])"
   ]
  },
  {
   "cell_type": "code",
   "execution_count": null,
   "metadata": {
    "colab": {},
    "colab_type": "code",
    "id": "lqE1TV9yP4Vy"
   },
   "outputs": [],
   "source": [
    "# You can also use the values() function to return values of a dictionary:\n",
    "for x in person.values():\n",
    "  print(x)"
   ]
  },
  {
   "cell_type": "code",
   "execution_count": null,
   "metadata": {
    "colab": {},
    "colab_type": "code",
    "id": "S4_KkzB8P_ho"
   },
   "outputs": [],
   "source": [
    "# Loop through both keys and values, by using the items() function:\n",
    "for x, y in person.items():\n",
    "  print(x, y)"
   ]
  },
  {
   "cell_type": "code",
   "execution_count": null,
   "metadata": {
    "colab": {},
    "colab_type": "code",
    "id": "L18F0xhPQF5G"
   },
   "outputs": [],
   "source": [
    "# Let's change our example dictionary into a more easier one\n",
    "thisdict =\t{\n",
    "  \"brand\": \"Ford\",\n",
    "  \"model\": \"Mustang\",\n",
    "  \"year\": 1964\n",
    "}\n",
    "print(thisdict)"
   ]
  },
  {
   "cell_type": "code",
   "execution_count": null,
   "metadata": {
    "colab": {},
    "colab_type": "code",
    "id": "aRnWs-YzQXFf"
   },
   "outputs": [],
   "source": [
    "# Check if Key Exists\n",
    "key = \"model\"\n",
    "thisdict =\t{\n",
    "  \"brand\": \"Ford\",\n",
    "  \"model\": \"Mustang\",\n",
    "  \"year\": 1964\n",
    "}\n",
    "if key in thisdict:\n",
    "  print(\"Yes,\", key, \"is one of the keys in this dictionary\")\n",
    "else:\n",
    "  print(\"No,\", key, \"is not one of the keys in this dictionary\")"
   ]
  },
  {
   "cell_type": "code",
   "execution_count": null,
   "metadata": {
    "colab": {},
    "colab_type": "code",
    "id": "y3dYnWj1QuPU"
   },
   "outputs": [],
   "source": [
    "key = \"weight\"\n",
    "if key in thisdict:\n",
    "  print(\"Yes,\", key, \"is one of the keys in this dictionary\")\n",
    "else:\n",
    "  print(\"No,\", key, \"is not one of the keys in this dictionary\")"
   ]
  },
  {
   "cell_type": "code",
   "execution_count": null,
   "metadata": {
    "colab": {},
    "colab_type": "code",
    "id": "LPQ633u_QzTS"
   },
   "outputs": [],
   "source": [
    "# Dictionary Length (as usual)\n",
    "# To determine how many items (key-value pairs) a dictionary has, \n",
    "# use the len() method.\n",
    "print(len(thisdict))"
   ]
  },
  {
   "cell_type": "code",
   "execution_count": null,
   "metadata": {
    "colab": {},
    "colab_type": "code",
    "id": "VyO4N-s_Q4yr"
   },
   "outputs": [],
   "source": [
    "# Adding Items\n",
    "# Adding an item to the dictionary is done by using a new index key\n",
    "# and assigning a value to it:\n",
    "thisdict =\t{\n",
    "  \"brand\": \"Ford\",\n",
    "  \"model\": \"Mustang\",\n",
    "  \"year\": 1964\n",
    "}\n",
    "thisdict[\"color\"] = \"red\"\n",
    "print(thisdict)"
   ]
  },
  {
   "cell_type": "code",
   "execution_count": null,
   "metadata": {
    "colab": {},
    "colab_type": "code",
    "id": "kHqPiMBiTqE3"
   },
   "outputs": [],
   "source": [
    "# We can also use update()\n",
    "car = {\n",
    "  \"brand\": \"Ford\",\n",
    "  \"model\": \"Mustang\",\n",
    "  \"year\": 2019\n",
    "}\n",
    "car.update({\"color\": \"White\"})\n",
    "print(car)"
   ]
  },
  {
   "cell_type": "code",
   "execution_count": null,
   "metadata": {
    "colab": {},
    "colab_type": "code",
    "id": "FxyZPZOfRG9L"
   },
   "outputs": [],
   "source": [
    "# Removing Items\n",
    "# There are several methods to remove items from a dictionary.\n",
    "# Method-1: The pop() method removes the item with the specified key name\n",
    "thisdict =\t{\n",
    "  \"brand\": \"Ford\",\n",
    "  \"model\": \"Mustang\",\n",
    "  \"year\": 1964\n",
    "}\n",
    "thisdict.pop(\"model\")\n",
    "print(thisdict)"
   ]
  },
  {
   "cell_type": "code",
   "execution_count": null,
   "metadata": {
    "colab": {},
    "colab_type": "code",
    "id": "srjukYmcROHy"
   },
   "outputs": [],
   "source": [
    "# The popitem() method removes a random item!\n",
    "thisdict =\t{\n",
    "  \"brand\": \"Ford\",\n",
    "  \"model\": \"Mustang\",\n",
    "  \"year\": 1964\n",
    "}\n",
    "thisdict.popitem()\n",
    "print(thisdict)"
   ]
  },
  {
   "cell_type": "code",
   "execution_count": null,
   "metadata": {
    "colab": {},
    "colab_type": "code",
    "id": "4AqaS_CsRb9B"
   },
   "outputs": [],
   "source": [
    "# Removing an item with a specific key\n",
    "# The del keyword removes the item with the specified key name:"
   ]
  },
  {
   "cell_type": "code",
   "execution_count": null,
   "metadata": {
    "colab": {},
    "colab_type": "code",
    "id": "O0pH5NuyRmNZ"
   },
   "outputs": [],
   "source": [
    "thisdict =\t{\n",
    "  \"brand\": \"Ford\",\n",
    "  \"model\": \"Mustang\",\n",
    "  \"year\": 1964\n",
    "}\n",
    "del thisdict[\"model\"]\n",
    "print(thisdict)"
   ]
  },
  {
   "cell_type": "code",
   "execution_count": null,
   "metadata": {
    "colab": {},
    "colab_type": "code",
    "id": "C8WlRMUaRnYG"
   },
   "outputs": [],
   "source": [
    "# The del keyword can also delete the dictionary completely:\n",
    "thisdict =\t{\n",
    "  \"brand\": \"Ford\",\n",
    "  \"model\": \"Mustang\",\n",
    "  \"year\": 1964\n",
    "}\n",
    "del thisdict"
   ]
  },
  {
   "cell_type": "code",
   "execution_count": null,
   "metadata": {
    "colab": {},
    "colab_type": "code",
    "id": "fq3_Kc6xRrkK"
   },
   "outputs": [],
   "source": [
    "# The clear() keyword empties the dictionary:\n",
    "thisdict =\t{\n",
    "  \"brand\": \"Ford\",\n",
    "  \"model\": \"Mustang\",\n",
    "  \"year\": 1964\n",
    "}\n",
    "thisdict.clear()\n",
    "print(thisdict)"
   ]
  },
  {
   "cell_type": "code",
   "execution_count": null,
   "metadata": {
    "colab": {},
    "colab_type": "code",
    "id": "8PQh0yqzRwE-"
   },
   "outputs": [],
   "source": [
    "#  Copying a Dictionary\n",
    "# Same as lists, You cannot copy a dictionary simply by typing dict2 = dict1,\n",
    "# because: dict2 will only be a reference to dict1, and changes made in dict1 \n",
    "# will automatically also be made in dict2.\n",
    "# \n",
    "# There are various ways to make a copy, \n",
    "# one way is to use the built-in Dictionary method copy().\n",
    "thisdict =\t{\n",
    "  \"brand\": \"Ford\",\n",
    "  \"model\": \"Mustang\",\n",
    "  \"year\": 1964\n",
    "}\n",
    "mydict = thisdict.copy()\n",
    "print(mydict)"
   ]
  },
  {
   "cell_type": "code",
   "execution_count": null,
   "metadata": {
    "colab": {},
    "colab_type": "code",
    "id": "S__1MArwR-Wg"
   },
   "outputs": [],
   "source": [
    "# Another way to make a copy is to use the built-in method dict().\n",
    "thisdict =\t{\n",
    "  \"brand\": \"Ford\",\n",
    "  \"model\": \"Mustang\",\n",
    "  \"year\": 1964\n",
    "}\n",
    "mydict = dict(thisdict)\n",
    "print(mydict)"
   ]
  },
  {
   "cell_type": "code",
   "execution_count": null,
   "metadata": {
    "colab": {},
    "colab_type": "code",
    "id": "CPDHrfIASBUA"
   },
   "outputs": [],
   "source": [
    "# Creating a dictionary with keys and a value\n",
    "# vowels keys\n",
    "keys = {'a', 'e', 'i', 'o', 'u' }\n",
    "value = 'vowel'\n",
    "vowels = dict.fromkeys(keys, value)\n",
    "print(vowels)"
   ]
  },
  {
   "cell_type": "code",
   "execution_count": null,
   "metadata": {
    "colab": {},
    "colab_type": "code",
    "id": "N7fU61UdSlDz"
   },
   "outputs": [],
   "source": [
    "# Key-value pairs\n",
    "thisdict = {\n",
    "  \"brand\": \"Ford\",\n",
    "  \"model\": \"Mustang\",\n",
    "  \"year\": 1964\n",
    "}\n",
    "thisdict.items()"
   ]
  },
  {
   "cell_type": "code",
   "execution_count": null,
   "metadata": {
    "colab": {},
    "colab_type": "code",
    "id": "j7Nzv6ZPTa2e"
   },
   "outputs": [],
   "source": [
    "thisdict.keys()"
   ]
  },
  {
   "cell_type": "code",
   "execution_count": null,
   "metadata": {
    "colab": {},
    "colab_type": "code",
    "id": "EcuF1kKUT35M"
   },
   "outputs": [],
   "source": [
    "thisdict.values()"
   ]
  },
  {
   "cell_type": "code",
   "execution_count": null,
   "metadata": {
    "colab": {},
    "colab_type": "code",
    "id": "r4b4_WmsT5Rn"
   },
   "outputs": [],
   "source": []
  }
 ],
 "metadata": {
  "colab": {
   "collapsed_sections": [],
   "name": "02_Python_Collections.ipynb",
   "provenance": [],
   "version": "0.3.2"
  },
  "kernelspec": {
   "display_name": "Python 3",
   "language": "python",
   "name": "python3"
  },
  "language_info": {
   "codemirror_mode": {
    "name": "ipython",
    "version": 3
   },
   "file_extension": ".py",
   "mimetype": "text/x-python",
   "name": "python",
   "nbconvert_exporter": "python",
   "pygments_lexer": "ipython3",
   "version": "3.7.1"
  }
 },
 "nbformat": 4,
 "nbformat_minor": 1
}

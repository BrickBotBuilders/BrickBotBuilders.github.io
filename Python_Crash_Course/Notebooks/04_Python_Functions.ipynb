{
 "cells": [
  {
   "cell_type": "markdown",
   "metadata": {
    "colab_type": "text",
    "id": "n-gJoeoZRXCu"
   },
   "source": [
    "# Functions\n",
    "So far we've been using functions from the builtin module. In this lecture, we'll learn how to write our own functions, how to call them, etc."
   ]
  },
  {
   "cell_type": "code",
   "execution_count": null,
   "metadata": {
    "colab": {
     "base_uri": "https://localhost:8080/",
     "height": 35
    },
    "colab_type": "code",
    "executionInfo": {
     "elapsed": 488,
     "status": "ok",
     "timestamp": 1566154693744,
     "user": {
      "displayName": "Ergun Simsek",
      "photoUrl": "https://lh3.googleusercontent.com/-qBP5H5Ff-uU/AAAAAAAAAAI/AAAAAAAAAAc/lXze-Fwum9g/s64/photo.jpg",
      "userId": "16739529127101354422"
     },
     "user_tz": 240
    },
    "id": "SdCrn0YSRXCv",
    "outputId": "c9cb2b33-c638-47cf-d3a3-976d166112f1"
   },
   "outputs": [],
   "source": [
    "# Occasionally we've accessed functions in other modules using import. For example\n",
    "import random\n",
    "a = random.random()\n",
    "print(a)"
   ]
  },
  {
   "cell_type": "markdown",
   "metadata": {
    "colab_type": "text",
    "id": "Ks8aEMAQRXCz"
   },
   "source": [
    "### Basic function"
   ]
  },
  {
   "cell_type": "code",
   "execution_count": null,
   "metadata": {
    "colab": {},
    "colab_type": "code",
    "id": "T2zykHFcRXCz"
   },
   "outputs": [],
   "source": [
    "# Functions are a block begun with a function declaration or header:\n",
    "def printit():\n",
    "    print(\"Hello UMBC\")"
   ]
  },
  {
   "cell_type": "code",
   "execution_count": null,
   "metadata": {
    "colab": {
     "base_uri": "https://localhost:8080/",
     "height": 35
    },
    "colab_type": "code",
    "executionInfo": {
     "elapsed": 333,
     "status": "ok",
     "timestamp": 1566154775703,
     "user": {
      "displayName": "Ergun Simsek",
      "photoUrl": "https://lh3.googleusercontent.com/-qBP5H5Ff-uU/AAAAAAAAAAI/AAAAAAAAAAc/lXze-Fwum9g/s64/photo.jpg",
      "userId": "16739529127101354422"
     },
     "user_tz": 240
    },
    "id": "UQ0rYcBLRXC2",
    "outputId": "decddfe5-12ee-4cc2-89ac-df72920324ff"
   },
   "outputs": [],
   "source": [
    "# To call this function, we simply write\n",
    "printit()"
   ]
  },
  {
   "cell_type": "code",
   "execution_count": null,
   "metadata": {
    "colab": {},
    "colab_type": "code",
    "id": "h9lR5FT7RXC4"
   },
   "outputs": [],
   "source": [
    "# In a standard script, functions need to be defined before you use them. For example\n",
    "def printit(text):\n",
    "    print('You wrote:', text)"
   ]
  },
  {
   "cell_type": "code",
   "execution_count": null,
   "metadata": {
    "colab": {
     "base_uri": "https://localhost:8080/",
     "height": 52
    },
    "colab_type": "code",
    "executionInfo": {
     "elapsed": 309,
     "status": "ok",
     "timestamp": 1566154854564,
     "user": {
      "displayName": "Ergun Simsek",
      "photoUrl": "https://lh3.googleusercontent.com/-qBP5H5Ff-uU/AAAAAAAAAAI/AAAAAAAAAAc/lXze-Fwum9g/s64/photo.jpg",
      "userId": "16739529127101354422"
     },
     "user_tz": 240
    },
    "id": "NnmVM-T_RXC6",
    "outputId": "acb70848-bae3-4be8-f86a-f4390dd5a775"
   },
   "outputs": [],
   "source": [
    "# You can call a function as many times as you like\n",
    "printit(4)\n",
    "printit(\"How are you?\")"
   ]
  },
  {
   "cell_type": "code",
   "execution_count": null,
   "metadata": {
    "colab": {},
    "colab_type": "code",
    "id": "O4IAiWrARXC9"
   },
   "outputs": [],
   "source": [
    "# For mutable variables, changes inside the function change the variable outside:\n",
    "def printit(text):\n",
    "    text = text + \", Pikachu\" # New text variable created.\n",
    "    print(text)"
   ]
  },
  {
   "cell_type": "code",
   "execution_count": null,
   "metadata": {
    "colab": {
     "base_uri": "https://localhost:8080/",
     "height": 35
    },
    "colab_type": "code",
    "executionInfo": {
     "elapsed": 371,
     "status": "ok",
     "timestamp": 1566154885970,
     "user": {
      "displayName": "Ergun Simsek",
      "photoUrl": "https://lh3.googleusercontent.com/-qBP5H5Ff-uU/AAAAAAAAAAI/AAAAAAAAAAc/lXze-Fwum9g/s64/photo.jpg",
      "userId": "16739529127101354422"
     },
     "user_tz": 240
    },
    "id": "h5zaRPJjRXC_",
    "outputId": "282b9e72-227b-432b-bee6-becefd533073"
   },
   "outputs": [],
   "source": [
    "a = \"I choose you\"\n",
    "printit(a)"
   ]
  },
  {
   "cell_type": "code",
   "execution_count": null,
   "metadata": {
    "colab": {},
    "colab_type": "code",
    "id": "MQMc1T9URXDC"
   },
   "outputs": [],
   "source": [
    "# As text is immutable, the value in the list outside the method is still  \"I choose you\"."
   ]
  },
  {
   "cell_type": "markdown",
   "metadata": {
    "colab_type": "text",
    "id": "6UCWm0KwRXDE"
   },
   "source": [
    "### Passing info in"
   ]
  },
  {
   "cell_type": "code",
   "execution_count": null,
   "metadata": {
    "colab": {},
    "colab_type": "code",
    "id": "cxhn_jgsRXDG"
   },
   "outputs": [],
   "source": [
    "# Python (unlike many languages) doesn't worry about the type passed in\n",
    "def printit(var):\n",
    "    print(str(var))"
   ]
  },
  {
   "cell_type": "code",
   "execution_count": null,
   "metadata": {
    "colab": {
     "base_uri": "https://localhost:8080/",
     "height": 69
    },
    "colab_type": "code",
    "executionInfo": {
     "elapsed": 370,
     "status": "ok",
     "timestamp": 1566154947345,
     "user": {
      "displayName": "Ergun Simsek",
      "photoUrl": "https://lh3.googleusercontent.com/-qBP5H5Ff-uU/AAAAAAAAAAI/AAAAAAAAAAc/lXze-Fwum9g/s64/photo.jpg",
      "userId": "16739529127101354422"
     },
     "user_tz": 240
    },
    "id": "rgkqwgvORXDI",
    "outputId": "22e923bc-9441-4e40-ca18-a8423eb5df70"
   },
   "outputs": [],
   "source": [
    "printit(\"hello world\")\n",
    "printit(430)\n",
    "printit(430.0)"
   ]
  },
  {
   "cell_type": "markdown",
   "metadata": {
    "colab_type": "text",
    "id": "8YFYP_c0RXDM"
   },
   "source": [
    "### Getting values back"
   ]
  },
  {
   "cell_type": "code",
   "execution_count": null,
   "metadata": {
    "colab": {},
    "colab_type": "code",
    "id": "HUrlGh_eRXDN"
   },
   "outputs": [],
   "source": [
    "# By default, functions invisibly return None (you can do so explicitly, as is sometimes useful).\n",
    "# But you can pass values back:\n",
    "#\n",
    "def get_pi():\n",
    "    return 3.14159265359"
   ]
  },
  {
   "cell_type": "code",
   "execution_count": null,
   "metadata": {
    "colab": {
     "base_uri": "https://localhost:8080/",
     "height": 35
    },
    "colab_type": "code",
    "executionInfo": {
     "elapsed": 358,
     "status": "ok",
     "timestamp": 1566155015761,
     "user": {
      "displayName": "Ergun Simsek",
      "photoUrl": "https://lh3.googleusercontent.com/-qBP5H5Ff-uU/AAAAAAAAAAI/AAAAAAAAAAc/lXze-Fwum9g/s64/photo.jpg",
      "userId": "16739529127101354422"
     },
     "user_tz": 240
    },
    "id": "_iiwCRi2RXDP",
    "outputId": "09cb19da-5c7e-41ab-8eba-d33df7dec54a"
   },
   "outputs": [],
   "source": [
    "sdf = get_pi()\n",
    "print(sdf)"
   ]
  },
  {
   "cell_type": "code",
   "execution_count": null,
   "metadata": {
    "colab": {
     "base_uri": "https://localhost:8080/",
     "height": 35
    },
    "colab_type": "code",
    "executionInfo": {
     "elapsed": 351,
     "status": "ok",
     "timestamp": 1566155034515,
     "user": {
      "displayName": "Ergun Simsek",
      "photoUrl": "https://lh3.googleusercontent.com/-qBP5H5Ff-uU/AAAAAAAAAAI/AAAAAAAAAAc/lXze-Fwum9g/s64/photo.jpg",
      "userId": "16739529127101354422"
     },
     "user_tz": 240
    },
    "id": "SedLMngtRXDR",
    "outputId": "7d09eccf-ea81-4040-96de-8ac2eefee515"
   },
   "outputs": [],
   "source": [
    "type(sdf)"
   ]
  },
  {
   "cell_type": "markdown",
   "metadata": {
    "colab_type": "text",
    "id": "Lc1lCxjXRXDT"
   },
   "source": [
    "### Multiple in, Single out"
   ]
  },
  {
   "cell_type": "code",
   "execution_count": null,
   "metadata": {
    "colab": {},
    "colab_type": "code",
    "id": "rrl1i_YNRXDU"
   },
   "outputs": [],
   "source": [
    "def add(num1, num2):\n",
    "    return num1 + num2"
   ]
  },
  {
   "cell_type": "code",
   "execution_count": null,
   "metadata": {
    "colab": {
     "base_uri": "https://localhost:8080/",
     "height": 35
    },
    "colab_type": "code",
    "executionInfo": {
     "elapsed": 322,
     "status": "ok",
     "timestamp": 1566155064317,
     "user": {
      "displayName": "Ergun Simsek",
      "photoUrl": "https://lh3.googleusercontent.com/-qBP5H5Ff-uU/AAAAAAAAAAI/AAAAAAAAAAc/lXze-Fwum9g/s64/photo.jpg",
      "userId": "16739529127101354422"
     },
     "user_tz": 240
    },
    "id": "z7-4ELeERXDW",
    "outputId": "c87ff005-358c-4781-f96b-8c76436120eb"
   },
   "outputs": [],
   "source": [
    "answer = add(20,30)\n",
    "answer"
   ]
  },
  {
   "cell_type": "markdown",
   "metadata": {
    "colab_type": "text",
    "id": "HSFCxQ0WRXDY"
   },
   "source": [
    "### Defaults"
   ]
  },
  {
   "cell_type": "code",
   "execution_count": null,
   "metadata": {
    "colab": {},
    "colab_type": "code",
    "id": "Jg1Sv4GTRXDZ"
   },
   "outputs": [],
   "source": [
    "# You can set up default values if a parameter is missing:\n",
    "def add(num1 = 0, num2 = 5):\n",
    "    return num1 + num2"
   ]
  },
  {
   "cell_type": "code",
   "execution_count": null,
   "metadata": {
    "colab": {
     "base_uri": "https://localhost:8080/",
     "height": 35
    },
    "colab_type": "code",
    "executionInfo": {
     "elapsed": 342,
     "status": "ok",
     "timestamp": 1566155169732,
     "user": {
      "displayName": "Ergun Simsek",
      "photoUrl": "https://lh3.googleusercontent.com/-qBP5H5Ff-uU/AAAAAAAAAAI/AAAAAAAAAAc/lXze-Fwum9g/s64/photo.jpg",
      "userId": "16739529127101354422"
     },
     "user_tz": 240
    },
    "id": "qGL1ElaiRXDb",
    "outputId": "3538c36e-bb89-41c9-b5c6-06013ab554d2"
   },
   "outputs": [],
   "source": [
    "print(add(3))\n",
    "# With this type of parameter, positional arguments are allocated left to right, \n",
    "# so here, num1 is 3, and num2 is nothing."
   ]
  },
  {
   "cell_type": "markdown",
   "metadata": {
    "colab_type": "text",
    "id": "k2eO7_efRXDd"
   },
   "source": [
    "### Keyword arguments"
   ]
  },
  {
   "cell_type": "code",
   "execution_count": null,
   "metadata": {
    "colab": {},
    "colab_type": "code",
    "id": "ZysjPtezRXDe"
   },
   "outputs": [],
   "source": [
    "# You can also name arguments, these are called keyword arguments or kwargs. \n",
    "def funct1(num1=0, num2=0):\n",
    "    return 2*num1 + num2"
   ]
  },
  {
   "cell_type": "code",
   "execution_count": null,
   "metadata": {
    "colab": {
     "base_uri": "https://localhost:8080/",
     "height": 35
    },
    "colab_type": "code",
    "executionInfo": {
     "elapsed": 348,
     "status": "ok",
     "timestamp": 1566155275428,
     "user": {
      "displayName": "Ergun Simsek",
      "photoUrl": "https://lh3.googleusercontent.com/-qBP5H5Ff-uU/AAAAAAAAAAI/AAAAAAAAAAc/lXze-Fwum9g/s64/photo.jpg",
      "userId": "16739529127101354422"
     },
     "user_tz": 240
    },
    "id": "-rpQ1bzZRXDh",
    "outputId": "8f7855ee-4aa4-4ae3-fda3-201011b6cd4f"
   },
   "outputs": [],
   "source": [
    "# Here we will swapp the order of the positional arguments \n",
    "# by naming the parameters to assign their values to.\n",
    "print(funct1(30))"
   ]
  },
  {
   "cell_type": "markdown",
   "metadata": {
    "colab_type": "text",
    "id": "QBq3tKMCRXDj"
   },
   "source": [
    "### Flexible parameterisation: *ARGS"
   ]
  },
  {
   "cell_type": "code",
   "execution_count": null,
   "metadata": {
    "colab": {},
    "colab_type": "code",
    "id": "WmAC_nTORXDk"
   },
   "outputs": [],
   "source": [
    "# You can allow for more positional arguments than you have parameters using *tuple_name\n",
    "def sum (num1, num2, *others):\n",
    "    sum = num1\n",
    "    sum += num2\n",
    "    for num in others:\n",
    "        sum += num\n",
    "    return sum"
   ]
  },
  {
   "cell_type": "code",
   "execution_count": null,
   "metadata": {
    "colab": {
     "base_uri": "https://localhost:8080/",
     "height": 35
    },
    "colab_type": "code",
    "executionInfo": {
     "elapsed": 339,
     "status": "ok",
     "timestamp": 1566155471148,
     "user": {
      "displayName": "Ergun Simsek",
      "photoUrl": "https://lh3.googleusercontent.com/-qBP5H5Ff-uU/AAAAAAAAAAI/AAAAAAAAAAc/lXze-Fwum9g/s64/photo.jpg",
      "userId": "16739529127101354422"
     },
     "user_tz": 240
    },
    "id": "u_hMENgmRXDm",
    "outputId": "a193c2bf-7884-4a72-e8ce-220d893b064d"
   },
   "outputs": [],
   "source": [
    "print(sum(1,2,345,267,27,2,4,727,2782))"
   ]
  },
  {
   "cell_type": "markdown",
   "metadata": {
    "colab_type": "text",
    "id": "RmcocON5RXDp"
   },
   "source": [
    "### Iterable unpacking"
   ]
  },
  {
   "cell_type": "code",
   "execution_count": null,
   "metadata": {
    "colab": {},
    "colab_type": "code",
    "id": "JegPTDsURXDp"
   },
   "outputs": [],
   "source": [
    "# You can equally use the * operator with lists or tuples to generate parameters:\n",
    "def sum(*nums):\n",
    "    sum = 0\n",
    "    for num in nums:\n",
    "        sum += num\n",
    "    return sum"
   ]
  },
  {
   "cell_type": "code",
   "execution_count": null,
   "metadata": {
    "colab": {
     "base_uri": "https://localhost:8080/",
     "height": 35
    },
    "colab_type": "code",
    "executionInfo": {
     "elapsed": 287,
     "status": "ok",
     "timestamp": 1566155526314,
     "user": {
      "displayName": "Ergun Simsek",
      "photoUrl": "https://lh3.googleusercontent.com/-qBP5H5Ff-uU/AAAAAAAAAAI/AAAAAAAAAAc/lXze-Fwum9g/s64/photo.jpg",
      "userId": "16739529127101354422"
     },
     "user_tz": 240
    },
    "id": "pvksPY2URXDt",
    "outputId": "a3105f0a-184b-45d6-d61c-390162abb462"
   },
   "outputs": [],
   "source": [
    "a = [1, 2, 3, 5]\n",
    "print(sum(*a))"
   ]
  },
  {
   "cell_type": "markdown",
   "metadata": {
    "colab_type": "text",
    "id": "fBIj0jZVRXDy"
   },
   "source": [
    "### Flexible parameterisation: *KWARGS"
   ]
  },
  {
   "cell_type": "code",
   "execution_count": null,
   "metadata": {
    "colab": {},
    "colab_type": "code",
    "id": "AxFSvdzvRXDy"
   },
   "outputs": [],
   "source": [
    "# The same can be done with **dict_name (** is the dictionary unpacking operator), \n",
    "# which will make a dictionary from unallocated kwargs\n",
    "def print_details (a, **details):\n",
    "    first = details[\"first\"]\n",
    "    surname = details[\"surname\"]\n",
    "    print (first + \" \" + surname + \" has \" + a + \" pounds of gold\")"
   ]
  },
  {
   "cell_type": "code",
   "execution_count": null,
   "metadata": {
    "colab": {
     "base_uri": "https://localhost:8080/",
     "height": 35
    },
    "colab_type": "code",
    "executionInfo": {
     "elapsed": 351,
     "status": "ok",
     "timestamp": 1566155665623,
     "user": {
      "displayName": "Ergun Simsek",
      "photoUrl": "https://lh3.googleusercontent.com/-qBP5H5Ff-uU/AAAAAAAAAAI/AAAAAAAAAAc/lXze-Fwum9g/s64/photo.jpg",
      "userId": "16739529127101354422"
     },
     "user_tz": 240
    },
    "id": "QbTvOGRWRXD0",
    "outputId": "88ef7a29-e2f8-44f7-b185-744fa525241a"
   },
   "outputs": [],
   "source": [
    "print_details(\"5\", first=\"George\", surname=\"Formby\", age = \"28\")"
   ]
  },
  {
   "cell_type": "code",
   "execution_count": null,
   "metadata": {
    "colab": {},
    "colab_type": "code",
    "id": "EWDWE6pGRXD2"
   },
   "outputs": [],
   "source": [
    "# You can also use ** to create keyword arguments:\n",
    "def print_details(a, first, surname):\n",
    "    print (first + \" \" + surname + \" has \" + a + \" pounds of apple!\")"
   ]
  },
  {
   "cell_type": "code",
   "execution_count": null,
   "metadata": {
    "colab": {
     "base_uri": "https://localhost:8080/",
     "height": 35
    },
    "colab_type": "code",
    "executionInfo": {
     "elapsed": 339,
     "status": "ok",
     "timestamp": 1566155761899,
     "user": {
      "displayName": "Ergun Simsek",
      "photoUrl": "https://lh3.googleusercontent.com/-qBP5H5Ff-uU/AAAAAAAAAAI/AAAAAAAAAAc/lXze-Fwum9g/s64/photo.jpg",
      "userId": "16739529127101354422"
     },
     "user_tz": 240
    },
    "id": "VSrOz_KBRXD4",
    "outputId": "5bad374a-899b-4dda-cf0f-070e87bdaac8"
   },
   "outputs": [],
   "source": [
    "d = {\"first\":\"George\",\"surname\":\"Formby\"}\n",
    "print_details(\"5\",**d)"
   ]
  },
  {
   "cell_type": "markdown",
   "metadata": {
    "colab_type": "text",
    "id": "UyUujEBHRXD6"
   },
   "source": [
    "## Nested functions"
   ]
  },
  {
   "cell_type": "code",
   "execution_count": null,
   "metadata": {
    "colab": {
     "base_uri": "https://localhost:8080/",
     "height": 52
    },
    "colab_type": "code",
    "executionInfo": {
     "elapsed": 330,
     "status": "ok",
     "timestamp": 1566156010391,
     "user": {
      "displayName": "Ergun Simsek",
      "photoUrl": "https://lh3.googleusercontent.com/-qBP5H5Ff-uU/AAAAAAAAAAI/AAAAAAAAAAc/lXze-Fwum9g/s64/photo.jpg",
      "userId": "16739529127101354422"
     },
     "user_tz": 240
    },
    "id": "rntEmVbSRXD7",
    "outputId": "e4507cef-a4c4-4e0d-e462-6096804354ac"
   },
   "outputs": [],
   "source": [
    "# we can create functions within functions:\n",
    "def a():\n",
    "    print(\"1\")\n",
    "    def b():\n",
    "        print(\"2\")         \n",
    "    b()\n",
    "a()\n"
   ]
  },
  {
   "cell_type": "code",
   "execution_count": null,
   "metadata": {
    "colab": {
     "base_uri": "https://localhost:8080/",
     "height": 139
    },
    "colab_type": "code",
    "executionInfo": {
     "elapsed": 355,
     "status": "ok",
     "timestamp": 1566156155190,
     "user": {
      "displayName": "Ergun Simsek",
      "photoUrl": "https://lh3.googleusercontent.com/-qBP5H5Ff-uU/AAAAAAAAAAI/AAAAAAAAAAc/lXze-Fwum9g/s64/photo.jpg",
      "userId": "16739529127101354422"
     },
     "user_tz": 240
    },
    "id": "kVPKbI8wRXD9",
    "outputId": "bcc8b86e-8cb5-4b11-acd8-8e2fd6b94242"
   },
   "outputs": [],
   "source": [
    "a = 0\n",
    "print(a)\n",
    "a = [1] # \"a\" can be declared here\n",
    "for i in 1,2,3,4:\n",
    "    a = [1] # or here.\n",
    "    a[0] = i\n",
    "    print (a) \n",
    "print (a)\n",
    "print (i)"
   ]
  },
  {
   "cell_type": "code",
   "execution_count": null,
   "metadata": {
    "colab": {},
    "colab_type": "code",
    "id": "bLA2GhapRXD_"
   },
   "outputs": [],
   "source": [
    "def a ():\n",
    "    b = 10\n",
    "    print(b)\n",
    "a()\n",
    "print(b) "
   ]
  },
  {
   "cell_type": "code",
   "execution_count": null,
   "metadata": {
    "colab": {
     "base_uri": "https://localhost:8080/",
     "height": 69
    },
    "colab_type": "code",
    "executionInfo": {
     "elapsed": 366,
     "status": "ok",
     "timestamp": 1566156219446,
     "user": {
      "displayName": "Ergun Simsek",
      "photoUrl": "https://lh3.googleusercontent.com/-qBP5H5Ff-uU/AAAAAAAAAAI/AAAAAAAAAAc/lXze-Fwum9g/s64/photo.jpg",
      "userId": "16739529127101354422"
     },
     "user_tz": 240
    },
    "id": "nhBa7aaxRXEA",
    "outputId": "2a0836be-97ed-4fbd-e71c-8c81008de46d"
   },
   "outputs": [],
   "source": [
    "b = 10\n",
    "def a():\n",
    "    print(b)\n",
    "a()\n",
    "print('______________')\n",
    "print(b)"
   ]
  },
  {
   "cell_type": "code",
   "execution_count": null,
   "metadata": {
    "colab": {
     "base_uri": "https://localhost:8080/",
     "height": 69
    },
    "colab_type": "code",
    "executionInfo": {
     "elapsed": 329,
     "status": "ok",
     "timestamp": 1566156277760,
     "user": {
      "displayName": "Ergun Simsek",
      "photoUrl": "https://lh3.googleusercontent.com/-qBP5H5Ff-uU/AAAAAAAAAAI/AAAAAAAAAAc/lXze-Fwum9g/s64/photo.jpg",
      "userId": "16739529127101354422"
     },
     "user_tz": 240
    },
    "id": "mFvwxHnDRXEC",
    "outputId": "24e3904b-a4db-4404-c0bc-cd4a9d422a5e"
   },
   "outputs": [],
   "source": [
    "b = 10\n",
    "def a ():\n",
    "    b = 20\n",
    "    print(b) \n",
    "print(b)\n",
    "a()\n",
    "print(b)"
   ]
  },
  {
   "cell_type": "code",
   "execution_count": null,
   "metadata": {
    "colab": {},
    "colab_type": "code",
    "id": "LaNX_tAORXED"
   },
   "outputs": [],
   "source": [
    "# SUGGESTION: Just use different names \n",
    "# if you don't want to worry about current value of your variables"
   ]
  },
  {
   "cell_type": "markdown",
   "metadata": {
    "colab_type": "text",
    "id": "j4EccnMfRXEF"
   },
   "source": [
    "### Global and Nonlocal"
   ]
  },
  {
   "cell_type": "code",
   "execution_count": null,
   "metadata": {
    "colab": {
     "base_uri": "https://localhost:8080/",
     "height": 69
    },
    "colab_type": "code",
    "executionInfo": {
     "elapsed": 347,
     "status": "ok",
     "timestamp": 1566156451323,
     "user": {
      "displayName": "Ergun Simsek",
      "photoUrl": "https://lh3.googleusercontent.com/-qBP5H5Ff-uU/AAAAAAAAAAI/AAAAAAAAAAc/lXze-Fwum9g/s64/photo.jpg",
      "userId": "16739529127101354422"
     },
     "user_tz": 240
    },
    "id": "MiULvYAIRXEF",
    "outputId": "457e95df-af0f-4efa-9ee5-2af9e1896ea7"
   },
   "outputs": [],
   "source": [
    "b = 10\n",
    "def a ():\n",
    "    global b\n",
    "    b = 20\n",
    "    print(b) \n",
    "#    \n",
    "print(b)\n",
    "a()\n",
    "print(b) # compare this to previous one"
   ]
  },
  {
   "cell_type": "code",
   "execution_count": null,
   "metadata": {
    "colab": {
     "base_uri": "https://localhost:8080/",
     "height": 69
    },
    "colab_type": "code",
    "executionInfo": {
     "elapsed": 417,
     "status": "ok",
     "timestamp": 1566156637300,
     "user": {
      "displayName": "Ergun Simsek",
      "photoUrl": "https://lh3.googleusercontent.com/-qBP5H5Ff-uU/AAAAAAAAAAI/AAAAAAAAAAc/lXze-Fwum9g/s64/photo.jpg",
      "userId": "16739529127101354422"
     },
     "user_tz": 240
    },
    "id": "0YCqkL2GRXEH",
    "outputId": "54cf7905-a7e5-4f82-f07e-100705817da0"
   },
   "outputs": [],
   "source": [
    "a = 1\n",
    "def f1():\n",
    "    a = 2\n",
    "    def f2():\n",
    "        a = 3\n",
    "        print(a)\n",
    "    f2()\n",
    "    print(a) \n",
    "f1()\n",
    "print(a)"
   ]
  },
  {
   "cell_type": "code",
   "execution_count": null,
   "metadata": {
    "colab": {
     "base_uri": "https://localhost:8080/",
     "height": 69
    },
    "colab_type": "code",
    "executionInfo": {
     "elapsed": 334,
     "status": "ok",
     "timestamp": 1566156761147,
     "user": {
      "displayName": "Ergun Simsek",
      "photoUrl": "https://lh3.googleusercontent.com/-qBP5H5Ff-uU/AAAAAAAAAAI/AAAAAAAAAAc/lXze-Fwum9g/s64/photo.jpg",
      "userId": "16739529127101354422"
     },
     "user_tz": 240
    },
    "id": "yhSC_d1WRXEJ",
    "outputId": "b180808c-ae30-48ab-d20c-6e4125f4e72f"
   },
   "outputs": [],
   "source": [
    "a = 1\n",
    "def f1():\n",
    "    a = 2\n",
    "    def f2():\n",
    "        nonlocal a\n",
    "        a = 3\n",
    "        print(a) \n",
    "    f2()\n",
    "    print(a) \n",
    "f1()\n",
    "print(a)"
   ]
  },
  {
   "cell_type": "markdown",
   "metadata": {
    "colab_type": "text",
    "id": "qAP_hjIzRXEK"
   },
   "source": [
    "### PyDoc \n",
    "PyDoc is the documentation system distributed with Python. "
   ]
  },
  {
   "cell_type": "code",
   "execution_count": null,
   "metadata": {
    "colab": {},
    "colab_type": "code",
    "id": "ZglMI-l1RXEL"
   },
   "outputs": [],
   "source": [
    "help(print)"
   ]
  },
  {
   "cell_type": "code",
   "execution_count": null,
   "metadata": {
    "colab": {},
    "colab_type": "code",
    "id": "GV7uUvnoRXEN"
   },
   "outputs": [],
   "source": [
    "print(sorted.__doc__)"
   ]
  },
  {
   "cell_type": "code",
   "execution_count": null,
   "metadata": {
    "colab": {},
    "colab_type": "code",
    "id": "ZQ_Ey70IRXEO"
   },
   "outputs": [],
   "source": []
  }
 ],
 "metadata": {
  "colab": {
   "collapsed_sections": [
    "Ks8aEMAQRXCz",
    "6UCWm0KwRXDE",
    "8YFYP_c0RXDM",
    "Lc1lCxjXRXDT",
    "HSFCxQ0WRXDY",
    "k2eO7_efRXDd",
    "QBq3tKMCRXDj",
    "RmcocON5RXDp",
    "fBIj0jZVRXDy",
    "j4EccnMfRXEF",
    "qAP_hjIzRXEK"
   ],
   "name": "04_Python_Functions.ipynb",
   "provenance": [],
   "version": "0.3.2"
  },
  "kernelspec": {
   "display_name": "Python 3",
   "language": "python",
   "name": "python3"
  },
  "language_info": {
   "codemirror_mode": {
    "name": "ipython",
    "version": 3
   },
   "file_extension": ".py",
   "mimetype": "text/x-python",
   "name": "python",
   "nbconvert_exporter": "python",
   "pygments_lexer": "ipython3",
   "version": "3.7.1"
  }
 },
 "nbformat": 4,
 "nbformat_minor": 1
}
